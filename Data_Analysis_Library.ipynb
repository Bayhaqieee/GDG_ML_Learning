{
  "nbformat": 4,
  "nbformat_minor": 0,
  "metadata": {
    "colab": {
      "provenance": [],
      "authorship_tag": "ABX9TyMn7EwHL3Wi2GHa+YFhK9D/",
      "include_colab_link": true
    },
    "kernelspec": {
      "name": "python3",
      "display_name": "Python 3"
    },
    "language_info": {
      "name": "python"
    }
  },
  "cells": [
    {
      "cell_type": "markdown",
      "metadata": {
        "id": "view-in-github",
        "colab_type": "text"
      },
      "source": [
        "<a href=\"https://colab.research.google.com/github/Bayhaqieee/GDG_ML_Learning/blob/main/Data_Analysis_Library.ipynb\" target=\"_parent\"><img src=\"https://colab.research.google.com/assets/colab-badge.svg\" alt=\"Open In Colab\"/></a>"
      ]
    },
    {
      "cell_type": "code",
      "source": [],
      "metadata": {
        "id": "aTSMk9Aglux0"
      },
      "execution_count": null,
      "outputs": []
    },
    {
      "cell_type": "markdown",
      "source": [
        "#Data Analysis Library Introduction\n",
        "------------------------------------\n",
        "##Data Management Library\n",
        "\n",
        "Untuk mendukung proses pengolahan dan analisis data, Python memiliki banyak libraries dan tools yang bersifat open-source dan dapat digunakan secara bebas.\n",
        "\n",
        "Berikut merupakan tiga libraries yang paling sering digunakan untuk mengolah data.\n",
        "\n",
        "------------------------------------"
      ],
      "metadata": {
        "id": "jD5ADqgvj1Lu"
      }
    },
    {
      "cell_type": "markdown",
      "source": [
        "##NumPy\n",
        "\n",
        "NumPy (singkatan dari *numerical Python*) merupakan salah satu library Python yang sangat powerful untuk membuat dan mengolah *multi-dimensional arrays* (sering juga disebut sebagai matriks atau tensor)."
      ],
      "metadata": {
        "id": "BSmZE6bMlCQD"
      }
    },
    {
      "cell_type": "markdown",
      "source": [
        "-----------------------------------------\n",
        "\n",
        "Perlu ingat bahwa NumPy bukan merupakan **Library bawaan Python** sehingga perlu diinstal terlebih dahulu. Anda dapat menginstal NumPy menggunakan package manager seperti `!pip` ataupun `conda`."
      ],
      "metadata": {
        "id": "Jh9Pfiy0pfIb"
      }
    },
    {
      "cell_type": "code",
      "execution_count": 1,
      "metadata": {
        "colab": {
          "base_uri": "https://localhost:8080/"
        },
        "id": "zHc2uIDgjGHd",
        "outputId": "e7b29cdb-2ddd-41d1-a162-74037c937d62"
      },
      "outputs": [
        {
          "output_type": "stream",
          "name": "stdout",
          "text": [
            "Requirement already satisfied: numpy in /usr/local/lib/python3.11/dist-packages (1.26.4)\n"
          ]
        }
      ],
      "source": [
        "!pip install numpy"
      ]
    },
    {
      "cell_type": "code",
      "source": [
        "import numpy as np\n",
        "array_1 = np.array([2, 3, 6, 5])\n",
        "array_1"
      ],
      "metadata": {
        "colab": {
          "base_uri": "https://localhost:8080/"
        },
        "id": "P4W2qU25lyiy",
        "outputId": "0bfae007-966b-4496-9581-3ecc086783f4"
      },
      "execution_count": 4,
      "outputs": [
        {
          "output_type": "execute_result",
          "data": {
            "text/plain": [
              "array([2, 3, 6, 5])"
            ]
          },
          "metadata": {},
          "execution_count": 4
        }
      ]
    },
    {
      "cell_type": "markdown",
      "source": [
        "Untuk mendukung tujuan tersebut, NumPy hadir dengan banyak fungsi bawaan yang memungkinkan kita untuk melakukan berbagai macam operasi matematis mulai dari yang sederhana hingga kompleks, seperti *basic linear algebra, random simulation, Fourier transforms*, dll."
      ],
      "metadata": {
        "id": "fGh42CB8pIFt"
      }
    },
    {
      "cell_type": "code",
      "source": [
        "# Perform operations on the array\n",
        "print(\"This command will add 2 on every Element : \", array_1 + 2)  # Add 2 to each element\n",
        "print(\"This command will Multiply 3 on every Element : \", array_1 * 3)  # Multiply each element by 3\n",
        "print(\"This command will summing all array : \", array_1.sum())  # Calculate the sum of all elements"
      ],
      "metadata": {
        "colab": {
          "base_uri": "https://localhost:8080/"
        },
        "id": "4puET14XpHKr",
        "outputId": "fcab9f9a-b607-4a4e-c3a8-95c75d71d117"
      },
      "execution_count": 9,
      "outputs": [
        {
          "output_type": "stream",
          "name": "stdout",
          "text": [
            "This command will add 2 on every Element :  [4 5 8 7]\n",
            "This command will Multiply 3 on every Element :  [ 6  9 18 15]\n",
            "This command will asumming all array :  16\n"
          ]
        }
      ]
    },
    {
      "cell_type": "markdown",
      "source": [
        "##Pandas\n",
        "Selain **NumPy**, library lain yang sering digunakan adalah **pandas**. Ia merupakan library Python yang spesifik digunakan untuk memanipulasi dan menganalisis data. Library inilah yang akan kita gunakan sebagai tool utama dalam menganalisis data.\n",
        "\n",
        "\n",
        "-------------------------------"
      ],
      "metadata": {
        "id": "J1Qode04rcKa"
      }
    },
    {
      "cell_type": "markdown",
      "source": [
        "Sama halnya dengan **NumPy**, **pandas** juga bukan library bawaan Python sehingga perlu diinstal terlebih dahulu. Anda dapat menginstal pandas dengan menjalankan salah satu perintah berikut."
      ],
      "metadata": {
        "id": "5o7_UvYitADy"
      }
    },
    {
      "cell_type": "code",
      "source": [
        "!pip install pandas"
      ],
      "metadata": {
        "colab": {
          "base_uri": "https://localhost:8080/"
        },
        "id": "ALVWR6LEmJTK",
        "outputId": "b0ac19c5-8697-4e57-dd39-69ada26028f6"
      },
      "execution_count": 6,
      "outputs": [
        {
          "output_type": "stream",
          "name": "stdout",
          "text": [
            "Requirement already satisfied: pandas in /usr/local/lib/python3.11/dist-packages (2.2.2)\n",
            "Requirement already satisfied: numpy>=1.23.2 in /usr/local/lib/python3.11/dist-packages (from pandas) (1.26.4)\n",
            "Requirement already satisfied: python-dateutil>=2.8.2 in /usr/local/lib/python3.11/dist-packages (from pandas) (2.8.2)\n",
            "Requirement already satisfied: pytz>=2020.1 in /usr/local/lib/python3.11/dist-packages (from pandas) (2025.1)\n",
            "Requirement already satisfied: tzdata>=2022.7 in /usr/local/lib/python3.11/dist-packages (from pandas) (2025.1)\n",
            "Requirement already satisfied: six>=1.5 in /usr/local/lib/python3.11/dist-packages (from python-dateutil>=2.8.2->pandas) (1.17.0)\n"
          ]
        }
      ]
    },
    {
      "cell_type": "code",
      "source": [
        "import pandas as pd\n",
        "\n",
        "# Create a Pandas DataFrame\n",
        "data = {'Name': ['Alice', 'Bob', 'Charlie'],\n",
        "        'Age': [25, 30, 28],\n",
        "        'City': ['New York', 'London', 'Paris']}\n",
        "df = pd.DataFrame(data)\n",
        "print(df)\n",
        "\n",
        "# Access data in the DataFrame\n",
        "df = pd.DataFrame(data)\n",
        "df\n",
        "print(\"\")\n",
        "print(df.iloc[0])  # Access the first row"
      ],
      "metadata": {
        "colab": {
          "base_uri": "https://localhost:8080/"
        },
        "id": "3ljYtMUktVgD",
        "outputId": "26fb3e9e-b7ed-4f6c-b569-8a8392f2e697"
      },
      "execution_count": 11,
      "outputs": [
        {
          "output_type": "stream",
          "name": "stdout",
          "text": [
            "      Name  Age      City\n",
            "0    Alice   25  New York\n",
            "1      Bob   30    London\n",
            "2  Charlie   28     Paris\n",
            "\n",
            "Name       Alice\n",
            "Age           25\n",
            "City    New York\n",
            "Name: 0, dtype: object\n"
          ]
        }
      ]
    },
    {
      "cell_type": "code",
      "source": [],
      "metadata": {
        "id": "d7jKqE6ltodS"
      },
      "execution_count": null,
      "outputs": []
    }
  ]
}