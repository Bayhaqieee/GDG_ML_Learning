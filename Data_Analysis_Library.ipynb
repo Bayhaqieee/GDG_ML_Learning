{
  "nbformat": 4,
  "nbformat_minor": 0,
  "metadata": {
    "colab": {
      "provenance": [],
      "authorship_tag": "ABX9TyNrXcRGaaybNDPLQkBzOIvK",
      "include_colab_link": true
    },
    "kernelspec": {
      "name": "python3",
      "display_name": "Python 3"
    },
    "language_info": {
      "name": "python"
    }
  },
  "cells": [
    {
      "cell_type": "markdown",
      "metadata": {
        "id": "view-in-github",
        "colab_type": "text"
      },
      "source": [
        "<a href=\"https://colab.research.google.com/github/Bayhaqieee/GDG_ML_Learning/blob/main/Data_Analysis_Library.ipynb\" target=\"_parent\"><img src=\"https://colab.research.google.com/assets/colab-badge.svg\" alt=\"Open In Colab\"/></a>"
      ]
    },
    {
      "cell_type": "code",
      "source": [],
      "metadata": {
        "id": "aTSMk9Aglux0"
      },
      "execution_count": null,
      "outputs": []
    },
    {
      "cell_type": "markdown",
      "source": [
        "#Data Analysis Library - Management\n",
        "------------------------------------"
      ],
      "metadata": {
        "id": "KSUp2SOCzXkq"
      }
    },
    {
      "cell_type": "markdown",
      "source": [
        "##Data Management Library\n",
        "\n",
        "Untuk mendukung proses pengolahan dan analisis data, Python memiliki banyak libraries dan tools yang bersifat open-source dan dapat digunakan secara bebas.\n",
        "\n",
        "Berikut merupakan tiga libraries yang paling sering digunakan untuk mengolah data.\n",
        "\n",
        "------------------------------------"
      ],
      "metadata": {
        "id": "jD5ADqgvj1Lu"
      }
    },
    {
      "cell_type": "markdown",
      "source": [
        "##NumPy\n",
        "\n",
        "NumPy (singkatan dari *numerical Python*) merupakan salah satu library Python yang sangat powerful untuk membuat dan mengolah *multi-dimensional arrays* (sering juga disebut sebagai matriks atau tensor)."
      ],
      "metadata": {
        "id": "BSmZE6bMlCQD"
      }
    },
    {
      "cell_type": "markdown",
      "source": [
        "-----------------------------------------\n",
        "\n",
        "Perlu ingat bahwa NumPy bukan merupakan **Library bawaan Python** sehingga perlu diinstal terlebih dahulu. Anda dapat menginstal NumPy menggunakan package manager seperti `!pip` ataupun `conda`."
      ],
      "metadata": {
        "id": "Jh9Pfiy0pfIb"
      }
    },
    {
      "cell_type": "code",
      "execution_count": 1,
      "metadata": {
        "colab": {
          "base_uri": "https://localhost:8080/"
        },
        "id": "zHc2uIDgjGHd",
        "outputId": "e7b29cdb-2ddd-41d1-a162-74037c937d62"
      },
      "outputs": [
        {
          "output_type": "stream",
          "name": "stdout",
          "text": [
            "Requirement already satisfied: numpy in /usr/local/lib/python3.11/dist-packages (1.26.4)\n"
          ]
        }
      ],
      "source": [
        "!pip install numpy"
      ]
    },
    {
      "cell_type": "code",
      "source": [
        "import numpy as np\n",
        "array_1 = np.array([2, 3, 6, 5])\n",
        "array_1"
      ],
      "metadata": {
        "colab": {
          "base_uri": "https://localhost:8080/"
        },
        "id": "P4W2qU25lyiy",
        "outputId": "0bfae007-966b-4496-9581-3ecc086783f4"
      },
      "execution_count": 4,
      "outputs": [
        {
          "output_type": "execute_result",
          "data": {
            "text/plain": [
              "array([2, 3, 6, 5])"
            ]
          },
          "metadata": {},
          "execution_count": 4
        }
      ]
    },
    {
      "cell_type": "markdown",
      "source": [
        "Untuk mendukung tujuan tersebut, NumPy hadir dengan banyak fungsi bawaan yang memungkinkan kita untuk melakukan berbagai macam operasi matematis mulai dari yang sederhana hingga kompleks, seperti *basic linear algebra, random simulation, Fourier transforms*, dll."
      ],
      "metadata": {
        "id": "fGh42CB8pIFt"
      }
    },
    {
      "cell_type": "code",
      "source": [
        "# Perform operations on the array\n",
        "print(\"This command will add 2 on every Element : \", array_1 + 2)  # Add 2 to each element\n",
        "print(\"This command will Multiply 3 on every Element : \", array_1 * 3)  # Multiply each element by 3\n",
        "print(\"This command will summing all array : \", array_1.sum())  # Calculate the sum of all elements"
      ],
      "metadata": {
        "colab": {
          "base_uri": "https://localhost:8080/"
        },
        "id": "4puET14XpHKr",
        "outputId": "fcab9f9a-b607-4a4e-c3a8-95c75d71d117"
      },
      "execution_count": 9,
      "outputs": [
        {
          "output_type": "stream",
          "name": "stdout",
          "text": [
            "This command will add 2 on every Element :  [4 5 8 7]\n",
            "This command will Multiply 3 on every Element :  [ 6  9 18 15]\n",
            "This command will asumming all array :  16\n"
          ]
        }
      ]
    },
    {
      "cell_type": "markdown",
      "source": [
        "##Pandas\n",
        "Selain **NumPy**, library lain yang sering digunakan adalah **pandas**. Ia merupakan library Python yang spesifik digunakan untuk memanipulasi dan menganalisis data. Library inilah yang akan kita gunakan sebagai tool utama dalam menganalisis data.\n",
        "\n",
        "\n",
        "-------------------------------"
      ],
      "metadata": {
        "id": "J1Qode04rcKa"
      }
    },
    {
      "cell_type": "markdown",
      "source": [
        "Sama halnya dengan **NumPy**, **pandas** juga bukan library bawaan Python sehingga perlu diinstal terlebih dahulu. Anda dapat menginstal pandas dengan menjalankan salah satu perintah berikut."
      ],
      "metadata": {
        "id": "5o7_UvYitADy"
      }
    },
    {
      "cell_type": "code",
      "source": [
        "!pip install pandas"
      ],
      "metadata": {
        "colab": {
          "base_uri": "https://localhost:8080/"
        },
        "id": "ALVWR6LEmJTK",
        "outputId": "b0ac19c5-8697-4e57-dd39-69ada26028f6"
      },
      "execution_count": 6,
      "outputs": [
        {
          "output_type": "stream",
          "name": "stdout",
          "text": [
            "Requirement already satisfied: pandas in /usr/local/lib/python3.11/dist-packages (2.2.2)\n",
            "Requirement already satisfied: numpy>=1.23.2 in /usr/local/lib/python3.11/dist-packages (from pandas) (1.26.4)\n",
            "Requirement already satisfied: python-dateutil>=2.8.2 in /usr/local/lib/python3.11/dist-packages (from pandas) (2.8.2)\n",
            "Requirement already satisfied: pytz>=2020.1 in /usr/local/lib/python3.11/dist-packages (from pandas) (2025.1)\n",
            "Requirement already satisfied: tzdata>=2022.7 in /usr/local/lib/python3.11/dist-packages (from pandas) (2025.1)\n",
            "Requirement already satisfied: six>=1.5 in /usr/local/lib/python3.11/dist-packages (from python-dateutil>=2.8.2->pandas) (1.17.0)\n"
          ]
        }
      ]
    },
    {
      "cell_type": "code",
      "source": [
        "import pandas as pd\n",
        "\n",
        "# Create a Pandas DataFrame\n",
        "data = {'Name': ['Alice', 'Bob', 'Charlie'],\n",
        "        'Age': [25, 30, 28],\n",
        "        'City': ['New York', 'London', 'Paris']}\n",
        "df = pd.DataFrame(data)\n",
        "print(df)\n",
        "\n",
        "# Access data in the DataFrame\n",
        "df = pd.DataFrame(data)\n",
        "df\n",
        "print(\"\")\n",
        "print(df.iloc[0])  # Access the first row"
      ],
      "metadata": {
        "colab": {
          "base_uri": "https://localhost:8080/"
        },
        "id": "3ljYtMUktVgD",
        "outputId": "26fb3e9e-b7ed-4f6c-b569-8a8392f2e697"
      },
      "execution_count": 11,
      "outputs": [
        {
          "output_type": "stream",
          "name": "stdout",
          "text": [
            "      Name  Age      City\n",
            "0    Alice   25  New York\n",
            "1      Bob   30    London\n",
            "2  Charlie   28     Paris\n",
            "\n",
            "Name       Alice\n",
            "Age           25\n",
            "City    New York\n",
            "Name: 0, dtype: object\n"
          ]
        }
      ]
    },
    {
      "cell_type": "markdown",
      "source": [
        "##Scipy\n",
        "Library penting selanjutnya adalah **SciPy** (singkatan dari *Scientific Python*). Ia merupakan library Python yang khusus digunakan untuk kebutuhan komputasi saintifik.\n",
        "\n",
        "-------------------------------\n",
        "\n",
        "**SciPy** juga bukan merupakan library bawaan Python sehingga perlu diinstal terlebih dahulu. Anda dapat menginstal **SciPy** dengan menjalankan salah satu dari perintah berikut."
      ],
      "metadata": {
        "id": "LiLNygfWwrjS"
      }
    },
    {
      "cell_type": "code",
      "source": [
        "!pip install scipy"
      ],
      "metadata": {
        "colab": {
          "base_uri": "https://localhost:8080/"
        },
        "id": "d7jKqE6ltodS",
        "outputId": "86647a79-84f0-4b1d-e960-3334ed16ad87"
      },
      "execution_count": 12,
      "outputs": [
        {
          "output_type": "stream",
          "name": "stdout",
          "text": [
            "Requirement already satisfied: scipy in /usr/local/lib/python3.11/dist-packages (1.13.1)\n",
            "Requirement already satisfied: numpy<2.3,>=1.22.4 in /usr/local/lib/python3.11/dist-packages (from scipy) (1.26.4)\n"
          ]
        }
      ]
    },
    {
      "cell_type": "markdown",
      "source": [
        "Sebagai library yang sering digunakan untuk komputasi saintifik, SciPy menyediakan banyak fungsi yang dapat digunakan untuk menyelesaikan operasi matematis kompleks yang dapat digunakan dalam dunia science dan engineering. Selain itu, SciPy juga menyediakan banyak operasi statistik sehingga dapat membantu kita dalam mengidentifikasi parameter statistik dari suatu data."
      ],
      "metadata": {
        "id": "pXgTXkEEyyiu"
      }
    },
    {
      "cell_type": "code",
      "source": [
        "import scipy.stats as stats\n",
        "\n",
        "# Generate random numbers from a normal distribution\n",
        "data = stats.norm.rvs(loc=0, scale=1, size=100)\n",
        "print(data)\n",
        "\n",
        "# Calculate the mean and standard deviation\n",
        "mean = np.mean(data)\n",
        "std = np.std(data)\n",
        "print(\"Mean:\", mean)\n",
        "print(\"Standard Deviation:\", std)"
      ],
      "metadata": {
        "colab": {
          "base_uri": "https://localhost:8080/"
        },
        "id": "uLH6noqZygBM",
        "outputId": "6d1bc94d-081e-4c5c-942d-dc45a9886dfe"
      },
      "execution_count": 14,
      "outputs": [
        {
          "output_type": "stream",
          "name": "stdout",
          "text": [
            "[ 0.01721458 -0.23272991  1.22178285 -0.24466114  1.24188254  0.58360516\n",
            "  0.71937334 -0.377371    0.25809796  1.25087466 -0.93934179 -0.09856879\n",
            " -0.31002325 -0.14268792 -0.943064   -0.26503774  0.82655483 -1.9664008\n",
            " -0.88301372  0.75512602 -1.93095259  0.84013849  1.39703984  0.86606419\n",
            " -0.47393618  0.3841758   0.23459238  0.59767502 -0.73869683 -0.2423218\n",
            " -2.17248561 -0.44584192  1.43491007  0.5795985  -0.74598814  0.82057377\n",
            "  0.79950976  0.12617114 -1.28745357  0.75739737 -0.02835666  0.20517264\n",
            " -1.16323158 -0.96813193  1.19351686  0.61097895 -1.34856754  0.08629807\n",
            "  0.97386567 -0.12476299 -0.28219241 -0.12697679  2.22786325  0.01219324\n",
            " -0.05725634 -0.44339303 -0.04695174  0.63079975  0.61693184  0.68237913\n",
            " -0.69153477  3.30186961  0.37011986  0.01743213 -0.09878932 -0.29947497\n",
            " -0.83074161  0.83739137  2.68401175  1.11465735  1.23119637 -0.63627192\n",
            "  0.5345256  -0.27253512  1.00976144  0.7803025  -1.51380227 -0.96523237\n",
            " -0.48770854 -0.56446337  0.65632596 -0.91014787  0.84750127  3.29043045\n",
            " -0.48589619  0.51702838 -0.33542536 -0.77620684 -0.40586419 -0.55121077\n",
            "  0.23495066 -2.16379499  0.65023851 -1.23469156 -1.1075048   0.8383219\n",
            " -0.32959666  0.1255118  -0.88027079  1.40496953]\n",
            "Mean: 0.08827342160007177\n",
            "Standard Deviation: 1.0068439074188331\n"
          ]
        }
      ]
    },
    {
      "cell_type": "markdown",
      "source": [
        "#Data Analysis Library - Visualization\n",
        "------------------------------------"
      ],
      "metadata": {
        "id": "rLHaIVVAzkTR"
      }
    },
    {
      "cell_type": "markdown",
      "source": [
        "##Data Visualization Library\n",
        "\n",
        "Pada proses analisis data, selain mengolah data, kita juga perlu merepresentasikan data tersebut ke dalam bentuk visual yang menarik dan mudah dipahami. Nah, pada materi kali ini, kita akan berkenalan dengan berbagai tools visualisasi data yang ada dalam bahasa pemrograman Python.\n",
        "\n",
        "Berikut merupakan dua libraries yang paling sering digunakan untuk mengolah data.\n",
        "\n",
        "------------------------------------"
      ],
      "metadata": {
        "id": "i2kOtELJzFu-"
      }
    },
    {
      "cell_type": "markdown",
      "source": [
        "##Matplotlib\n",
        "\n",
        "**Matplotlib** merupakan sebuah library Python yang reliable dan komprehensif untuk mendukung kebutuhan pembuatan visualisasi data. **Matplotlib** menyediakan banyak object dan method yang memungkinkan kita membuat *visualisasi data statis, animated, dan interaktif*.\n",
        "\n",
        "---\n",
        "\n",
        "Sama halnya dengan berbagai library yang telah kita bahas sebelumnya, **matplotlib** bukan merupakan library bawaan Python sehingga perlu diinstal terlebih dahulu. Anda dapat menginstal **matplotlib** dengan menjalankan salah satu dari perintah berikut."
      ],
      "metadata": {
        "id": "DpFAzwokzuMU"
      }
    },
    {
      "cell_type": "code",
      "source": [
        "!pip install matplotlib"
      ],
      "metadata": {
        "colab": {
          "base_uri": "https://localhost:8080/"
        },
        "id": "5z7WgKd8y00w",
        "outputId": "49433e2c-f4a2-4406-ee7f-28f2d60ec14e"
      },
      "execution_count": 15,
      "outputs": [
        {
          "output_type": "stream",
          "name": "stdout",
          "text": [
            "Requirement already satisfied: matplotlib in /usr/local/lib/python3.11/dist-packages (3.10.0)\n",
            "Requirement already satisfied: contourpy>=1.0.1 in /usr/local/lib/python3.11/dist-packages (from matplotlib) (1.3.1)\n",
            "Requirement already satisfied: cycler>=0.10 in /usr/local/lib/python3.11/dist-packages (from matplotlib) (0.12.1)\n",
            "Requirement already satisfied: fonttools>=4.22.0 in /usr/local/lib/python3.11/dist-packages (from matplotlib) (4.56.0)\n",
            "Requirement already satisfied: kiwisolver>=1.3.1 in /usr/local/lib/python3.11/dist-packages (from matplotlib) (1.4.8)\n",
            "Requirement already satisfied: numpy>=1.23 in /usr/local/lib/python3.11/dist-packages (from matplotlib) (1.26.4)\n",
            "Requirement already satisfied: packaging>=20.0 in /usr/local/lib/python3.11/dist-packages (from matplotlib) (24.2)\n",
            "Requirement already satisfied: pillow>=8 in /usr/local/lib/python3.11/dist-packages (from matplotlib) (11.1.0)\n",
            "Requirement already satisfied: pyparsing>=2.3.1 in /usr/local/lib/python3.11/dist-packages (from matplotlib) (3.2.1)\n",
            "Requirement already satisfied: python-dateutil>=2.7 in /usr/local/lib/python3.11/dist-packages (from matplotlib) (2.8.2)\n",
            "Requirement already satisfied: six>=1.5 in /usr/local/lib/python3.11/dist-packages (from python-dateutil>=2.7->matplotlib) (1.17.0)\n"
          ]
        }
      ]
    },
    {
      "cell_type": "code",
      "source": [
        "import matplotlib.pyplot as plt\n",
        "\n",
        "# Create a simple line plot\n",
        "x = [1, 2, 3, 4, 5]\n",
        "y = [2, 7, 6, 12, 18]\n",
        "\n",
        "# Change the x and y to change the plot\n",
        "plt.plot(x, y)\n",
        "plt.xlabel(\"X-axis\")\n",
        "plt.ylabel(\"Y-axis\")\n",
        "plt.title(\"Simple Line Plot\")\n",
        "plt.show()"
      ],
      "metadata": {
        "colab": {
          "base_uri": "https://localhost:8080/",
          "height": 472
        },
        "id": "mhC0kH1P0Z0P",
        "outputId": "bf2aa96b-3f47-4bdc-dad0-b6fde70ff511"
      },
      "execution_count": 19,
      "outputs": [
        {
          "output_type": "display_data",
          "data": {
            "text/plain": [
              "<Figure size 640x480 with 1 Axes>"
            ],
            "image/png": "[encoded data removed]"
          },
          "metadata": {}
        }
      ]
    },
    {
      "cell_type": "markdown",
      "source": [
        "##Seaborn\n",
        "\n",
        "Selain **matplotlib**, library lain yang sering digunakan untuk visualisasi data adalah **seaborn**. **Seaborn** merupakan library Python yang spesifik digunakan untuk membuat visualisasi data yang *atraktif* dan *informatif*. Library ini memanfaatkan matplotlib untuk menampilkan grafik visualisasi data.\n",
        "\n",
        "---\n",
        "\n",
        "Namun, perlu diingat bahwa untuk menggunakan seaborn, kita perlu menginstalnya terlebih dahulu. Anda dapat melakukannya dengan menjalankan salah satu perintah berikut."
      ],
      "metadata": {
        "id": "oMO-qbdM1E7q"
      }
    },
    {
      "cell_type": "code",
      "source": [
        "!pip install seaborn"
      ],
      "metadata": {
        "colab": {
          "base_uri": "https://localhost:8080/"
        },
        "id": "ocHw5qJZ0eS7",
        "outputId": "6e664be0-d1d3-4b94-90e6-692cb262f180"
      },
      "execution_count": 20,
      "outputs": [
        {
          "output_type": "stream",
          "name": "stdout",
          "text": [
            "Requirement already satisfied: seaborn in /usr/local/lib/python3.11/dist-packages (0.13.2)\n",
            "Requirement already satisfied: numpy!=1.24.0,>=1.20 in /usr/local/lib/python3.11/dist-packages (from seaborn) (1.26.4)\n",
            "Requirement already satisfied: pandas>=1.2 in /usr/local/lib/python3.11/dist-packages (from seaborn) (2.2.2)\n",
            "Requirement already satisfied: matplotlib!=3.6.1,>=3.4 in /usr/local/lib/python3.11/dist-packages (from seaborn) (3.10.0)\n",
            "Requirement already satisfied: contourpy>=1.0.1 in /usr/local/lib/python3.11/dist-packages (from matplotlib!=3.6.1,>=3.4->seaborn) (1.3.1)\n",
            "Requirement already satisfied: cycler>=0.10 in /usr/local/lib/python3.11/dist-packages (from matplotlib!=3.6.1,>=3.4->seaborn) (0.12.1)\n",
            "Requirement already satisfied: fonttools>=4.22.0 in /usr/local/lib/python3.11/dist-packages (from matplotlib!=3.6.1,>=3.4->seaborn) (4.56.0)\n",
            "Requirement already satisfied: kiwisolver>=1.3.1 in /usr/local/lib/python3.11/dist-packages (from matplotlib!=3.6.1,>=3.4->seaborn) (1.4.8)\n",
            "Requirement already satisfied: packaging>=20.0 in /usr/local/lib/python3.11/dist-packages (from matplotlib!=3.6.1,>=3.4->seaborn) (24.2)\n",
            "Requirement already satisfied: pillow>=8 in /usr/local/lib/python3.11/dist-packages (from matplotlib!=3.6.1,>=3.4->seaborn) (11.1.0)\n",
            "Requirement already satisfied: pyparsing>=2.3.1 in /usr/local/lib/python3.11/dist-packages (from matplotlib!=3.6.1,>=3.4->seaborn) (3.2.1)\n",
            "Requirement already satisfied: python-dateutil>=2.7 in /usr/local/lib/python3.11/dist-packages (from matplotlib!=3.6.1,>=3.4->seaborn) (2.8.2)\n",
            "Requirement already satisfied: pytz>=2020.1 in /usr/local/lib/python3.11/dist-packages (from pandas>=1.2->seaborn) (2025.1)\n",
            "Requirement already satisfied: tzdata>=2022.7 in /usr/local/lib/python3.11/dist-packages (from pandas>=1.2->seaborn) (2025.1)\n",
            "Requirement already satisfied: six>=1.5 in /usr/local/lib/python3.11/dist-packages (from python-dateutil>=2.7->matplotlib!=3.6.1,>=3.4->seaborn) (1.17.0)\n"
          ]
        }
      ]
    },
    {
      "cell_type": "code",
      "source": [
        "import seaborn as sns\n",
        "\n",
        "# Create a scatter plot\n",
        "data = {'x': [1, 2, 3, 4, 5],\n",
        "        'y': [2, 8, 6, 3, 10]}\n",
        "\n",
        "# Change the x and y to change the plot\n",
        "df = pd.DataFrame(data)\n",
        "sns.scatterplot(x='x', y='y', data=df)\n",
        "plt.show()"
      ],
      "metadata": {
        "colab": {
          "base_uri": "https://localhost:8080/",
          "height": 449
        },
        "id": "QmS-iTYp2G6r",
        "outputId": "47d81403-6f3d-47bf-ac1d-ea624bd9223e"
      },
      "execution_count": 27,
      "outputs": [
        {
          "output_type": "display_data",
          "data": {
            "text/plain": [
              "<Figure size 640x480 with 1 Axes>"
            ],
            "image/png": "[encoded data removed]"
          },
          "metadata": {}
        }
      ]
    },
    {
      "cell_type": "code",
      "source": [],
      "metadata": {
        "id": "J0YC0oA02ZVl"
      },
      "execution_count": null,
      "outputs": []
    }
  ]
}