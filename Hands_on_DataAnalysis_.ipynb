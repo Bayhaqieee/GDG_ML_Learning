{
  "cells": [
    {
      "cell_type": "code",
      "source": [
        "!pip install kagglehub"
      ],
      "metadata": {
        "colab": {
          "base_uri": "https://localhost:8080/"
        },
        "id": "CfX9p7h8k_HM",
        "outputId": "8bd0e410-313d-4e6c-dbd0-2d20834d5c17"
      },
      "execution_count": 2,
      "outputs": [
        {
          "output_type": "stream",
          "name": "stdout",
          "text": [
            "Requirement already satisfied: kagglehub in /usr/local/lib/python3.11/dist-packages (0.3.10)\n",
            "Requirement already satisfied: packaging in /usr/local/lib/python3.11/dist-packages (from kagglehub) (24.2)\n",
            "Requirement already satisfied: pyyaml in /usr/local/lib/python3.11/dist-packages (from kagglehub) (6.0.2)\n",
            "Requirement already satisfied: requests in /usr/local/lib/python3.11/dist-packages (from kagglehub) (2.32.3)\n",
            "Requirement already satisfied: tqdm in /usr/local/lib/python3.11/dist-packages (from kagglehub) (4.67.1)\n",
            "Requirement already satisfied: charset-normalizer<4,>=2 in /usr/local/lib/python3.11/dist-packages (from requests->kagglehub) (3.4.1)\n",
            "Requirement already satisfied: idna<4,>=2.5 in /usr/local/lib/python3.11/dist-packages (from requests->kagglehub) (3.10)\n",
            "Requirement already satisfied: urllib3<3,>=1.21.1 in /usr/local/lib/python3.11/dist-packages (from requests->kagglehub) (2.3.0)\n",
            "Requirement already satisfied: certifi>=2017.4.17 in /usr/local/lib/python3.11/dist-packages (from requests->kagglehub) (2025.1.31)\n"
          ]
        }
      ]
    },
    {
      "cell_type": "markdown",
      "metadata": {
        "id": "YPVdFsN0a0gY"
      },
      "source": [
        "# Hands On Data Analysis: Vehicle Sales Data\n",
        "- **Team :** Machine Learning GDGoC : Universitas Sriwijaya\n",
        "- **Topic :** Manual Data Analysis\n",
        "- **Notebook Creator :** Aditya Bayhaqie\n",
        "\n",
        "---\n",
        "\n",
        "*Please Copy the Notebook before Running it*\n",
        "\n",
        "---"
      ]
    },
    {
      "cell_type": "markdown",
      "metadata": {
        "id": "RuYvjgjZa0ga"
      },
      "source": [
        "## Menentukan Pertanyaan Bisnis"
      ]
    },
    {
      "cell_type": "markdown",
      "metadata": {
        "id": "uvMAgqX_a0gb"
      },
      "source": [
        "- What factors influence vehicle pricing the most? (e.g., mileage, brand, model, condition, year)\n",
        "- Which car brands/models retain their value best over time?\n",
        "- What are the most common features & specifications consumers look for in a vehicle?"
      ]
    },
    {
      "cell_type": "markdown",
      "metadata": {
        "id": "cw7n6J4oa0gb"
      },
      "source": [
        "#### Importing Library"
      ]
    },
    {
      "cell_type": "code",
      "execution_count": 3,
      "metadata": {
        "id": "lVEOBZ0da0gb"
      },
      "outputs": [],
      "source": [
        "import numpy as np\n",
        "import pandas as pd\n",
        "import matplotlib.pyplot as plt\n",
        "import seaborn as sns\n",
        "import folium\n",
        "from datetime import datetime\n",
        "import kagglehub\n",
        "from kagglehub import KaggleDatasetAdapter"
      ]
    },
    {
      "cell_type": "markdown",
      "metadata": {
        "id": "ejNiF5ARa0gc"
      },
      "source": [
        "## Data Wrangling"
      ]
    },
    {
      "cell_type": "markdown",
      "metadata": {
        "id": "FejG1vtBa0gd"
      },
      "source": [
        "### Gathering Data"
      ]
    },
    {
      "cell_type": "code",
      "source": [
        "! kaggle datasets download syedanwarafridi/vehicle-sales-data"
      ],
      "metadata": {
        "colab": {
          "base_uri": "https://localhost:8080/"
        },
        "id": "S_Ip3ikhlEB2",
        "outputId": "fe1d46d5-e4e8-425f-95f7-481ed0ec7c6a"
      },
      "execution_count": 4,
      "outputs": [
        {
          "output_type": "stream",
          "name": "stdout",
          "text": [
            "Dataset URL: https://www.kaggle.com/datasets/syedanwarafridi/vehicle-sales-data\n",
            "License(s): MIT\n",
            "Downloading vehicle-sales-data.zip to /content\n",
            " 96% 18.0M/18.8M [00:01<00:00, 22.5MB/s]\n",
            "100% 18.8M/18.8M [00:01<00:00, 13.7MB/s]\n"
          ]
        }
      ]
    },
    {
      "cell_type": "code",
      "source": [
        "! unzip vehicle-sales-data.zip # Any Prediction type Competition"
      ],
      "metadata": {
        "colab": {
          "base_uri": "https://localhost:8080/"
        },
        "id": "9DLso7zmje1v",
        "outputId": "611b0e26-3076-4862-d4da-5000c53c1edd"
      },
      "execution_count": 5,
      "outputs": [
        {
          "output_type": "stream",
          "name": "stdout",
          "text": [
            "Archive:  vehicle-sales-data.zip\n",
            "  inflating: car_prices.csv          \n"
          ]
        }
      ]
    },
    {
      "cell_type": "markdown",
      "metadata": {
        "id": "OKcNM4zBa0gd"
      },
      "source": [
        "#### Assigning Data Variables"
      ]
    },
    {
      "cell_type": "code",
      "execution_count": 6,
      "metadata": {
        "id": "91N-H1jya0gd",
        "outputId": "a2a81485-b218-4b01-e2aa-4b88fb5e488a",
        "colab": {
          "base_uri": "https://localhost:8080/",
          "height": 0
        }
      },
      "outputs": [
        {
          "output_type": "execute_result",
          "data": {
            "text/plain": [
              "   year   make                model        trim   body transmission  \\\n",
              "0  2015    Kia              Sorento          LX    SUV    automatic   \n",
              "1  2015    Kia              Sorento          LX    SUV    automatic   \n",
              "2  2014    BMW             3 Series  328i SULEV  Sedan    automatic   \n",
              "3  2015  Volvo                  S60          T5  Sedan    automatic   \n",
              "4  2014    BMW  6 Series Gran Coupe        650i  Sedan    automatic   \n",
              "\n",
              "                 vin state  condition  odometer  color interior  \\\n",
              "0  5xyktca69fg566472    ca        5.0   16639.0  white    black   \n",
              "1  5xyktca69fg561319    ca        5.0    9393.0  white    beige   \n",
              "2  wba3c1c51ek116351    ca       45.0    1331.0   gray    black   \n",
              "3  yv1612tb4f1310987    ca       41.0   14282.0  white    black   \n",
              "4  wba6b2c57ed129731    ca       43.0    2641.0   gray    black   \n",
              "\n",
              "                                   seller      mmr  sellingprice  \\\n",
              "0                 kia motors america  inc  20500.0       21500.0   \n",
              "1                 kia motors america  inc  20800.0       21500.0   \n",
              "2  financial services remarketing (lease)  31900.0       30000.0   \n",
              "3                 volvo na rep/world omni  27500.0       27750.0   \n",
              "4  financial services remarketing (lease)  66000.0       67000.0   \n",
              "\n",
              "                                  saledate  \n",
              "0  Tue Dec 16 2014 12:30:00 GMT-0800 (PST)  \n",
              "1  Tue Dec 16 2014 12:30:00 GMT-0800 (PST)  \n",
              "2  Thu Jan 15 2015 04:30:00 GMT-0800 (PST)  \n",
              "3  Thu Jan 29 2015 04:30:00 GMT-0800 (PST)  \n",
              "4  Thu Dec 18 2014 12:30:00 GMT-0800 (PST)  "
            ],
            "text/html": [
              "\n",
              "  <div id=\"df-69643fe1-9be3-4571-ad5e-5af43d5029a8\" class=\"colab-df-container\">\n",
              "    <div>\n",
              "<style scoped>\n",
              "    .dataframe tbody tr th:only-of-type {\n",
              "        vertical-align: middle;\n",
              "    }\n",
              "\n",
              "    .dataframe tbody tr th {\n",
              "        vertical-align: top;\n",
              "    }\n",
              "\n",
              "    .dataframe thead th {\n",
              "        text-align: right;\n",
              "    }\n",
              "</style>\n",
              "<table border=\"1\" class=\"dataframe\">\n",
              "  <thead>\n",
              "    <tr style=\"text-align: right;\">\n",
              "      <th></th>\n",
              "      <th>year</th>\n",
              "      <th>make</th>\n",
              "      <th>model</th>\n",
              "      <th>trim</th>\n",
              "      <th>body</th>\n",
              "      <th>transmission</th>\n",
              "      <th>vin</th>\n",
              "      <th>state</th>\n",
              "      <th>condition</th>\n",
              "      <th>odometer</th>\n",
              "      <th>color</th>\n",
              "      <th>interior</th>\n",
              "      <th>seller</th>\n",
              "      <th>mmr</th>\n",
              "      <th>sellingprice</th>\n",
              "      <th>saledate</th>\n",
              "    </tr>\n",
              "  </thead>\n",
              "  <tbody>\n",
              "    <tr>\n",
              "      <th>0</th>\n",
              "      <td>2015</td>\n",
              "      <td>Kia</td>\n",
              "      <td>Sorento</td>\n",
              "      <td>LX</td>\n",
              "      <td>SUV</td>\n",
              "      <td>automatic</td>\n",
              "      <td>5xyktca69fg566472</td>\n",
              "      <td>ca</td>\n",
              "      <td>5.0</td>\n",
              "      <td>16639.0</td>\n",
              "      <td>white</td>\n",
              "      <td>black</td>\n",
              "      <td>kia motors america  inc</td>\n",
              "      <td>20500.0</td>\n",
              "      <td>21500.0</td>\n",
              "      <td>Tue Dec 16 2014 12:30:00 GMT-0800 (PST)</td>\n",
              "    </tr>\n",
              "    <tr>\n",
              "      <th>1</th>\n",
              "      <td>2015</td>\n",
              "      <td>Kia</td>\n",
              "      <td>Sorento</td>\n",
              "      <td>LX</td>\n",
              "      <td>SUV</td>\n",
              "      <td>automatic</td>\n",
              "      <td>5xyktca69fg561319</td>\n",
              "      <td>ca</td>\n",
              "      <td>5.0</td>\n",
              "      <td>9393.0</td>\n",
              "      <td>white</td>\n",
              "      <td>beige</td>\n",
              "      <td>kia motors america  inc</td>\n",
              "      <td>20800.0</td>\n",
              "      <td>21500.0</td>\n",
              "      <td>Tue Dec 16 2014 12:30:00 GMT-0800 (PST)</td>\n",
              "    </tr>\n",
              "    <tr>\n",
              "      <th>2</th>\n",
              "      <td>2014</td>\n",
              "      <td>BMW</td>\n",
              "      <td>3 Series</td>\n",
              "      <td>328i SULEV</td>\n",
              "      <td>Sedan</td>\n",
              "      <td>automatic</td>\n",
              "      <td>wba3c1c51ek116351</td>\n",
              "      <td>ca</td>\n",
              "      <td>45.0</td>\n",
              "      <td>1331.0</td>\n",
              "      <td>gray</td>\n",
              "      <td>black</td>\n",
              "      <td>financial services remarketing (lease)</td>\n",
              "      <td>31900.0</td>\n",
              "      <td>30000.0</td>\n",
              "      <td>Thu Jan 15 2015 04:30:00 GMT-0800 (PST)</td>\n",
              "    </tr>\n",
              "    <tr>\n",
              "      <th>3</th>\n",
              "      <td>2015</td>\n",
              "      <td>Volvo</td>\n",
              "      <td>S60</td>\n",
              "      <td>T5</td>\n",
              "      <td>Sedan</td>\n",
              "      <td>automatic</td>\n",
              "      <td>yv1612tb4f1310987</td>\n",
              "      <td>ca</td>\n",
              "      <td>41.0</td>\n",
              "      <td>14282.0</td>\n",
              "      <td>white</td>\n",
              "      <td>black</td>\n",
              "      <td>volvo na rep/world omni</td>\n",
              "      <td>27500.0</td>\n",
              "      <td>27750.0</td>\n",
              "      <td>Thu Jan 29 2015 04:30:00 GMT-0800 (PST)</td>\n",
              "    </tr>\n",
              "    <tr>\n",
              "      <th>4</th>\n",
              "      <td>2014</td>\n",
              "      <td>BMW</td>\n",
              "      <td>6 Series Gran Coupe</td>\n",
              "      <td>650i</td>\n",
              "      <td>Sedan</td>\n",
              "      <td>automatic</td>\n",
              "      <td>wba6b2c57ed129731</td>\n",
              "      <td>ca</td>\n",
              "      <td>43.0</td>\n",
              "      <td>2641.0</td>\n",
              "      <td>gray</td>\n",
              "      <td>black</td>\n",
              "      <td>financial services remarketing (lease)</td>\n",
              "      <td>66000.0</td>\n",
              "      <td>67000.0</td>\n",
              "      <td>Thu Dec 18 2014 12:30:00 GMT-0800 (PST)</td>\n",
              "    </tr>\n",
              "  </tbody>\n",
              "</table>\n",
              "</div>\n",
              "    <div class=\"colab-df-buttons\">\n",
              "\n",
              "  <div class=\"colab-df-container\">\n",
              "    <button class=\"colab-df-convert\" onclick=\"convertToInteractive('df-69643fe1-9be3-4571-ad5e-5af43d5029a8')\"\n",
              "            title=\"Convert this dataframe to an interactive table.\"\n",
              "            style=\"display:none;\">\n",
              "\n",
              "  <svg xmlns=\"http://www.w3.org/2000/svg\" height=\"24px\" viewBox=\"0 -960 960 960\">\n",
              "    <path d=\"M120-120v-720h720v720H120Zm60-500h600v-160H180v160Zm220 220h160v-160H400v160Zm0 220h160v-160H400v160ZM180-400h160v-160H180v160Zm440 0h160v-160H620v160ZM180-180h160v-160H180v160Zm440 0h160v-160H620v160Z\"/>\n",
              "  </svg>\n",
              "    </button>\n",
              "\n",
              "  <style>\n",
              "    .colab-df-container {\n",
              "      display:flex;\n",
              "      gap: 12px;\n",
              "    }\n",
              "\n",
              "    .colab-df-convert {\n",
              "      background-color: #E8F0FE;\n",
              "      border: none;\n",
              "      border-radius: 50%;\n",
              "      cursor: pointer;\n",
              "      display: none;\n",
              "      fill: #1967D2;\n",
              "      height: 32px;\n",
              "      padding: 0 0 0 0;\n",
              "      width: 32px;\n",
              "    }\n",
              "\n",
              "    .colab-df-convert:hover {\n",
              "      background-color: #E2EBFA;\n",
              "      box-shadow: 0px 1px 2px rgba(60, 64, 67, 0.3), 0px 1px 3px 1px rgba(60, 64, 67, 0.15);\n",
              "      fill: #174EA6;\n",
              "    }\n",
              "\n",
              "    .colab-df-buttons div {\n",
              "      margin-bottom: 4px;\n",
              "    }\n",
              "\n",
              "    [theme=dark] .colab-df-convert {\n",
              "      background-color: #3B4455;\n",
              "      fill: #D2E3FC;\n",
              "    }\n",
              "\n",
              "    [theme=dark] .colab-df-convert:hover {\n",
              "      background-color: #434B5C;\n",
              "      box-shadow: 0px 1px 3px 1px rgba(0, 0, 0, 0.15);\n",
              "      filter: drop-shadow(0px 1px 2px rgba(0, 0, 0, 0.3));\n",
              "      fill: #FFFFFF;\n",
              "    }\n",
              "  </style>\n",
              "\n",
              "    <script>\n",
              "      const buttonEl =\n",
              "        document.querySelector('#df-69643fe1-9be3-4571-ad5e-5af43d5029a8 button.colab-df-convert');\n",
              "      buttonEl.style.display =\n",
              "        google.colab.kernel.accessAllowed ? 'block' : 'none';\n",
              "\n",
              "      async function convertToInteractive(key) {\n",
              "        const element = document.querySelector('#df-69643fe1-9be3-4571-ad5e-5af43d5029a8');\n",
              "        const dataTable =\n",
              "          await google.colab.kernel.invokeFunction('convertToInteractive',\n",
              "                                                    [key], {});\n",
              "        if (!dataTable) return;\n",
              "\n",
              "        const docLinkHtml = 'Like what you see? Visit the ' +\n",
              "          '<a target=\"_blank\" href=https://colab.research.google.com/notebooks/data_table.ipynb>data table notebook</a>'\n",
              "          + ' to learn more about interactive tables.';\n",
              "        element.innerHTML = '';\n",
              "        dataTable['output_type'] = 'display_data';\n",
              "        await google.colab.output.renderOutput(dataTable, element);\n",
              "        const docLink = document.createElement('div');\n",
              "        docLink.innerHTML = docLinkHtml;\n",
              "        element.appendChild(docLink);\n",
              "      }\n",
              "    </script>\n",
              "  </div>\n",
              "\n",
              "\n",
              "<div id=\"df-04903ce8-47d0-4088-952e-7a650b15cd59\">\n",
              "  <button class=\"colab-df-quickchart\" onclick=\"quickchart('df-04903ce8-47d0-4088-952e-7a650b15cd59')\"\n",
              "            title=\"Suggest charts\"\n",
              "            style=\"display:none;\">\n",
              "\n",
              "<svg xmlns=\"http://www.w3.org/2000/svg\" height=\"24px\"viewBox=\"0 0 24 24\"\n",
              "     width=\"24px\">\n",
              "    <g>\n",
              "        <path d=\"M19 3H5c-1.1 0-2 .9-2 2v14c0 1.1.9 2 2 2h14c1.1 0 2-.9 2-2V5c0-1.1-.9-2-2-2zM9 17H7v-7h2v7zm4 0h-2V7h2v10zm4 0h-2v-4h2v4z\"/>\n",
              "    </g>\n",
              "</svg>\n",
              "  </button>\n",
              "\n",
              "<style>\n",
              "  .colab-df-quickchart {\n",
              "      --bg-color: #E8F0FE;\n",
              "      --fill-color: #1967D2;\n",
              "      --hover-bg-color: #E2EBFA;\n",
              "      --hover-fill-color: #174EA6;\n",
              "      --disabled-fill-color: #AAA;\n",
              "      --disabled-bg-color: #DDD;\n",
              "  }\n",
              "\n",
              "  [theme=dark] .colab-df-quickchart {\n",
              "      --bg-color: #3B4455;\n",
              "      --fill-color: #D2E3FC;\n",
              "      --hover-bg-color: #434B5C;\n",
              "      --hover-fill-color: #FFFFFF;\n",
              "      --disabled-bg-color: #3B4455;\n",
              "      --disabled-fill-color: #666;\n",
              "  }\n",
              "\n",
              "  .colab-df-quickchart {\n",
              "    background-color: var(--bg-color);\n",
              "    border: none;\n",
              "    border-radius: 50%;\n",
              "    cursor: pointer;\n",
              "    display: none;\n",
              "    fill: var(--fill-color);\n",
              "    height: 32px;\n",
              "    padding: 0;\n",
              "    width: 32px;\n",
              "  }\n",
              "\n",
              "  .colab-df-quickchart:hover {\n",
              "    background-color: var(--hover-bg-color);\n",
              "    box-shadow: 0 1px 2px rgba(60, 64, 67, 0.3), 0 1px 3px 1px rgba(60, 64, 67, 0.15);\n",
              "    fill: var(--button-hover-fill-color);\n",
              "  }\n",
              "\n",
              "  .colab-df-quickchart-complete:disabled,\n",
              "  .colab-df-quickchart-complete:disabled:hover {\n",
              "    background-color: var(--disabled-bg-color);\n",
              "    fill: var(--disabled-fill-color);\n",
              "    box-shadow: none;\n",
              "  }\n",
              "\n",
              "  .colab-df-spinner {\n",
              "    border: 2px solid var(--fill-color);\n",
              "    border-color: transparent;\n",
              "    border-bottom-color: var(--fill-color);\n",
              "    animation:\n",
              "      spin 1s steps(1) infinite;\n",
              "  }\n",
              "\n",
              "  @keyframes spin {\n",
              "    0% {\n",
              "      border-color: transparent;\n",
              "      border-bottom-color: var(--fill-color);\n",
              "      border-left-color: var(--fill-color);\n",
              "    }\n",
              "    20% {\n",
              "      border-color: transparent;\n",
              "      border-left-color: var(--fill-color);\n",
              "      border-top-color: var(--fill-color);\n",
              "    }\n",
              "    30% {\n",
              "      border-color: transparent;\n",
              "      border-left-color: var(--fill-color);\n",
              "      border-top-color: var(--fill-color);\n",
              "      border-right-color: var(--fill-color);\n",
              "    }\n",
              "    40% {\n",
              "      border-color: transparent;\n",
              "      border-right-color: var(--fill-color);\n",
              "      border-top-color: var(--fill-color);\n",
              "    }\n",
              "    60% {\n",
              "      border-color: transparent;\n",
              "      border-right-color: var(--fill-color);\n",
              "    }\n",
              "    80% {\n",
              "      border-color: transparent;\n",
              "      border-right-color: var(--fill-color);\n",
              "      border-bottom-color: var(--fill-color);\n",
              "    }\n",
              "    90% {\n",
              "      border-color: transparent;\n",
              "      border-bottom-color: var(--fill-color);\n",
              "    }\n",
              "  }\n",
              "</style>\n",
              "\n",
              "  <script>\n",
              "    async function quickchart(key) {\n",
              "      const quickchartButtonEl =\n",
              "        document.querySelector('#' + key + ' button');\n",
              "      quickchartButtonEl.disabled = true;  // To prevent multiple clicks.\n",
              "      quickchartButtonEl.classList.add('colab-df-spinner');\n",
              "      try {\n",
              "        const charts = await google.colab.kernel.invokeFunction(\n",
              "            'suggestCharts', [key], {});\n",
              "      } catch (error) {\n",
              "        console.error('Error during call to suggestCharts:', error);\n",
              "      }\n",
              "      quickchartButtonEl.classList.remove('colab-df-spinner');\n",
              "      quickchartButtonEl.classList.add('colab-df-quickchart-complete');\n",
              "    }\n",
              "    (() => {\n",
              "      let quickchartButtonEl =\n",
              "        document.querySelector('#df-04903ce8-47d0-4088-952e-7a650b15cd59 button');\n",
              "      quickchartButtonEl.style.display =\n",
              "        google.colab.kernel.accessAllowed ? 'block' : 'none';\n",
              "    })();\n",
              "  </script>\n",
              "</div>\n",
              "\n",
              "    </div>\n",
              "  </div>\n"
            ],
            "application/vnd.google.colaboratory.intrinsic+json": {
              "type": "dataframe",
              "variable_name": "df_data"
            }
          },
          "metadata": {},
          "execution_count": 6
        }
      ],
      "source": [
        "df_data = pd.read_csv(\"/content/car_prices.csv\")\n",
        "df_data.head()"
      ]
    },
    {
      "cell_type": "markdown",
      "metadata": {
        "id": "4qn5yg8Ka0gj"
      },
      "source": [
        "### Data Assesment"
      ]
    },
    {
      "cell_type": "markdown",
      "metadata": {
        "id": "l91FWFWAa0gj"
      },
      "source": [
        "#### Assessing Data"
      ]
    },
    {
      "cell_type": "code",
      "execution_count": 7,
      "metadata": {
        "id": "zOQGMcWQa0gj",
        "outputId": "35f39ab3-f051-4d89-8fe1-14935eea8144",
        "colab": {
          "base_uri": "https://localhost:8080/"
        }
      },
      "outputs": [
        {
          "output_type": "stream",
          "name": "stdout",
          "text": [
            "<class 'pandas.core.frame.DataFrame'>\n",
            "RangeIndex: 558837 entries, 0 to 558836\n",
            "Data columns (total 16 columns):\n",
            " #   Column        Non-Null Count   Dtype  \n",
            "---  ------        --------------   -----  \n",
            " 0   year          558837 non-null  int64  \n",
            " 1   make          548536 non-null  object \n",
            " 2   model         548438 non-null  object \n",
            " 3   trim          548186 non-null  object \n",
            " 4   body          545642 non-null  object \n",
            " 5   transmission  493485 non-null  object \n",
            " 6   vin           558833 non-null  object \n",
            " 7   state         558837 non-null  object \n",
            " 8   condition     547017 non-null  float64\n",
            " 9   odometer      558743 non-null  float64\n",
            " 10  color         558088 non-null  object \n",
            " 11  interior      558088 non-null  object \n",
            " 12  seller        558837 non-null  object \n",
            " 13  mmr           558799 non-null  float64\n",
            " 14  sellingprice  558825 non-null  float64\n",
            " 15  saledate      558825 non-null  object \n",
            "dtypes: float64(4), int64(1), object(11)\n",
            "memory usage: 68.2+ MB\n"
          ]
        }
      ],
      "source": [
        "df_data.info()"
      ]
    },
    {
      "cell_type": "code",
      "execution_count": 8,
      "metadata": {
        "id": "XwieNVkxa0gj",
        "outputId": "f2f89235-92ca-456f-d7ae-ce86a08e3268",
        "colab": {
          "base_uri": "https://localhost:8080/",
          "height": 586
        }
      },
      "outputs": [
        {
          "output_type": "execute_result",
          "data": {
            "text/plain": [
              "year                0\n",
              "make            10301\n",
              "model           10399\n",
              "trim            10651\n",
              "body            13195\n",
              "transmission    65352\n",
              "vin                 4\n",
              "state               0\n",
              "condition       11820\n",
              "odometer           94\n",
              "color             749\n",
              "interior          749\n",
              "seller              0\n",
              "mmr                38\n",
              "sellingprice       12\n",
              "saledate           12\n",
              "dtype: int64"
            ],
            "text/html": [
              "<div>\n",
              "<style scoped>\n",
              "    .dataframe tbody tr th:only-of-type {\n",
              "        vertical-align: middle;\n",
              "    }\n",
              "\n",
              "    .dataframe tbody tr th {\n",
              "        vertical-align: top;\n",
              "    }\n",
              "\n",
              "    .dataframe thead th {\n",
              "        text-align: right;\n",
              "    }\n",
              "</style>\n",
              "<table border=\"1\" class=\"dataframe\">\n",
              "  <thead>\n",
              "    <tr style=\"text-align: right;\">\n",
              "      <th></th>\n",
              "      <th>0</th>\n",
              "    </tr>\n",
              "  </thead>\n",
              "  <tbody>\n",
              "    <tr>\n",
              "      <th>year</th>\n",
              "      <td>0</td>\n",
              "    </tr>\n",
              "    <tr>\n",
              "      <th>make</th>\n",
              "      <td>10301</td>\n",
              "    </tr>\n",
              "    <tr>\n",
              "      <th>model</th>\n",
              "      <td>10399</td>\n",
              "    </tr>\n",
              "    <tr>\n",
              "      <th>trim</th>\n",
              "      <td>10651</td>\n",
              "    </tr>\n",
              "    <tr>\n",
              "      <th>body</th>\n",
              "      <td>13195</td>\n",
              "    </tr>\n",
              "    <tr>\n",
              "      <th>transmission</th>\n",
              "      <td>65352</td>\n",
              "    </tr>\n",
              "    <tr>\n",
              "      <th>vin</th>\n",
              "      <td>4</td>\n",
              "    </tr>\n",
              "    <tr>\n",
              "      <th>state</th>\n",
              "      <td>0</td>\n",
              "    </tr>\n",
              "    <tr>\n",
              "      <th>condition</th>\n",
              "      <td>11820</td>\n",
              "    </tr>\n",
              "    <tr>\n",
              "      <th>odometer</th>\n",
              "      <td>94</td>\n",
              "    </tr>\n",
              "    <tr>\n",
              "      <th>color</th>\n",
              "      <td>749</td>\n",
              "    </tr>\n",
              "    <tr>\n",
              "      <th>interior</th>\n",
              "      <td>749</td>\n",
              "    </tr>\n",
              "    <tr>\n",
              "      <th>seller</th>\n",
              "      <td>0</td>\n",
              "    </tr>\n",
              "    <tr>\n",
              "      <th>mmr</th>\n",
              "      <td>38</td>\n",
              "    </tr>\n",
              "    <tr>\n",
              "      <th>sellingprice</th>\n",
              "      <td>12</td>\n",
              "    </tr>\n",
              "    <tr>\n",
              "      <th>saledate</th>\n",
              "      <td>12</td>\n",
              "    </tr>\n",
              "  </tbody>\n",
              "</table>\n",
              "</div><br><label><b>dtype:</b> int64</label>"
            ]
          },
          "metadata": {},
          "execution_count": 8
        }
      ],
      "source": [
        "df_data.isna().sum()"
      ]
    },
    {
      "cell_type": "code",
      "source": [
        "df_data.describe()"
      ],
      "metadata": {
        "colab": {
          "base_uri": "https://localhost:8080/",
          "height": 300
        },
        "id": "-LGEl90WhW2D",
        "outputId": "ff97d544-8fc9-46ab-d6f0-e946b6395fdc"
      },
      "execution_count": 29,
      "outputs": [
        {
          "output_type": "execute_result",
          "data": {
            "text/plain": [
              "                year      condition       odometer            mmr  \\\n",
              "count  558837.000000  547017.000000  558743.000000  558799.000000   \n",
              "mean     2010.038927      30.672365   68320.017767   13769.377495   \n",
              "std         3.966864      13.402832   53398.542821    9679.967174   \n",
              "min      1982.000000       1.000000       1.000000      25.000000   \n",
              "25%      2007.000000      23.000000   28371.000000    7100.000000   \n",
              "50%      2012.000000      35.000000   52254.000000   12250.000000   \n",
              "75%      2013.000000      42.000000   99109.000000   18300.000000   \n",
              "max      2015.000000      49.000000  999999.000000  182000.000000   \n",
              "\n",
              "        sellingprice  \n",
              "count  558825.000000  \n",
              "mean    13611.358810  \n",
              "std      9749.501628  \n",
              "min         1.000000  \n",
              "25%      6900.000000  \n",
              "50%     12100.000000  \n",
              "75%     18200.000000  \n",
              "max    230000.000000  "
            ],
            "text/html": [
              "\n",
              "  <div id=\"df-f7f532ec-8f5a-4485-ac35-2b6dd2701365\" class=\"colab-df-container\">\n",
              "    <div>\n",
              "<style scoped>\n",
              "    .dataframe tbody tr th:only-of-type {\n",
              "        vertical-align: middle;\n",
              "    }\n",
              "\n",
              "    .dataframe tbody tr th {\n",
              "        vertical-align: top;\n",
              "    }\n",
              "\n",
              "    .dataframe thead th {\n",
              "        text-align: right;\n",
              "    }\n",
              "</style>\n",
              "<table border=\"1\" class=\"dataframe\">\n",
              "  <thead>\n",
              "    <tr style=\"text-align: right;\">\n",
              "      <th></th>\n",
              "      <th>year</th>\n",
              "      <th>condition</th>\n",
              "      <th>odometer</th>\n",
              "      <th>mmr</th>\n",
              "      <th>sellingprice</th>\n",
              "    </tr>\n",
              "  </thead>\n",
              "  <tbody>\n",
              "    <tr>\n",
              "      <th>count</th>\n",
              "      <td>558837.000000</td>\n",
              "      <td>547017.000000</td>\n",
              "      <td>558743.000000</td>\n",
              "      <td>558799.000000</td>\n",
              "      <td>558825.000000</td>\n",
              "    </tr>\n",
              "    <tr>\n",
              "      <th>mean</th>\n",
              "      <td>2010.038927</td>\n",
              "      <td>30.672365</td>\n",
              "      <td>68320.017767</td>\n",
              "      <td>13769.377495</td>\n",
              "      <td>13611.358810</td>\n",
              "    </tr>\n",
              "    <tr>\n",
              "      <th>std</th>\n",
              "      <td>3.966864</td>\n",
              "      <td>13.402832</td>\n",
              "      <td>53398.542821</td>\n",
              "      <td>9679.967174</td>\n",
              "      <td>9749.501628</td>\n",
              "    </tr>\n",
              "    <tr>\n",
              "      <th>min</th>\n",
              "      <td>1982.000000</td>\n",
              "      <td>1.000000</td>\n",
              "      <td>1.000000</td>\n",
              "      <td>25.000000</td>\n",
              "      <td>1.000000</td>\n",
              "    </tr>\n",
              "    <tr>\n",
              "      <th>25%</th>\n",
              "      <td>2007.000000</td>\n",
              "      <td>23.000000</td>\n",
              "      <td>28371.000000</td>\n",
              "      <td>7100.000000</td>\n",
              "      <td>6900.000000</td>\n",
              "    </tr>\n",
              "    <tr>\n",
              "      <th>50%</th>\n",
              "      <td>2012.000000</td>\n",
              "      <td>35.000000</td>\n",
              "      <td>52254.000000</td>\n",
              "      <td>12250.000000</td>\n",
              "      <td>12100.000000</td>\n",
              "    </tr>\n",
              "    <tr>\n",
              "      <th>75%</th>\n",
              "      <td>2013.000000</td>\n",
              "      <td>42.000000</td>\n",
              "      <td>99109.000000</td>\n",
              "      <td>18300.000000</td>\n",
              "      <td>18200.000000</td>\n",
              "    </tr>\n",
              "    <tr>\n",
              "      <th>max</th>\n",
              "      <td>2015.000000</td>\n",
              "      <td>49.000000</td>\n",
              "      <td>999999.000000</td>\n",
              "      <td>182000.000000</td>\n",
              "      <td>230000.000000</td>\n",
              "    </tr>\n",
              "  </tbody>\n",
              "</table>\n",
              "</div>\n",
              "    <div class=\"colab-df-buttons\">\n",
              "\n",
              "  <div class=\"colab-df-container\">\n",
              "    <button class=\"colab-df-convert\" onclick=\"convertToInteractive('df-f7f532ec-8f5a-4485-ac35-2b6dd2701365')\"\n",
              "            title=\"Convert this dataframe to an interactive table.\"\n",
              "            style=\"display:none;\">\n",
              "\n",
              "  <svg xmlns=\"http://www.w3.org/2000/svg\" height=\"24px\" viewBox=\"0 -960 960 960\">\n",
              "    <path d=\"M120-120v-720h720v720H120Zm60-500h600v-160H180v160Zm220 220h160v-160H400v160Zm0 220h160v-160H400v160ZM180-400h160v-160H180v160Zm440 0h160v-160H620v160ZM180-180h160v-160H180v160Zm440 0h160v-160H620v160Z\"/>\n",
              "  </svg>\n",
              "    </button>\n",
              "\n",
              "  <style>\n",
              "    .colab-df-container {\n",
              "      display:flex;\n",
              "      gap: 12px;\n",
              "    }\n",
              "\n",
              "    .colab-df-convert {\n",
              "      background-color: #E8F0FE;\n",
              "      border: none;\n",
              "      border-radius: 50%;\n",
              "      cursor: pointer;\n",
              "      display: none;\n",
              "      fill: #1967D2;\n",
              "      height: 32px;\n",
              "      padding: 0 0 0 0;\n",
              "      width: 32px;\n",
              "    }\n",
              "\n",
              "    .colab-df-convert:hover {\n",
              "      background-color: #E2EBFA;\n",
              "      box-shadow: 0px 1px 2px rgba(60, 64, 67, 0.3), 0px 1px 3px 1px rgba(60, 64, 67, 0.15);\n",
              "      fill: #174EA6;\n",
              "    }\n",
              "\n",
              "    .colab-df-buttons div {\n",
              "      margin-bottom: 4px;\n",
              "    }\n",
              "\n",
              "    [theme=dark] .colab-df-convert {\n",
              "      background-color: #3B4455;\n",
              "      fill: #D2E3FC;\n",
              "    }\n",
              "\n",
              "    [theme=dark] .colab-df-convert:hover {\n",
              "      background-color: #434B5C;\n",
              "      box-shadow: 0px 1px 3px 1px rgba(0, 0, 0, 0.15);\n",
              "      filter: drop-shadow(0px 1px 2px rgba(0, 0, 0, 0.3));\n",
              "      fill: #FFFFFF;\n",
              "    }\n",
              "  </style>\n",
              "\n",
              "    <script>\n",
              "      const buttonEl =\n",
              "        document.querySelector('#df-f7f532ec-8f5a-4485-ac35-2b6dd2701365 button.colab-df-convert');\n",
              "      buttonEl.style.display =\n",
              "        google.colab.kernel.accessAllowed ? 'block' : 'none';\n",
              "\n",
              "      async function convertToInteractive(key) {\n",
              "        const element = document.querySelector('#df-f7f532ec-8f5a-4485-ac35-2b6dd2701365');\n",
              "        const dataTable =\n",
              "          await google.colab.kernel.invokeFunction('convertToInteractive',\n",
              "                                                    [key], {});\n",
              "        if (!dataTable) return;\n",
              "\n",
              "        const docLinkHtml = 'Like what you see? Visit the ' +\n",
              "          '<a target=\"_blank\" href=https://colab.research.google.com/notebooks/data_table.ipynb>data table notebook</a>'\n",
              "          + ' to learn more about interactive tables.';\n",
              "        element.innerHTML = '';\n",
              "        dataTable['output_type'] = 'display_data';\n",
              "        await google.colab.output.renderOutput(dataTable, element);\n",
              "        const docLink = document.createElement('div');\n",
              "        docLink.innerHTML = docLinkHtml;\n",
              "        element.appendChild(docLink);\n",
              "      }\n",
              "    </script>\n",
              "  </div>\n",
              "\n",
              "\n",
              "<div id=\"df-1c2392c5-afe9-4554-ab18-f5ea8e760969\">\n",
              "  <button class=\"colab-df-quickchart\" onclick=\"quickchart('df-1c2392c5-afe9-4554-ab18-f5ea8e760969')\"\n",
              "            title=\"Suggest charts\"\n",
              "            style=\"display:none;\">\n",
              "\n",
              "<svg xmlns=\"http://www.w3.org/2000/svg\" height=\"24px\"viewBox=\"0 0 24 24\"\n",
              "     width=\"24px\">\n",
              "    <g>\n",
              "        <path d=\"M19 3H5c-1.1 0-2 .9-2 2v14c0 1.1.9 2 2 2h14c1.1 0 2-.9 2-2V5c0-1.1-.9-2-2-2zM9 17H7v-7h2v7zm4 0h-2V7h2v10zm4 0h-2v-4h2v4z\"/>\n",
              "    </g>\n",
              "</svg>\n",
              "  </button>\n",
              "\n",
              "<style>\n",
              "  .colab-df-quickchart {\n",
              "      --bg-color: #E8F0FE;\n",
              "      --fill-color: #1967D2;\n",
              "      --hover-bg-color: #E2EBFA;\n",
              "      --hover-fill-color: #174EA6;\n",
              "      --disabled-fill-color: #AAA;\n",
              "      --disabled-bg-color: #DDD;\n",
              "  }\n",
              "\n",
              "  [theme=dark] .colab-df-quickchart {\n",
              "      --bg-color: #3B4455;\n",
              "      --fill-color: #D2E3FC;\n",
              "      --hover-bg-color: #434B5C;\n",
              "      --hover-fill-color: #FFFFFF;\n",
              "      --disabled-bg-color: #3B4455;\n",
              "      --disabled-fill-color: #666;\n",
              "  }\n",
              "\n",
              "  .colab-df-quickchart {\n",
              "    background-color: var(--bg-color);\n",
              "    border: none;\n",
              "    border-radius: 50%;\n",
              "    cursor: pointer;\n",
              "    display: none;\n",
              "    fill: var(--fill-color);\n",
              "    height: 32px;\n",
              "    padding: 0;\n",
              "    width: 32px;\n",
              "  }\n",
              "\n",
              "  .colab-df-quickchart:hover {\n",
              "    background-color: var(--hover-bg-color);\n",
              "    box-shadow: 0 1px 2px rgba(60, 64, 67, 0.3), 0 1px 3px 1px rgba(60, 64, 67, 0.15);\n",
              "    fill: var(--button-hover-fill-color);\n",
              "  }\n",
              "\n",
              "  .colab-df-quickchart-complete:disabled,\n",
              "  .colab-df-quickchart-complete:disabled:hover {\n",
              "    background-color: var(--disabled-bg-color);\n",
              "    fill: var(--disabled-fill-color);\n",
              "    box-shadow: none;\n",
              "  }\n",
              "\n",
              "  .colab-df-spinner {\n",
              "    border: 2px solid var(--fill-color);\n",
              "    border-color: transparent;\n",
              "    border-bottom-color: var(--fill-color);\n",
              "    animation:\n",
              "      spin 1s steps(1) infinite;\n",
              "  }\n",
              "\n",
              "  @keyframes spin {\n",
              "    0% {\n",
              "      border-color: transparent;\n",
              "      border-bottom-color: var(--fill-color);\n",
              "      border-left-color: var(--fill-color);\n",
              "    }\n",
              "    20% {\n",
              "      border-color: transparent;\n",
              "      border-left-color: var(--fill-color);\n",
              "      border-top-color: var(--fill-color);\n",
              "    }\n",
              "    30% {\n",
              "      border-color: transparent;\n",
              "      border-left-color: var(--fill-color);\n",
              "      border-top-color: var(--fill-color);\n",
              "      border-right-color: var(--fill-color);\n",
              "    }\n",
              "    40% {\n",
              "      border-color: transparent;\n",
              "      border-right-color: var(--fill-color);\n",
              "      border-top-color: var(--fill-color);\n",
              "    }\n",
              "    60% {\n",
              "      border-color: transparent;\n",
              "      border-right-color: var(--fill-color);\n",
              "    }\n",
              "    80% {\n",
              "      border-color: transparent;\n",
              "      border-right-color: var(--fill-color);\n",
              "      border-bottom-color: var(--fill-color);\n",
              "    }\n",
              "    90% {\n",
              "      border-color: transparent;\n",
              "      border-bottom-color: var(--fill-color);\n",
              "    }\n",
              "  }\n",
              "</style>\n",
              "\n",
              "  <script>\n",
              "    async function quickchart(key) {\n",
              "      const quickchartButtonEl =\n",
              "        document.querySelector('#' + key + ' button');\n",
              "      quickchartButtonEl.disabled = true;  // To prevent multiple clicks.\n",
              "      quickchartButtonEl.classList.add('colab-df-spinner');\n",
              "      try {\n",
              "        const charts = await google.colab.kernel.invokeFunction(\n",
              "            'suggestCharts', [key], {});\n",
              "      } catch (error) {\n",
              "        console.error('Error during call to suggestCharts:', error);\n",
              "      }\n",
              "      quickchartButtonEl.classList.remove('colab-df-spinner');\n",
              "      quickchartButtonEl.classList.add('colab-df-quickchart-complete');\n",
              "    }\n",
              "    (() => {\n",
              "      let quickchartButtonEl =\n",
              "        document.querySelector('#df-1c2392c5-afe9-4554-ab18-f5ea8e760969 button');\n",
              "      quickchartButtonEl.style.display =\n",
              "        google.colab.kernel.accessAllowed ? 'block' : 'none';\n",
              "    })();\n",
              "  </script>\n",
              "</div>\n",
              "\n",
              "    </div>\n",
              "  </div>\n"
            ],
            "application/vnd.google.colaboratory.intrinsic+json": {
              "type": "dataframe",
              "summary": "{\n  \"name\": \"df_data\",\n  \"rows\": 8,\n  \"fields\": [\n    {\n      \"column\": \"year\",\n      \"properties\": {\n        \"dtype\": \"number\",\n        \"std\": 196971.6992455478,\n        \"min\": 3.966863615405886,\n        \"max\": 558837.0,\n        \"num_unique_values\": 8,\n        \"samples\": [\n          2010.038927272174,\n          2012.0,\n          558837.0\n        ],\n        \"semantic_type\": \"\",\n        \"description\": \"\"\n      }\n    },\n    {\n      \"column\": \"condition\",\n      \"properties\": {\n        \"dtype\": \"number\",\n        \"std\": 193389.91339748463,\n        \"min\": 1.0,\n        \"max\": 547017.0,\n        \"num_unique_values\": 8,\n        \"samples\": [\n          30.672364844237016,\n          35.0,\n          547017.0\n        ],\n        \"semantic_type\": \"\",\n        \"description\": \"\"\n      }\n    },\n    {\n      \"column\": \"odometer\",\n      \"properties\": {\n        \"dtype\": \"number\",\n        \"std\": 358673.7110200876,\n        \"min\": 1.0,\n        \"max\": 999999.0,\n        \"num_unique_values\": 8,\n        \"samples\": [\n          68320.01776666554,\n          52254.0,\n          558743.0\n        ],\n        \"semantic_type\": \"\",\n        \"description\": \"\"\n      }\n    },\n    {\n      \"column\": \"mmr\",\n      \"properties\": {\n        \"dtype\": \"number\",\n        \"std\": 194867.66634471779,\n        \"min\": 25.0,\n        \"max\": 558799.0,\n        \"num_unique_values\": 8,\n        \"samples\": [\n          13769.377495306899,\n          12250.0,\n          558799.0\n        ],\n        \"semantic_type\": \"\",\n        \"description\": \"\"\n      }\n    },\n    {\n      \"column\": \"sellingprice\",\n      \"properties\": {\n        \"dtype\": \"number\",\n        \"std\": 198497.46585683292,\n        \"min\": 1.0,\n        \"max\": 558825.0,\n        \"num_unique_values\": 8,\n        \"samples\": [\n          13611.358810003132,\n          12100.0,\n          558825.0\n        ],\n        \"semantic_type\": \"\",\n        \"description\": \"\"\n      }\n    }\n  ]\n}"
            }
          },
          "metadata": {},
          "execution_count": 29
        }
      ]
    },
    {
      "cell_type": "code",
      "execution_count": 9,
      "metadata": {
        "id": "chlLiwf3a0gk",
        "outputId": "40b2fd33-1c28-4091-e84f-e5c3d8345d6b",
        "colab": {
          "base_uri": "https://localhost:8080/"
        }
      },
      "outputs": [
        {
          "output_type": "stream",
          "name": "stdout",
          "text": [
            "Data Duplikat :  0\n"
          ]
        }
      ],
      "source": [
        "print(\"Data Duplikat : \",df_data.duplicated().sum())"
      ]
    },
    {
      "cell_type": "markdown",
      "source": [
        "####Analysis with Visualization\n",
        "\n",
        "Analisis ini digunakan untuk\n",
        "- Mengecek Konten dari tiap Kolum pada Dataset\n",
        "- Menganalisa Persebaran data pada tiap Kolum"
      ],
      "metadata": {
        "id": "ECXxQ1zepawu"
      }
    },
    {
      "cell_type": "markdown",
      "source": [
        "######Year\n",
        "\n",
        "Data Normal, Tidak perlu modifikasi"
      ],
      "metadata": {
        "id": "9n8SAjjQVCSO"
      }
    },
    {
      "cell_type": "code",
      "source": [
        "# Frequency Analysis\n",
        "print(df_data['year'].value_counts())\n",
        "\n",
        "# Data Visualization\n",
        "plt.figure(figsize=(10, 6))\n",
        "sns.countplot(x='year', data=df_data)\n",
        "plt.title('Distribution of year Types')\n",
        "plt.xticks(rotation=90)\n",
        "plt.show()"
      ],
      "metadata": {
        "colab": {
          "base_uri": "https://localhost:8080/",
          "height": 1000
        },
        "id": "6R8lRX6eb3Uh",
        "outputId": "46492f8d-48a5-4ce1-8f89-ec623a545fcb"
      },
      "execution_count": 10,
      "outputs": [
        {
          "output_type": "stream",
          "name": "stdout",
          "text": [
            "year\n",
            "2012    102315\n",
            "2013     98168\n",
            "2014     81070\n",
            "2011     48548\n",
            "2008     31502\n",
            "2007     30845\n",
            "2006     26913\n",
            "2010     26485\n",
            "2005     21394\n",
            "2009     20594\n",
            "2004     17342\n",
            "2003     13281\n",
            "2002      9715\n",
            "2015      9437\n",
            "2001      6468\n",
            "2000      5227\n",
            "1999      3363\n",
            "1998      2149\n",
            "1997      1546\n",
            "1996       851\n",
            "1995       711\n",
            "1994       392\n",
            "1993       205\n",
            "1992       132\n",
            "1991        67\n",
            "1990        49\n",
            "1989        20\n",
            "1986        11\n",
            "1988        11\n",
            "1985        10\n",
            "1987         8\n",
            "1984         5\n",
            "1982         2\n",
            "1983         1\n",
            "Name: count, dtype: int64\n"
          ]
        },
        {
          "output_type": "display_data",
          "data": {
            "text/plain": [
              "<Figure size 1000x600 with 1 Axes>"
            ],
            "image/png": "[encoded data removed]"
          },
          "metadata": {}
        }
      ]
    },
    {
      "cell_type": "markdown",
      "source": [
        "######Creator\n",
        "\n",
        "Data Normal, Tidak perlu modifikasi"
      ],
      "metadata": {
        "id": "HVJKBl4esQda"
      }
    },
    {
      "cell_type": "code",
      "source": [
        "# Frequency Analysis\n",
        "print(df_data['make'].value_counts())\n",
        "\n",
        "# Data Visualization\n",
        "plt.figure(figsize=(10, 6))\n",
        "sns.countplot(x='make', data=df_data)\n",
        "plt.title('Distribution of make Types')\n",
        "plt.xticks(rotation=90)\n",
        "plt.show()"
      ],
      "metadata": {
        "colab": {
          "base_uri": "https://localhost:8080/",
          "height": 881
        },
        "id": "iPEPyFITspCL",
        "outputId": "d735b772-12eb-4105-e461-da3ae9e8e59a"
      },
      "execution_count": null,
      "outputs": [
        {
          "output_type": "stream",
          "name": "stdout",
          "text": [
            "make\n",
            "Ford          93554\n",
            "Chevrolet     60197\n",
            "Nissan        53946\n",
            "Toyota        39871\n",
            "Dodge         30710\n",
            "              ...  \n",
            "airstream         1\n",
            "ford tk           1\n",
            "chev truck        1\n",
            "hyundai tk        1\n",
            "Lotus             1\n",
            "Name: count, Length: 96, dtype: int64\n"
          ]
        },
        {
          "output_type": "display_data",
          "data": {
            "text/plain": [
              "<Figure size 1000x600 with 1 Axes>"
            ],
            "image/png": "[encoded data removed]"
          },
          "metadata": {}
        }
      ]
    },
    {
      "cell_type": "markdown",
      "source": [
        "######Model\n",
        "\n",
        "Data Normal, Tidak perlu modifikasi"
      ],
      "metadata": {
        "id": "ibwbh5OYVK-D"
      }
    },
    {
      "cell_type": "code",
      "source": [
        "# Frequency Analysis\n",
        "print(df_data['model'].value_counts())"
      ],
      "metadata": {
        "colab": {
          "base_uri": "https://localhost:8080/"
        },
        "id": "9kgXAuZddLMk",
        "outputId": "cbddd217-d273-4cf4-e838-16d285c47f1e"
      },
      "execution_count": 13,
      "outputs": [
        {
          "output_type": "stream",
          "name": "stdout",
          "text": [
            "model\n",
            "Altima        19349\n",
            "F-150         14479\n",
            "Fusion        12946\n",
            "Camry         12545\n",
            "Escape        11861\n",
            "              ...  \n",
            "rrs               1\n",
            "golf              1\n",
            "g500              1\n",
            "tahoe             1\n",
            "458 Italia        1\n",
            "Name: count, Length: 973, dtype: int64\n"
          ]
        }
      ]
    },
    {
      "cell_type": "markdown",
      "source": [
        "######Trim\n",
        "\n",
        "Data Normal, Tidak perlu modifikasi"
      ],
      "metadata": {
        "id": "df0fugstVOYT"
      }
    },
    {
      "cell_type": "code",
      "source": [
        "# Frequency Analysis\n",
        "print(df_data['trim'].value_counts())"
      ],
      "metadata": {
        "colab": {
          "base_uri": "https://localhost:8080/"
        },
        "id": "3Ekzl1aXdaTg",
        "outputId": "f8670bdf-da88-4659-d5dd-14d9d2f53b8f"
      },
      "execution_count": 17,
      "outputs": [
        {
          "output_type": "stream",
          "name": "stdout",
          "text": [
            "trim\n",
            "Base                 55817\n",
            "SE                   43648\n",
            "LX                   20757\n",
            "Limited              18367\n",
            "LT                   16915\n",
            "                     ...  \n",
            "xls                      1\n",
            "series m                 1\n",
            "4x2 reg silverado        1\n",
            "4x2 v6 limited           1\n",
            "Power Wagon              1\n",
            "Name: count, Length: 1963, dtype: int64\n"
          ]
        }
      ]
    },
    {
      "cell_type": "markdown",
      "source": [
        "######Body\n",
        "\n",
        "Data Normal, Tidak perlu modifikasi"
      ],
      "metadata": {
        "id": "ahlwjcEYr5qC"
      }
    },
    {
      "cell_type": "code",
      "source": [
        "# Frequency Analysis\n",
        "print(df_data['body'].value_counts())\n",
        "\n",
        "# Data Visualization\n",
        "plt.figure(figsize=(10, 6))\n",
        "sns.countplot(x='body', data=df_data)\n",
        "plt.title('Distribution of body Types')\n",
        "plt.xticks(rotation=90)\n",
        "plt.show()"
      ],
      "metadata": {
        "colab": {
          "base_uri": "https://localhost:8080/"
        },
        "id": "mB2RDmqar71B",
        "outputId": "537dedeb-47f5-40fb-c758-a68fdf21c307"
      },
      "execution_count": null,
      "outputs": [
        {
          "output_type": "stream",
          "name": "stdout",
          "text": [
            "body\n",
            "Sedan          199437\n",
            "SUV            119292\n",
            "sedan           41906\n",
            "suv             24552\n",
            "Hatchback       21380\n",
            "                ...  \n",
            "cab plus 4          1\n",
            "g37 coupe           1\n",
            "CTS-V Wagon         1\n",
            "Ram Van             1\n",
            "cts wagon           1\n",
            "Name: count, Length: 87, dtype: int64\n"
          ]
        },
        {
          "output_type": "display_data",
          "data": {
            "text/plain": [
              "<Figure size 1000x600 with 1 Axes>"
            ],
            "image/png": "[encoded data removed]"
          },
          "metadata": {}
        }
      ]
    },
    {
      "cell_type": "markdown",
      "source": [
        "######Transmission\n",
        "Terdapat Anomali Data, cek Row dan Cell Terkait"
      ],
      "metadata": {
        "id": "f2YN9gkapf2o"
      }
    },
    {
      "cell_type": "code",
      "source": [
        "# Frequency Analysis\n",
        "print(df_data['transmission'].value_counts())\n",
        "\n",
        "# Data Visualization\n",
        "plt.figure(figsize=(10, 6))\n",
        "sns.countplot(x='transmission', data=df_data)\n",
        "plt.title('Distribution of Transmission Types')\n",
        "plt.xticks(rotation=45)\n",
        "plt.show()"
      ],
      "metadata": {
        "colab": {
          "base_uri": "https://localhost:8080/",
          "height": 714
        },
        "id": "CtQjx2zOpdqt",
        "outputId": "b0b298f3-6758-42d8-db86-8daecbcf407a"
      },
      "execution_count": null,
      "outputs": [
        {
          "output_type": "stream",
          "name": "stdout",
          "text": [
            "transmission\n",
            "automatic    475915\n",
            "manual        17544\n",
            "sedan            15\n",
            "Sedan            11\n",
            "Name: count, dtype: int64\n"
          ]
        },
        {
          "output_type": "display_data",
          "data": {
            "text/plain": [
              "<Figure size 1000x600 with 1 Axes>"
            ],
            "image/png": "[encoded data removed]"
          },
          "metadata": {}
        }
      ]
    },
    {
      "cell_type": "markdown",
      "source": [
        "######Vin\n",
        "Terdapat Anomali Data, cek Row dan Cell Terkait"
      ],
      "metadata": {
        "id": "0QQu4dMBVf1X"
      }
    },
    {
      "cell_type": "code",
      "source": [
        "# Frequency Analysis\n",
        "print(df_data['vin'].value_counts())"
      ],
      "metadata": {
        "colab": {
          "base_uri": "https://localhost:8080/"
        },
        "id": "ShVzVcFFdoge",
        "outputId": "f1686161-1d2f-4fa3-b10e-dbd4abe82128"
      },
      "execution_count": 16,
      "outputs": [
        {
          "output_type": "stream",
          "name": "stdout",
          "text": [
            "vin\n",
            "automatic            22\n",
            "wbanv13588cz57827     5\n",
            "5uxfe43579l274932     4\n",
            "trusc28n241022003     4\n",
            "wddgf56x78f009940     4\n",
            "                     ..\n",
            "1p3ew65g7yv603989     1\n",
            "4t1bf28b1yu016829     1\n",
            "jtdbt1231y0082703     1\n",
            "jtddr32t8y0063746     1\n",
            "1ftfw1et2eke87277     1\n",
            "Name: count, Length: 550297, dtype: int64\n"
          ]
        }
      ]
    },
    {
      "cell_type": "markdown",
      "source": [
        "######State\n",
        "Terdapat Anomali Data, cek Row dan Cell Terkait"
      ],
      "metadata": {
        "id": "pLagxtnFpr8O"
      }
    },
    {
      "cell_type": "code",
      "source": [
        "# Frequency Analysis\n",
        "print(df_data['state'].value_counts())\n",
        "\n",
        "# Data Visualization\n",
        "plt.figure(figsize=(10, 6))\n",
        "sns.countplot(x='state', data=df_data)\n",
        "plt.title('Distribution of state Types')\n",
        "plt.xticks(rotation=45)\n",
        "plt.show()"
      ],
      "metadata": {
        "colab": {
          "base_uri": "https://localhost:8080/"
        },
        "id": "ewH3_4AupqtE",
        "outputId": "b6a448b2-b189-465e-e65e-9e8674838207"
      },
      "execution_count": null,
      "outputs": [
        {
          "output_type": "stream",
          "name": "stdout",
          "text": [
            "state\n",
            "fl                   82945\n",
            "ca                   73148\n",
            "pa                   53907\n",
            "tx                   45913\n",
            "ga                   34750\n",
            "                     ...  \n",
            "3vwd17aj2fm285365        1\n",
            "3vwd17aj3fm276741        1\n",
            "3vwd17aj2fm258506        1\n",
            "3vwd17aj4fm201708        1\n",
            "3vwd17aj2fm261566        1\n",
            "Name: count, Length: 64, dtype: int64\n"
          ]
        },
        {
          "output_type": "display_data",
          "data": {
            "text/plain": [
              "<Figure size 1000x600 with 1 Axes>"
            ],
            "image/png": "[encoded data removed]"
          },
          "metadata": {}
        }
      ]
    },
    {
      "cell_type": "markdown",
      "source": [
        "######Condition\n",
        "Terdapat Anomali Data, cek Row dan Cell Terkait"
      ],
      "metadata": {
        "id": "_6k9ZK6-Vq-J"
      }
    },
    {
      "cell_type": "code",
      "source": [
        "# Frequency Analysis\n",
        "print(df_data['condition'].value_counts())\n",
        "\n",
        "# Data Visualization\n",
        "plt.figure(figsize=(10, 6))\n",
        "sns.countplot(x='state', data=df_data)\n",
        "plt.title('Distribution of state Types')\n",
        "plt.xticks(rotation=45)\n",
        "plt.show()"
      ],
      "metadata": {
        "colab": {
          "base_uri": "https://localhost:8080/",
          "height": 1000
        },
        "id": "0-6iFEjye6kl",
        "outputId": "ffa54c65-e585-4fe2-d15e-88ab2342b44e"
      },
      "execution_count": 18,
      "outputs": [
        {
          "output_type": "stream",
          "name": "stdout",
          "text": [
            "condition\n",
            "19.0    42281\n",
            "35.0    26750\n",
            "37.0    25938\n",
            "44.0    25514\n",
            "43.0    24937\n",
            "42.0    24328\n",
            "36.0    23144\n",
            "41.0    23073\n",
            "2.0     20790\n",
            "4.0     19922\n",
            "39.0    19920\n",
            "28.0    19178\n",
            "29.0    18928\n",
            "38.0    18723\n",
            "34.0    17398\n",
            "27.0    16351\n",
            "49.0    13099\n",
            "48.0    12712\n",
            "46.0    12634\n",
            "25.0    12561\n",
            "45.0    12313\n",
            "26.0    11912\n",
            "47.0    11363\n",
            "5.0     11222\n",
            "3.0     10803\n",
            "33.0    10619\n",
            "32.0     9962\n",
            "24.0     9326\n",
            "31.0     9222\n",
            "21.0     9199\n",
            "23.0     8188\n",
            "1.0      7364\n",
            "22.0     6057\n",
            "18.0      323\n",
            "17.0      243\n",
            "16.0      178\n",
            "15.0      144\n",
            "14.0      134\n",
            "12.0       95\n",
            "11.0       87\n",
            "13.0       82\n",
            "Name: count, dtype: int64\n"
          ]
        },
        {
          "output_type": "display_data",
          "data": {
            "text/plain": [
              "<Figure size 1000x600 with 1 Axes>"
            ],
            "image/png": "[encoded data removed]"
          },
          "metadata": {}
        }
      ]
    },
    {
      "cell_type": "markdown",
      "source": [
        "######Odometer\n",
        "Terdapat Anomali Data, cek Row dan Cell Terkait"
      ],
      "metadata": {
        "id": "rvn-Kb5xVvFI"
      }
    },
    {
      "cell_type": "code",
      "source": [
        "# Frequency Analysis\n",
        "print(df_data['odometer'].value_counts())"
      ],
      "metadata": {
        "colab": {
          "base_uri": "https://localhost:8080/"
        },
        "id": "QGZ5dfFjfHQf",
        "outputId": "1a34bd48-70d5-46e8-cba1-ba4481e31eff"
      },
      "execution_count": 20,
      "outputs": [
        {
          "output_type": "stream",
          "name": "stdout",
          "text": [
            "odometer\n",
            "1.0         1318\n",
            "999999.0      72\n",
            "10.0          29\n",
            "21587.0       21\n",
            "29137.0       18\n",
            "            ... \n",
            "84791.0        1\n",
            "184061.0       1\n",
            "113144.0       1\n",
            "201099.0       1\n",
            "262065.0       1\n",
            "Name: count, Length: 172278, dtype: int64\n"
          ]
        }
      ]
    },
    {
      "cell_type": "markdown",
      "source": [
        "######Color\n",
        "Terdapat Anomali Data, cek Row dan Cell Terkait"
      ],
      "metadata": {
        "id": "J2ZLDTrvWs3Q"
      }
    },
    {
      "cell_type": "code",
      "source": [
        "# Frequency Analysis\n",
        "print(df_data['color'].value_counts())"
      ],
      "metadata": {
        "colab": {
          "base_uri": "https://localhost:8080/"
        },
        "id": "m_-bjfQHfY2x",
        "outputId": "0c9c4296-34f6-479b-bbfc-cc0bc118f5cd"
      },
      "execution_count": 21,
      "outputs": [
        {
          "output_type": "stream",
          "name": "stdout",
          "text": [
            "color\n",
            "black        110970\n",
            "white        106673\n",
            "silver        83389\n",
            "gray          82857\n",
            "blue          51139\n",
            "red           43569\n",
            "—             24685\n",
            "green         11382\n",
            "gold          11342\n",
            "beige          9222\n",
            "burgundy       8972\n",
            "brown          6717\n",
            "orange         2078\n",
            "purple         1561\n",
            "off-white      1449\n",
            "yellow         1285\n",
            "charcoal        479\n",
            "turquoise       236\n",
            "pink             42\n",
            "lime             15\n",
            "9562              1\n",
            "2846              1\n",
            "18561             1\n",
            "18384             1\n",
            "5705              1\n",
            "2817              1\n",
            "6158              1\n",
            "721               1\n",
            "20627             1\n",
            "20379             1\n",
            "9837              1\n",
            "9887              1\n",
            "2172              1\n",
            "339               1\n",
            "6864              1\n",
            "2711              1\n",
            "11034             1\n",
            "16633             1\n",
            "6388              1\n",
            "15719             1\n",
            "12655             1\n",
            "14872             1\n",
            "1167              1\n",
            "9410              1\n",
            "4802              1\n",
            "5001              1\n",
            "Name: count, dtype: int64\n"
          ]
        }
      ]
    },
    {
      "cell_type": "markdown",
      "source": [
        "######Interior\n",
        "Data Normal, Tidak perlu modifikasi"
      ],
      "metadata": {
        "id": "w4l27k_eWwTE"
      }
    },
    {
      "cell_type": "code",
      "source": [
        "# Frequency Analysis\n",
        "print(df_data['interior'].value_counts())\n",
        "\n",
        "# Data Visualization\n",
        "plt.figure(figsize=(10, 6))\n",
        "sns.countplot(x='interior', data=df_data)\n",
        "plt.title('Distribution of interior Types')\n",
        "plt.xticks(rotation=90)\n",
        "plt.show()"
      ],
      "metadata": {
        "colab": {
          "base_uri": "https://localhost:8080/",
          "height": 947
        },
        "id": "uEOBcYm3fnOF",
        "outputId": "6ac2467d-cc9a-4b0b-8039-8e7b3ca5eb5a"
      },
      "execution_count": 22,
      "outputs": [
        {
          "output_type": "stream",
          "name": "stdout",
          "text": [
            "interior\n",
            "black        244329\n",
            "gray         178581\n",
            "beige         59758\n",
            "tan           44093\n",
            "—             17077\n",
            "brown          8640\n",
            "red            1363\n",
            "blue           1143\n",
            "silver         1104\n",
            "off-white       480\n",
            "purple          339\n",
            "gold            324\n",
            "white           256\n",
            "green           245\n",
            "burgundy        191\n",
            "orange          145\n",
            "yellow           20\n",
            "Name: count, dtype: int64\n"
          ]
        },
        {
          "output_type": "display_data",
          "data": {
            "text/plain": [
              "<Figure size 1000x600 with 1 Axes>"
            ],
            "image/png": "[encoded data removed]"
          },
          "metadata": {}
        }
      ]
    },
    {
      "cell_type": "markdown",
      "source": [
        "######Seller\n",
        "Data Normal, Tidak perlu modifikasi"
      ],
      "metadata": {
        "id": "us_E76OuWxzw"
      }
    },
    {
      "cell_type": "code",
      "source": [
        "# Frequency Analysis\n",
        "print(df_data['seller'].value_counts())"
      ],
      "metadata": {
        "colab": {
          "base_uri": "https://localhost:8080/"
        },
        "id": "WDjauOV7f4pF",
        "outputId": "703803f9-69eb-4a1d-e3c7-19babe525e20"
      },
      "execution_count": 24,
      "outputs": [
        {
          "output_type": "stream",
          "name": "stdout",
          "text": [
            "seller\n",
            "nissan-infiniti lt               19693\n",
            "ford motor credit company llc    19162\n",
            "the hertz corporation            18299\n",
            "santander consumer               15285\n",
            "avis corporation                 12540\n",
            "                                 ...  \n",
            "whitney motor company                1\n",
            "auto max sales inc                   1\n",
            "lscg fund 19 llc                     1\n",
            "lexus of santa fe                    1\n",
            "i -5 uhlmann rv                      1\n",
            "Name: count, Length: 14263, dtype: int64\n"
          ]
        }
      ]
    },
    {
      "cell_type": "markdown",
      "source": [
        "######MMR\n",
        "Data Normal, Tidak perlu modifikasi"
      ],
      "metadata": {
        "id": "B0dbuTZMW0mG"
      }
    },
    {
      "cell_type": "code",
      "source": [
        "# Frequency Analysis\n",
        "print(df_data['mmr'].value_counts())"
      ],
      "metadata": {
        "colab": {
          "base_uri": "https://localhost:8080/"
        },
        "id": "_KEMaprRgKzn",
        "outputId": "ac145a50-b192-425f-b5a2-a61b00bf3603"
      },
      "execution_count": 25,
      "outputs": [
        {
          "output_type": "stream",
          "name": "stdout",
          "text": [
            "mmr\n",
            "12500.0     1761\n",
            "11600.0     1751\n",
            "11650.0     1746\n",
            "12150.0     1722\n",
            "11850.0     1717\n",
            "            ... \n",
            "172000.0       1\n",
            "134000.0       1\n",
            "113000.0       1\n",
            "154000.0       1\n",
            "164000.0       1\n",
            "Name: count, Length: 1101, dtype: int64\n"
          ]
        }
      ]
    },
    {
      "cell_type": "markdown",
      "source": [
        "######Selling Price\n",
        "Data Normal, Tidak perlu modifikasi"
      ],
      "metadata": {
        "id": "OdX27mC1W_l0"
      }
    },
    {
      "cell_type": "code",
      "source": [
        "# Frequency Analysis\n",
        "print(df_data['sellingprice'].value_counts())"
      ],
      "metadata": {
        "colab": {
          "base_uri": "https://localhost:8080/"
        },
        "id": "80oysm3bgYt0",
        "outputId": "6dd41a59-f80a-4f00-8711-b1badc455626"
      },
      "execution_count": 26,
      "outputs": [
        {
          "output_type": "stream",
          "name": "stdout",
          "text": [
            "sellingprice\n",
            "11000.0     4453\n",
            "12000.0     4450\n",
            "13000.0     4334\n",
            "10000.0     4029\n",
            "14000.0     3899\n",
            "            ... \n",
            "28350.0        1\n",
            "30201.0        1\n",
            "131500.0       1\n",
            "31550.0        1\n",
            "27840.0        1\n",
            "Name: count, Length: 1887, dtype: int64\n"
          ]
        }
      ]
    },
    {
      "cell_type": "markdown",
      "source": [
        "######Date\n",
        "Data Normal, Tidak perlu modifikasi"
      ],
      "metadata": {
        "id": "PV5yCRbGXBrq"
      }
    },
    {
      "cell_type": "code",
      "source": [
        "# Frequency Analysis\n",
        "print(df_data['saledate'].value_counts())"
      ],
      "metadata": {
        "colab": {
          "base_uri": "https://localhost:8080/"
        },
        "id": "9IAKB0leghr5",
        "outputId": "f32dc037-5e18-4ba6-c686-d41b3a3c041f"
      },
      "execution_count": 28,
      "outputs": [
        {
          "output_type": "stream",
          "name": "stdout",
          "text": [
            "saledate\n",
            "Tue Feb 10 2015 01:30:00 GMT-0800 (PST)    5334\n",
            "Tue Feb 17 2015 01:30:00 GMT-0800 (PST)    5016\n",
            "Tue Jan 27 2015 01:30:00 GMT-0800 (PST)    4902\n",
            "Tue Jan 20 2015 01:30:00 GMT-0800 (PST)    4731\n",
            "Tue Mar 03 2015 01:30:00 GMT-0800 (PST)    4653\n",
            "                                           ... \n",
            "Thu Feb 05 2015 05:10:00 GMT-0800 (PST)       1\n",
            "Thu Jan 02 2014 09:30:00 GMT-0800 (PST)       1\n",
            "Tue Apr 28 2015 05:50:00 GMT-0700 (PDT)       1\n",
            "Wed Jan 21 2015 05:45:00 GMT-0800 (PST)       1\n",
            "Wed Jul 08 2015 09:45:00 GMT-0700 (PDT)       1\n",
            "Name: count, Length: 3766, dtype: int64\n"
          ]
        }
      ]
    },
    {
      "cell_type": "markdown",
      "metadata": {
        "id": "O4UqsPBoa0gk"
      },
      "source": [
        "##### Separate Duplicate Checking\n",
        "Guna memastikan tidak ada Duplikasi terutama pada VIN (Vehicle Identification Number)"
      ]
    },
    {
      "cell_type": "code",
      "execution_count": null,
      "metadata": {
        "id": "O8C2_g6ea0gl",
        "outputId": "c04877c8-3f63-40e3-82f1-034e043bebdc",
        "colab": {
          "base_uri": "https://localhost:8080/"
        }
      },
      "outputs": [
        {
          "output_type": "execute_result",
          "data": {
            "text/plain": [
              "8539"
            ]
          },
          "metadata": {},
          "execution_count": 13
        }
      ],
      "source": [
        "df_data['vin'].duplicated().sum()"
      ]
    },
    {
      "cell_type": "markdown",
      "source": [],
      "metadata": {
        "id": "s4IA76petD2k"
      }
    },
    {
      "cell_type": "markdown",
      "metadata": {
        "id": "OYdN6lKwa0hO"
      },
      "source": [
        "### Data Cleaning"
      ]
    },
    {
      "cell_type": "markdown",
      "metadata": {
        "id": "cPDyzjZda0hQ"
      },
      "source": [
        "#### Order Payments Dataset\n",
        "- **Action :** Since no duplication or null values were found, no further cleaning is needed for this dataset."
      ]
    },
    {
      "cell_type": "markdown",
      "metadata": {
        "id": "oyrqb8yDa0hW"
      },
      "source": [
        "#### Sellers Dataset\n",
        "- **Action :** Since no duplication or null values were found, no further cleaning is needed for this dataset."
      ]
    },
    {
      "cell_type": "markdown",
      "metadata": {
        "id": "q3esxFOva0hW"
      },
      "source": [
        "#### Product Category Dataset\n",
        "- **Action :** Since no duplication or null values were found, no further cleaning is needed for this dataset."
      ]
    },
    {
      "cell_type": "markdown",
      "metadata": {
        "id": "XT0c_QVna0hW"
      },
      "source": [
        "## Exploratory Data Analysis (EDA)"
      ]
    },
    {
      "cell_type": "markdown",
      "metadata": {
        "id": "4Y_YQjIta0hX"
      },
      "source": [
        "### Explore Datasets"
      ]
    },
    {
      "cell_type": "code",
      "execution_count": null,
      "metadata": {
        "id": "iNZGUR-aa0hX",
        "outputId": "6c02de9b-61a0-47d2-8823-ce7cdb265d36"
      },
      "outputs": [
        {
          "data": {
            "text/html": [
              "<div>\n",
              "<style scoped>\n",
              "    .dataframe tbody tr th:only-of-type {\n",
              "        vertical-align: middle;\n",
              "    }\n",
              "\n",
              "    .dataframe tbody tr th {\n",
              "        vertical-align: top;\n",
              "    }\n",
              "\n",
              "    .dataframe thead th {\n",
              "        text-align: right;\n",
              "    }\n",
              "</style>\n",
              "<table border=\"1\" class=\"dataframe\">\n",
              "  <thead>\n",
              "    <tr style=\"text-align: right;\">\n",
              "      <th></th>\n",
              "      <th>customer_id</th>\n",
              "      <th>customer_unique_id</th>\n",
              "      <th>customer_zip_code_prefix</th>\n",
              "      <th>customer_city</th>\n",
              "      <th>customer_state</th>\n",
              "    </tr>\n",
              "  </thead>\n",
              "  <tbody>\n",
              "    <tr>\n",
              "      <th>count</th>\n",
              "      <td>99441</td>\n",
              "      <td>99441</td>\n",
              "      <td>99441.000000</td>\n",
              "      <td>99441</td>\n",
              "      <td>99441</td>\n",
              "    </tr>\n",
              "    <tr>\n",
              "      <th>unique</th>\n",
              "      <td>99441</td>\n",
              "      <td>96096</td>\n",
              "      <td>NaN</td>\n",
              "      <td>4119</td>\n",
              "      <td>27</td>\n",
              "    </tr>\n",
              "    <tr>\n",
              "      <th>top</th>\n",
              "      <td>274fa6071e5e17fe303b9748641082c8</td>\n",
              "      <td>8d50f5eadf50201ccdcedfb9e2ac8455</td>\n",
              "      <td>NaN</td>\n",
              "      <td>sao paulo</td>\n",
              "      <td>SP</td>\n",
              "    </tr>\n",
              "    <tr>\n",
              "      <th>freq</th>\n",
              "      <td>1</td>\n",
              "      <td>17</td>\n",
              "      <td>NaN</td>\n",
              "      <td>15540</td>\n",
              "      <td>41746</td>\n",
              "    </tr>\n",
              "    <tr>\n",
              "      <th>mean</th>\n",
              "      <td>NaN</td>\n",
              "      <td>NaN</td>\n",
              "      <td>35137.474583</td>\n",
              "      <td>NaN</td>\n",
              "      <td>NaN</td>\n",
              "    </tr>\n",
              "    <tr>\n",
              "      <th>std</th>\n",
              "      <td>NaN</td>\n",
              "      <td>NaN</td>\n",
              "      <td>29797.938996</td>\n",
              "      <td>NaN</td>\n",
              "      <td>NaN</td>\n",
              "    </tr>\n",
              "    <tr>\n",
              "      <th>min</th>\n",
              "      <td>NaN</td>\n",
              "      <td>NaN</td>\n",
              "      <td>1003.000000</td>\n",
              "      <td>NaN</td>\n",
              "      <td>NaN</td>\n",
              "    </tr>\n",
              "    <tr>\n",
              "      <th>25%</th>\n",
              "      <td>NaN</td>\n",
              "      <td>NaN</td>\n",
              "      <td>11347.000000</td>\n",
              "      <td>NaN</td>\n",
              "      <td>NaN</td>\n",
              "    </tr>\n",
              "    <tr>\n",
              "      <th>50%</th>\n",
              "      <td>NaN</td>\n",
              "      <td>NaN</td>\n",
              "      <td>24416.000000</td>\n",
              "      <td>NaN</td>\n",
              "      <td>NaN</td>\n",
              "    </tr>\n",
              "    <tr>\n",
              "      <th>75%</th>\n",
              "      <td>NaN</td>\n",
              "      <td>NaN</td>\n",
              "      <td>58900.000000</td>\n",
              "      <td>NaN</td>\n",
              "      <td>NaN</td>\n",
              "    </tr>\n",
              "    <tr>\n",
              "      <th>max</th>\n",
              "      <td>NaN</td>\n",
              "      <td>NaN</td>\n",
              "      <td>99990.000000</td>\n",
              "      <td>NaN</td>\n",
              "      <td>NaN</td>\n",
              "    </tr>\n",
              "  </tbody>\n",
              "</table>\n",
              "</div>"
            ],
            "text/plain": [
              "                             customer_id                customer_unique_id  \\\n",
              "count                              99441                             99441   \n",
              "unique                             99441                             96096   \n",
              "top     274fa6071e5e17fe303b9748641082c8  8d50f5eadf50201ccdcedfb9e2ac8455   \n",
              "freq                                   1                                17   \n",
              "mean                                 NaN                               NaN   \n",
              "std                                  NaN                               NaN   \n",
              "min                                  NaN                               NaN   \n",
              "25%                                  NaN                               NaN   \n",
              "50%                                  NaN                               NaN   \n",
              "75%                                  NaN                               NaN   \n",
              "max                                  NaN                               NaN   \n",
              "\n",
              "        customer_zip_code_prefix customer_city customer_state  \n",
              "count               99441.000000         99441          99441  \n",
              "unique                       NaN          4119             27  \n",
              "top                          NaN     sao paulo             SP  \n",
              "freq                         NaN         15540          41746  \n",
              "mean                35137.474583           NaN            NaN  \n",
              "std                 29797.938996           NaN            NaN  \n",
              "min                  1003.000000           NaN            NaN  \n",
              "25%                 11347.000000           NaN            NaN  \n",
              "50%                 24416.000000           NaN            NaN  \n",
              "75%                 58900.000000           NaN            NaN  \n",
              "max                 99990.000000           NaN            NaN  "
            ]
          },
          "execution_count": 75,
          "metadata": {},
          "output_type": "execute_result"
        }
      ],
      "source": [
        "customer_df.describe(include=\"all\")"
      ]
    },
    {
      "cell_type": "code",
      "execution_count": null,
      "metadata": {
        "id": "EQ-MBuY-a0hX",
        "outputId": "fa6c8111-f4c5-49e1-b77a-229c57df1a5b"
      },
      "outputs": [
        {
          "data": {
            "text/html": [
              "<div>\n",
              "<style scoped>\n",
              "    .dataframe tbody tr th:only-of-type {\n",
              "        vertical-align: middle;\n",
              "    }\n",
              "\n",
              "    .dataframe tbody tr th {\n",
              "        vertical-align: top;\n",
              "    }\n",
              "\n",
              "    .dataframe thead th {\n",
              "        text-align: right;\n",
              "    }\n",
              "</style>\n",
              "<table border=\"1\" class=\"dataframe\">\n",
              "  <thead>\n",
              "    <tr style=\"text-align: right;\">\n",
              "      <th></th>\n",
              "      <th>geolocation_zip_code_prefix</th>\n",
              "      <th>geolocation_lat</th>\n",
              "      <th>geolocation_lng</th>\n",
              "      <th>geolocation_city</th>\n",
              "      <th>geolocation_state</th>\n",
              "    </tr>\n",
              "  </thead>\n",
              "  <tbody>\n",
              "    <tr>\n",
              "      <th>count</th>\n",
              "      <td>1.000163e+06</td>\n",
              "      <td>1.000163e+06</td>\n",
              "      <td>1.000163e+06</td>\n",
              "      <td>1000163</td>\n",
              "      <td>1000163</td>\n",
              "    </tr>\n",
              "    <tr>\n",
              "      <th>unique</th>\n",
              "      <td>NaN</td>\n",
              "      <td>NaN</td>\n",
              "      <td>NaN</td>\n",
              "      <td>8011</td>\n",
              "      <td>27</td>\n",
              "    </tr>\n",
              "    <tr>\n",
              "      <th>top</th>\n",
              "      <td>NaN</td>\n",
              "      <td>NaN</td>\n",
              "      <td>NaN</td>\n",
              "      <td>sao paulo</td>\n",
              "      <td>SP</td>\n",
              "    </tr>\n",
              "    <tr>\n",
              "      <th>freq</th>\n",
              "      <td>NaN</td>\n",
              "      <td>NaN</td>\n",
              "      <td>NaN</td>\n",
              "      <td>135800</td>\n",
              "      <td>404268</td>\n",
              "    </tr>\n",
              "    <tr>\n",
              "      <th>mean</th>\n",
              "      <td>3.657417e+04</td>\n",
              "      <td>-2.117615e+01</td>\n",
              "      <td>-4.639054e+01</td>\n",
              "      <td>NaN</td>\n",
              "      <td>NaN</td>\n",
              "    </tr>\n",
              "    <tr>\n",
              "      <th>std</th>\n",
              "      <td>3.054934e+04</td>\n",
              "      <td>5.715866e+00</td>\n",
              "      <td>4.269748e+00</td>\n",
              "      <td>NaN</td>\n",
              "      <td>NaN</td>\n",
              "    </tr>\n",
              "    <tr>\n",
              "      <th>min</th>\n",
              "      <td>1.001000e+03</td>\n",
              "      <td>-3.660537e+01</td>\n",
              "      <td>-1.014668e+02</td>\n",
              "      <td>NaN</td>\n",
              "      <td>NaN</td>\n",
              "    </tr>\n",
              "    <tr>\n",
              "      <th>25%</th>\n",
              "      <td>1.107500e+04</td>\n",
              "      <td>-2.360355e+01</td>\n",
              "      <td>-4.857317e+01</td>\n",
              "      <td>NaN</td>\n",
              "      <td>NaN</td>\n",
              "    </tr>\n",
              "    <tr>\n",
              "      <th>50%</th>\n",
              "      <td>2.653000e+04</td>\n",
              "      <td>-2.291938e+01</td>\n",
              "      <td>-4.663788e+01</td>\n",
              "      <td>NaN</td>\n",
              "      <td>NaN</td>\n",
              "    </tr>\n",
              "    <tr>\n",
              "      <th>75%</th>\n",
              "      <td>6.350400e+04</td>\n",
              "      <td>-1.997962e+01</td>\n",
              "      <td>-4.376771e+01</td>\n",
              "      <td>NaN</td>\n",
              "      <td>NaN</td>\n",
              "    </tr>\n",
              "    <tr>\n",
              "      <th>max</th>\n",
              "      <td>9.999000e+04</td>\n",
              "      <td>4.506593e+01</td>\n",
              "      <td>1.211054e+02</td>\n",
              "      <td>NaN</td>\n",
              "      <td>NaN</td>\n",
              "    </tr>\n",
              "  </tbody>\n",
              "</table>\n",
              "</div>"
            ],
            "text/plain": [
              "        geolocation_zip_code_prefix  geolocation_lat  geolocation_lng  \\\n",
              "count                  1.000163e+06     1.000163e+06     1.000163e+06   \n",
              "unique                          NaN              NaN              NaN   \n",
              "top                             NaN              NaN              NaN   \n",
              "freq                            NaN              NaN              NaN   \n",
              "mean                   3.657417e+04    -2.117615e+01    -4.639054e+01   \n",
              "std                    3.054934e+04     5.715866e+00     4.269748e+00   \n",
              "min                    1.001000e+03    -3.660537e+01    -1.014668e+02   \n",
              "25%                    1.107500e+04    -2.360355e+01    -4.857317e+01   \n",
              "50%                    2.653000e+04    -2.291938e+01    -4.663788e+01   \n",
              "75%                    6.350400e+04    -1.997962e+01    -4.376771e+01   \n",
              "max                    9.999000e+04     4.506593e+01     1.211054e+02   \n",
              "\n",
              "       geolocation_city geolocation_state  \n",
              "count           1000163           1000163  \n",
              "unique             8011                27  \n",
              "top           sao paulo                SP  \n",
              "freq             135800            404268  \n",
              "mean                NaN               NaN  \n",
              "std                 NaN               NaN  \n",
              "min                 NaN               NaN  \n",
              "25%                 NaN               NaN  \n",
              "50%                 NaN               NaN  \n",
              "75%                 NaN               NaN  \n",
              "max                 NaN               NaN  "
            ]
          },
          "execution_count": 76,
          "metadata": {},
          "output_type": "execute_result"
        }
      ],
      "source": [
        "geoloc_df.describe(include=\"all\")"
      ]
    },
    {
      "cell_type": "code",
      "execution_count": null,
      "metadata": {
        "id": "L5s95uxba0hX",
        "outputId": "5d350722-adf5-4641-c58a-fe0eab64eea6"
      },
      "outputs": [
        {
          "data": {
            "text/html": [
              "<div>\n",
              "<style scoped>\n",
              "    .dataframe tbody tr th:only-of-type {\n",
              "        vertical-align: middle;\n",
              "    }\n",
              "\n",
              "    .dataframe tbody tr th {\n",
              "        vertical-align: top;\n",
              "    }\n",
              "\n",
              "    .dataframe thead th {\n",
              "        text-align: right;\n",
              "    }\n",
              "</style>\n",
              "<table border=\"1\" class=\"dataframe\">\n",
              "  <thead>\n",
              "    <tr style=\"text-align: right;\">\n",
              "      <th></th>\n",
              "      <th>product_id</th>\n",
              "      <th>product_category_name</th>\n",
              "      <th>product_name_lenght</th>\n",
              "      <th>product_description_lenght</th>\n",
              "      <th>product_photos_qty</th>\n",
              "      <th>product_weight_g</th>\n",
              "      <th>product_length_cm</th>\n",
              "      <th>product_height_cm</th>\n",
              "      <th>product_width_cm</th>\n",
              "    </tr>\n",
              "  </thead>\n",
              "  <tbody>\n",
              "    <tr>\n",
              "      <th>count</th>\n",
              "      <td>32951</td>\n",
              "      <td>32951</td>\n",
              "      <td>32951.000000</td>\n",
              "      <td>32951.000000</td>\n",
              "      <td>32951.000000</td>\n",
              "      <td>32951.000000</td>\n",
              "      <td>32951.000000</td>\n",
              "      <td>32951.000000</td>\n",
              "      <td>32951.000000</td>\n",
              "    </tr>\n",
              "    <tr>\n",
              "      <th>unique</th>\n",
              "      <td>32951</td>\n",
              "      <td>74</td>\n",
              "      <td>NaN</td>\n",
              "      <td>NaN</td>\n",
              "      <td>NaN</td>\n",
              "      <td>NaN</td>\n",
              "      <td>NaN</td>\n",
              "      <td>NaN</td>\n",
              "      <td>NaN</td>\n",
              "    </tr>\n",
              "    <tr>\n",
              "      <th>top</th>\n",
              "      <td>106392145fca363410d287a815be6de4</td>\n",
              "      <td>cama_mesa_banho</td>\n",
              "      <td>NaN</td>\n",
              "      <td>NaN</td>\n",
              "      <td>NaN</td>\n",
              "      <td>NaN</td>\n",
              "      <td>NaN</td>\n",
              "      <td>NaN</td>\n",
              "      <td>NaN</td>\n",
              "    </tr>\n",
              "    <tr>\n",
              "      <th>freq</th>\n",
              "      <td>1</td>\n",
              "      <td>3029</td>\n",
              "      <td>NaN</td>\n",
              "      <td>NaN</td>\n",
              "      <td>NaN</td>\n",
              "      <td>NaN</td>\n",
              "      <td>NaN</td>\n",
              "      <td>NaN</td>\n",
              "      <td>NaN</td>\n",
              "    </tr>\n",
              "    <tr>\n",
              "      <th>mean</th>\n",
              "      <td>NaN</td>\n",
              "      <td>NaN</td>\n",
              "      <td>48.523656</td>\n",
              "      <td>768.227945</td>\n",
              "      <td>2.166975</td>\n",
              "      <td>2276.376802</td>\n",
              "      <td>30.814725</td>\n",
              "      <td>16.937422</td>\n",
              "      <td>23.196534</td>\n",
              "    </tr>\n",
              "    <tr>\n",
              "      <th>std</th>\n",
              "      <td>NaN</td>\n",
              "      <td>NaN</td>\n",
              "      <td>10.156155</td>\n",
              "      <td>629.658469</td>\n",
              "      <td>1.728063</td>\n",
              "      <td>4281.926387</td>\n",
              "      <td>16.914005</td>\n",
              "      <td>13.637175</td>\n",
              "      <td>12.078707</td>\n",
              "    </tr>\n",
              "    <tr>\n",
              "      <th>min</th>\n",
              "      <td>NaN</td>\n",
              "      <td>NaN</td>\n",
              "      <td>5.000000</td>\n",
              "      <td>4.000000</td>\n",
              "      <td>1.000000</td>\n",
              "      <td>0.000000</td>\n",
              "      <td>7.000000</td>\n",
              "      <td>2.000000</td>\n",
              "      <td>6.000000</td>\n",
              "    </tr>\n",
              "    <tr>\n",
              "      <th>25%</th>\n",
              "      <td>NaN</td>\n",
              "      <td>NaN</td>\n",
              "      <td>42.000000</td>\n",
              "      <td>344.000000</td>\n",
              "      <td>1.000000</td>\n",
              "      <td>300.000000</td>\n",
              "      <td>18.000000</td>\n",
              "      <td>8.000000</td>\n",
              "      <td>15.000000</td>\n",
              "    </tr>\n",
              "    <tr>\n",
              "      <th>50%</th>\n",
              "      <td>NaN</td>\n",
              "      <td>NaN</td>\n",
              "      <td>51.000000</td>\n",
              "      <td>595.000000</td>\n",
              "      <td>1.000000</td>\n",
              "      <td>700.000000</td>\n",
              "      <td>25.000000</td>\n",
              "      <td>13.000000</td>\n",
              "      <td>20.000000</td>\n",
              "    </tr>\n",
              "    <tr>\n",
              "      <th>75%</th>\n",
              "      <td>NaN</td>\n",
              "      <td>NaN</td>\n",
              "      <td>57.000000</td>\n",
              "      <td>961.000000</td>\n",
              "      <td>3.000000</td>\n",
              "      <td>1900.000000</td>\n",
              "      <td>38.000000</td>\n",
              "      <td>21.000000</td>\n",
              "      <td>30.000000</td>\n",
              "    </tr>\n",
              "    <tr>\n",
              "      <th>max</th>\n",
              "      <td>NaN</td>\n",
              "      <td>NaN</td>\n",
              "      <td>76.000000</td>\n",
              "      <td>3992.000000</td>\n",
              "      <td>20.000000</td>\n",
              "      <td>40425.000000</td>\n",
              "      <td>105.000000</td>\n",
              "      <td>105.000000</td>\n",
              "      <td>118.000000</td>\n",
              "    </tr>\n",
              "  </tbody>\n",
              "</table>\n",
              "</div>"
            ],
            "text/plain": [
              "                              product_id product_category_name  \\\n",
              "count                              32951                 32951   \n",
              "unique                             32951                    74   \n",
              "top     106392145fca363410d287a815be6de4       cama_mesa_banho   \n",
              "freq                                   1                  3029   \n",
              "mean                                 NaN                   NaN   \n",
              "std                                  NaN                   NaN   \n",
              "min                                  NaN                   NaN   \n",
              "25%                                  NaN                   NaN   \n",
              "50%                                  NaN                   NaN   \n",
              "75%                                  NaN                   NaN   \n",
              "max                                  NaN                   NaN   \n",
              "\n",
              "        product_name_lenght  product_description_lenght  product_photos_qty  \\\n",
              "count          32951.000000                32951.000000        32951.000000   \n",
              "unique                  NaN                         NaN                 NaN   \n",
              "top                     NaN                         NaN                 NaN   \n",
              "freq                    NaN                         NaN                 NaN   \n",
              "mean              48.523656                  768.227945            2.166975   \n",
              "std               10.156155                  629.658469            1.728063   \n",
              "min                5.000000                    4.000000            1.000000   \n",
              "25%               42.000000                  344.000000            1.000000   \n",
              "50%               51.000000                  595.000000            1.000000   \n",
              "75%               57.000000                  961.000000            3.000000   \n",
              "max               76.000000                 3992.000000           20.000000   \n",
              "\n",
              "        product_weight_g  product_length_cm  product_height_cm  \\\n",
              "count       32951.000000       32951.000000       32951.000000   \n",
              "unique               NaN                NaN                NaN   \n",
              "top                  NaN                NaN                NaN   \n",
              "freq                 NaN                NaN                NaN   \n",
              "mean         2276.376802          30.814725          16.937422   \n",
              "std          4281.926387          16.914005          13.637175   \n",
              "min             0.000000           7.000000           2.000000   \n",
              "25%           300.000000          18.000000           8.000000   \n",
              "50%           700.000000          25.000000          13.000000   \n",
              "75%          1900.000000          38.000000          21.000000   \n",
              "max         40425.000000         105.000000         105.000000   \n",
              "\n",
              "        product_width_cm  \n",
              "count       32951.000000  \n",
              "unique               NaN  \n",
              "top                  NaN  \n",
              "freq                 NaN  \n",
              "mean           23.196534  \n",
              "std            12.078707  \n",
              "min             6.000000  \n",
              "25%            15.000000  \n",
              "50%            20.000000  \n",
              "75%            30.000000  \n",
              "max           118.000000  "
            ]
          },
          "execution_count": 77,
          "metadata": {},
          "output_type": "execute_result"
        }
      ],
      "source": [
        "products_df.describe(include=\"all\")"
      ]
    },
    {
      "cell_type": "code",
      "execution_count": null,
      "metadata": {
        "id": "5QWN__0-a0hX",
        "outputId": "030bc424-3387-4ab2-db6d-1ce740ce09d2"
      },
      "outputs": [
        {
          "data": {
            "text/html": [
              "<div>\n",
              "<style scoped>\n",
              "    .dataframe tbody tr th:only-of-type {\n",
              "        vertical-align: middle;\n",
              "    }\n",
              "\n",
              "    .dataframe tbody tr th {\n",
              "        vertical-align: top;\n",
              "    }\n",
              "\n",
              "    .dataframe thead th {\n",
              "        text-align: right;\n",
              "    }\n",
              "</style>\n",
              "<table border=\"1\" class=\"dataframe\">\n",
              "  <thead>\n",
              "    <tr style=\"text-align: right;\">\n",
              "      <th></th>\n",
              "      <th>seller_id</th>\n",
              "      <th>seller_zip_code_prefix</th>\n",
              "      <th>seller_city</th>\n",
              "      <th>seller_state</th>\n",
              "    </tr>\n",
              "  </thead>\n",
              "  <tbody>\n",
              "    <tr>\n",
              "      <th>count</th>\n",
              "      <td>3095</td>\n",
              "      <td>3095.000000</td>\n",
              "      <td>3095</td>\n",
              "      <td>3095</td>\n",
              "    </tr>\n",
              "    <tr>\n",
              "      <th>unique</th>\n",
              "      <td>3095</td>\n",
              "      <td>NaN</td>\n",
              "      <td>611</td>\n",
              "      <td>23</td>\n",
              "    </tr>\n",
              "    <tr>\n",
              "      <th>top</th>\n",
              "      <td>9e25199f6ef7e7c347120ff175652c3b</td>\n",
              "      <td>NaN</td>\n",
              "      <td>sao paulo</td>\n",
              "      <td>SP</td>\n",
              "    </tr>\n",
              "    <tr>\n",
              "      <th>freq</th>\n",
              "      <td>1</td>\n",
              "      <td>NaN</td>\n",
              "      <td>694</td>\n",
              "      <td>1849</td>\n",
              "    </tr>\n",
              "    <tr>\n",
              "      <th>mean</th>\n",
              "      <td>NaN</td>\n",
              "      <td>32291.059451</td>\n",
              "      <td>NaN</td>\n",
              "      <td>NaN</td>\n",
              "    </tr>\n",
              "    <tr>\n",
              "      <th>std</th>\n",
              "      <td>NaN</td>\n",
              "      <td>32713.453830</td>\n",
              "      <td>NaN</td>\n",
              "      <td>NaN</td>\n",
              "    </tr>\n",
              "    <tr>\n",
              "      <th>min</th>\n",
              "      <td>NaN</td>\n",
              "      <td>1001.000000</td>\n",
              "      <td>NaN</td>\n",
              "      <td>NaN</td>\n",
              "    </tr>\n",
              "    <tr>\n",
              "      <th>25%</th>\n",
              "      <td>NaN</td>\n",
              "      <td>7093.500000</td>\n",
              "      <td>NaN</td>\n",
              "      <td>NaN</td>\n",
              "    </tr>\n",
              "    <tr>\n",
              "      <th>50%</th>\n",
              "      <td>NaN</td>\n",
              "      <td>14940.000000</td>\n",
              "      <td>NaN</td>\n",
              "      <td>NaN</td>\n",
              "    </tr>\n",
              "    <tr>\n",
              "      <th>75%</th>\n",
              "      <td>NaN</td>\n",
              "      <td>64552.500000</td>\n",
              "      <td>NaN</td>\n",
              "      <td>NaN</td>\n",
              "    </tr>\n",
              "    <tr>\n",
              "      <th>max</th>\n",
              "      <td>NaN</td>\n",
              "      <td>99730.000000</td>\n",
              "      <td>NaN</td>\n",
              "      <td>NaN</td>\n",
              "    </tr>\n",
              "  </tbody>\n",
              "</table>\n",
              "</div>"
            ],
            "text/plain": [
              "                               seller_id  seller_zip_code_prefix seller_city  \\\n",
              "count                               3095             3095.000000        3095   \n",
              "unique                              3095                     NaN         611   \n",
              "top     9e25199f6ef7e7c347120ff175652c3b                     NaN   sao paulo   \n",
              "freq                                   1                     NaN         694   \n",
              "mean                                 NaN            32291.059451         NaN   \n",
              "std                                  NaN            32713.453830         NaN   \n",
              "min                                  NaN             1001.000000         NaN   \n",
              "25%                                  NaN             7093.500000         NaN   \n",
              "50%                                  NaN            14940.000000         NaN   \n",
              "75%                                  NaN            64552.500000         NaN   \n",
              "max                                  NaN            99730.000000         NaN   \n",
              "\n",
              "       seller_state  \n",
              "count          3095  \n",
              "unique           23  \n",
              "top              SP  \n",
              "freq           1849  \n",
              "mean            NaN  \n",
              "std             NaN  \n",
              "min             NaN  \n",
              "25%             NaN  \n",
              "50%             NaN  \n",
              "75%             NaN  \n",
              "max             NaN  "
            ]
          },
          "execution_count": 78,
          "metadata": {},
          "output_type": "execute_result"
        }
      ],
      "source": [
        "sellers_df.describe(include=\"all\")"
      ]
    },
    {
      "cell_type": "markdown",
      "metadata": {
        "id": "AaXZKkhxa0hX"
      },
      "source": [
        "**Creating Clearer City Latitude and Longitude**"
      ]
    },
    {
      "cell_type": "code",
      "execution_count": null,
      "metadata": {
        "id": "kyjt1HUza0hY",
        "outputId": "076b8861-6cf1-4e11-f927-db915bbbb636"
      },
      "outputs": [
        {
          "data": {
            "text/html": [
              "<div>\n",
              "<style scoped>\n",
              "    .dataframe tbody tr th:only-of-type {\n",
              "        vertical-align: middle;\n",
              "    }\n",
              "\n",
              "    .dataframe tbody tr th {\n",
              "        vertical-align: top;\n",
              "    }\n",
              "\n",
              "    .dataframe thead tr th {\n",
              "        text-align: left;\n",
              "    }\n",
              "\n",
              "    .dataframe thead tr:last-of-type th {\n",
              "        text-align: right;\n",
              "    }\n",
              "</style>\n",
              "<table border=\"1\" class=\"dataframe\">\n",
              "  <thead>\n",
              "    <tr>\n",
              "      <th></th>\n",
              "      <th colspan=\"4\" halign=\"left\">geolocation_lat</th>\n",
              "      <th colspan=\"4\" halign=\"left\">geolocation_lng</th>\n",
              "    </tr>\n",
              "    <tr>\n",
              "      <th></th>\n",
              "      <th>max</th>\n",
              "      <th>min</th>\n",
              "      <th>mean</th>\n",
              "      <th>std</th>\n",
              "      <th>max</th>\n",
              "      <th>min</th>\n",
              "      <th>mean</th>\n",
              "      <th>std</th>\n",
              "    </tr>\n",
              "    <tr>\n",
              "      <th>geolocation_city</th>\n",
              "      <th></th>\n",
              "      <th></th>\n",
              "      <th></th>\n",
              "      <th></th>\n",
              "      <th></th>\n",
              "      <th></th>\n",
              "      <th></th>\n",
              "      <th></th>\n",
              "    </tr>\n",
              "  </thead>\n",
              "  <tbody>\n",
              "    <tr>\n",
              "      <th>* cidade</th>\n",
              "      <td>-25.571748</td>\n",
              "      <td>-25.571748</td>\n",
              "      <td>-25.571748</td>\n",
              "      <td>NaN</td>\n",
              "      <td>-49.334374</td>\n",
              "      <td>-49.334374</td>\n",
              "      <td>-49.334374</td>\n",
              "      <td>NaN</td>\n",
              "    </tr>\n",
              "    <tr>\n",
              "      <th>...arraial do cabo</th>\n",
              "      <td>-22.969370</td>\n",
              "      <td>-22.969370</td>\n",
              "      <td>-22.969370</td>\n",
              "      <td>NaN</td>\n",
              "      <td>-42.029834</td>\n",
              "      <td>-42.029834</td>\n",
              "      <td>-42.029834</td>\n",
              "      <td>NaN</td>\n",
              "    </tr>\n",
              "    <tr>\n",
              "      <th>4o. centenario</th>\n",
              "      <td>-24.271860</td>\n",
              "      <td>-24.271860</td>\n",
              "      <td>-24.271860</td>\n",
              "      <td>NaN</td>\n",
              "      <td>-53.069433</td>\n",
              "      <td>-53.069433</td>\n",
              "      <td>-53.069433</td>\n",
              "      <td>NaN</td>\n",
              "    </tr>\n",
              "    <tr>\n",
              "      <th>4º centenario</th>\n",
              "      <td>-24.277697</td>\n",
              "      <td>-24.281905</td>\n",
              "      <td>-24.279801</td>\n",
              "      <td>0.002976</td>\n",
              "      <td>-53.074516</td>\n",
              "      <td>-53.074930</td>\n",
              "      <td>-53.074723</td>\n",
              "      <td>0.000293</td>\n",
              "    </tr>\n",
              "    <tr>\n",
              "      <th>abadia de goias</th>\n",
              "      <td>-16.756821</td>\n",
              "      <td>-16.789539</td>\n",
              "      <td>-16.767063</td>\n",
              "      <td>0.009978</td>\n",
              "      <td>-49.426674</td>\n",
              "      <td>-49.469430</td>\n",
              "      <td>-49.438089</td>\n",
              "      <td>0.013241</td>\n",
              "    </tr>\n",
              "    <tr>\n",
              "      <th>...</th>\n",
              "      <td>...</td>\n",
              "      <td>...</td>\n",
              "      <td>...</td>\n",
              "      <td>...</td>\n",
              "      <td>...</td>\n",
              "      <td>...</td>\n",
              "      <td>...</td>\n",
              "      <td>...</td>\n",
              "    </tr>\n",
              "    <tr>\n",
              "      <th>áurea</th>\n",
              "      <td>-27.692454</td>\n",
              "      <td>-27.697565</td>\n",
              "      <td>-27.695009</td>\n",
              "      <td>0.003614</td>\n",
              "      <td>-52.054195</td>\n",
              "      <td>-52.055957</td>\n",
              "      <td>-52.055076</td>\n",
              "      <td>0.001246</td>\n",
              "    </tr>\n",
              "    <tr>\n",
              "      <th>ângulo</th>\n",
              "      <td>-23.193593</td>\n",
              "      <td>-23.198309</td>\n",
              "      <td>-23.195024</td>\n",
              "      <td>0.002241</td>\n",
              "      <td>-51.916100</td>\n",
              "      <td>-51.918154</td>\n",
              "      <td>-51.917294</td>\n",
              "      <td>0.001030</td>\n",
              "    </tr>\n",
              "    <tr>\n",
              "      <th>érico cardoso</th>\n",
              "      <td>-13.393047</td>\n",
              "      <td>-13.393047</td>\n",
              "      <td>-13.393047</td>\n",
              "      <td>NaN</td>\n",
              "      <td>-42.134282</td>\n",
              "      <td>-42.134282</td>\n",
              "      <td>-42.134282</td>\n",
              "      <td>NaN</td>\n",
              "    </tr>\n",
              "    <tr>\n",
              "      <th>óbidos</th>\n",
              "      <td>-1.897693</td>\n",
              "      <td>-1.917688</td>\n",
              "      <td>-1.907183</td>\n",
              "      <td>0.005624</td>\n",
              "      <td>-55.510995</td>\n",
              "      <td>-55.524011</td>\n",
              "      <td>-55.516370</td>\n",
              "      <td>0.003631</td>\n",
              "    </tr>\n",
              "    <tr>\n",
              "      <th>óleo</th>\n",
              "      <td>-22.937454</td>\n",
              "      <td>-22.944293</td>\n",
              "      <td>-22.940222</td>\n",
              "      <td>0.003242</td>\n",
              "      <td>-49.336995</td>\n",
              "      <td>-49.343426</td>\n",
              "      <td>-49.339676</td>\n",
              "      <td>0.002987</td>\n",
              "    </tr>\n",
              "  </tbody>\n",
              "</table>\n",
              "<p>8011 rows × 8 columns</p>\n",
              "</div>"
            ],
            "text/plain": [
              "                   geolocation_lat                                  \\\n",
              "                               max        min       mean       std   \n",
              "geolocation_city                                                     \n",
              "* cidade                -25.571748 -25.571748 -25.571748       NaN   \n",
              "...arraial do cabo      -22.969370 -22.969370 -22.969370       NaN   \n",
              "4o. centenario          -24.271860 -24.271860 -24.271860       NaN   \n",
              "4º centenario           -24.277697 -24.281905 -24.279801  0.002976   \n",
              "abadia de goias         -16.756821 -16.789539 -16.767063  0.009978   \n",
              "...                            ...        ...        ...       ...   \n",
              "áurea                   -27.692454 -27.697565 -27.695009  0.003614   \n",
              "ângulo                  -23.193593 -23.198309 -23.195024  0.002241   \n",
              "érico cardoso           -13.393047 -13.393047 -13.393047       NaN   \n",
              "óbidos                   -1.897693  -1.917688  -1.907183  0.005624   \n",
              "óleo                    -22.937454 -22.944293 -22.940222  0.003242   \n",
              "\n",
              "                   geolocation_lng                                  \n",
              "                               max        min       mean       std  \n",
              "geolocation_city                                                    \n",
              "* cidade                -49.334374 -49.334374 -49.334374       NaN  \n",
              "...arraial do cabo      -42.029834 -42.029834 -42.029834       NaN  \n",
              "4o. centenario          -53.069433 -53.069433 -53.069433       NaN  \n",
              "4º centenario           -53.074516 -53.074930 -53.074723  0.000293  \n",
              "abadia de goias         -49.426674 -49.469430 -49.438089  0.013241  \n",
              "...                            ...        ...        ...       ...  \n",
              "áurea                   -52.054195 -52.055957 -52.055076  0.001246  \n",
              "ângulo                  -51.916100 -51.918154 -51.917294  0.001030  \n",
              "érico cardoso           -42.134282 -42.134282 -42.134282       NaN  \n",
              "óbidos                  -55.510995 -55.524011 -55.516370  0.003631  \n",
              "óleo                    -49.336995 -49.343426 -49.339676  0.002987  \n",
              "\n",
              "[8011 rows x 8 columns]"
            ]
          },
          "execution_count": 79,
          "metadata": {},
          "output_type": "execute_result"
        }
      ],
      "source": [
        "geoloc_df.groupby(by=\"geolocation_city\").agg({\n",
        "    \"geolocation_lat\": [\"max\", \"min\", \"mean\", \"std\"],\n",
        "    \"geolocation_lng\": [\"max\", \"min\", \"mean\", \"std\"]\n",
        "})"
      ]
    },
    {
      "cell_type": "markdown",
      "metadata": {
        "id": "O-aVQX2ta0hc"
      },
      "source": [
        "**Data Conclusion :**\n",
        "- I able to Analyze from this data some Latitude and Longitude from the city, it also helps to Predict the size of the city if our data is more detailed"
      ]
    },
    {
      "cell_type": "markdown",
      "metadata": {
        "id": "wndDuB_pa0hc"
      },
      "source": [
        "**Examining Customer City and State**"
      ]
    },
    {
      "cell_type": "code",
      "execution_count": null,
      "metadata": {
        "id": "vkYpjkf7a0hc",
        "outputId": "267670bf-bfb9-47ac-810f-e56ad27c06dd"
      },
      "outputs": [
        {
          "data": {
            "text/plain": [
              "customer_city\n",
              "sao paulo         15540\n",
              "rio de janeiro     6882\n",
              "belo horizonte     2773\n",
              "brasilia           2131\n",
              "curitiba           1521\n",
              "                  ...  \n",
              "agisse                1\n",
              "vieiras               1\n",
              "bertopolis            1\n",
              "abadiania             1\n",
              "xexeu                 1\n",
              "Name: customer_id, Length: 4119, dtype: int64"
            ]
          },
          "execution_count": 135,
          "metadata": {},
          "output_type": "execute_result"
        }
      ],
      "source": [
        "customer_df.groupby(by=\"customer_city\").customer_id.nunique().sort_values(ascending=False)"
      ]
    },
    {
      "cell_type": "code",
      "execution_count": null,
      "metadata": {
        "id": "v08K7fzBa0hd",
        "outputId": "5cc4942d-bcd6-48e5-8bd6-9139f3c2fc1f"
      },
      "outputs": [
        {
          "data": {
            "text/plain": [
              "customer_state\n",
              "SP    41746\n",
              "RJ    12852\n",
              "MG    11635\n",
              "RS     5466\n",
              "PR     5045\n",
              "SC     3637\n",
              "BA     3380\n",
              "DF     2140\n",
              "ES     2033\n",
              "GO     2020\n",
              "PE     1652\n",
              "CE     1336\n",
              "PA      975\n",
              "MT      907\n",
              "MA      747\n",
              "MS      715\n",
              "PB      536\n",
              "PI      495\n",
              "RN      485\n",
              "AL      413\n",
              "SE      350\n",
              "TO      280\n",
              "RO      253\n",
              "AM      148\n",
              "AC       81\n",
              "AP       68\n",
              "RR       46\n",
              "Name: customer_id, dtype: int64"
            ]
          },
          "execution_count": 136,
          "metadata": {},
          "output_type": "execute_result"
        }
      ],
      "source": [
        "customer_df.groupby(by=\"customer_state\").customer_id.nunique().sort_values(ascending=False)"
      ]
    },
    {
      "cell_type": "markdown",
      "metadata": {
        "id": "XaVvNsuua0hd"
      },
      "source": [
        "**Data Conclusion :**\n",
        "- We are able to see our Customer location and determining the most City and State our customer are appeared"
      ]
    },
    {
      "cell_type": "markdown",
      "metadata": {
        "id": "s2_q0rEka0hd"
      },
      "source": [
        "**Exploring for Delay in Product Delivery**"
      ]
    },
    {
      "cell_type": "code",
      "execution_count": null,
      "metadata": {
        "id": "ZbZyWVCJa0hd",
        "outputId": "590905b9-1913-4c22-f878-9680d63e8615"
      },
      "outputs": [
        {
          "name": "stdout",
          "output_type": "stream",
          "text": [
            "count    96470.000000\n",
            "mean       -11.875889\n",
            "std         10.182105\n",
            "min       -147.000000\n",
            "25%        -17.000000\n",
            "50%        -12.000000\n",
            "75%         -7.000000\n",
            "max        188.000000\n",
            "Name: delivery_delay, dtype: float64\n"
          ]
        }
      ],
      "source": [
        "orders_df['order_delivered_customer_date'] = pd.to_datetime(orders_df['order_delivered_customer_date'], errors='coerce')\n",
        "orders_df['order_estimated_delivery_date'] = pd.to_datetime(orders_df['order_estimated_delivery_date'], errors='coerce')\n",
        "\n",
        "# Calculate the difference in days\n",
        "orders_df['delivery_delay'] = (orders_df['order_delivered_customer_date'] - orders_df['order_estimated_delivery_date']).dt.days\n",
        "\n",
        "# Filter to only delivered orders\n",
        "delivered_orders = orders_df[orders_df['order_status'] == 'delivered']\n",
        "\n",
        "# Summary of delay (negative means delivered earlier, positive means delayed)\n",
        "delivery_summary = delivered_orders['delivery_delay'].describe()\n",
        "print(delivery_summary)"
      ]
    },
    {
      "cell_type": "markdown",
      "metadata": {
        "id": "eynx1cYFa0he"
      },
      "source": [
        "**Data Conclusion :**\n",
        "- From this data, i can conclude that we can see the Highest and Lowest Delay in our Product Delivery and this needs to be Improved because the range is so big"
      ]
    },
    {
      "cell_type": "markdown",
      "metadata": {
        "id": "20B5tqfLa0he"
      },
      "source": [
        "**Tracing Shipped Product trough Orders then to Customer ID**"
      ]
    },
    {
      "cell_type": "code",
      "execution_count": null,
      "metadata": {
        "id": "Eaz3PYrRa0he",
        "outputId": "d521bdfa-1c2d-4bc6-c7b9-32eb14b86b53"
      },
      "outputs": [
        {
          "name": "stdout",
          "output_type": "stream",
          "text": [
            "                            customer_id   customer_city\n",
            "70     4c7241af24b5344cb01fe687643de4fe       fortaleza\n",
            "79     f6529ffebe6b3440d45d89604a4239ac     nova iguacu\n",
            "100    ae76a4650235ab18764708174f1da31e       sao paulo\n",
            "113    8891eb5ca0e28df961b2b5b8f3c0eb23       sao paulo\n",
            "224    265655cf1f2dfd4fc630004d1fe5f3cb     hortolandia\n",
            "...                                 ...             ...\n",
            "99084  7fa80efb1ef15ca4104627910c29791c        camacari\n",
            "99248  6a65b5d6d4f4c9dfda93798cf014ee47       sao paulo\n",
            "99280  9ce70b8dafe76524f3d5e5e68cbf29f5  ribeirao preto\n",
            "99288  2a6fc1968c4a29c9c258bb1994afbc7f   volta redonda\n",
            "99351  f83083fcbc51d12f8279b5713c2d4b4d       araguaina\n",
            "\n",
            "[1107 rows x 2 columns]\n"
          ]
        }
      ],
      "source": [
        "# Filter the orders_df for orders with status 'shipped'\n",
        "shipped_orders = orders_df[orders_df['order_status'] == 'shipped']\n",
        "\n",
        "# Get the customer_id from the shipped orders\n",
        "shipped_customer_ids = shipped_orders['customer_id'].tolist()\n",
        "\n",
        "# Merge with customers_df to get the customer_city for those customers\n",
        "shipped_customers_df = customer_df[customer_df['customer_id'].isin(shipped_customer_ids)]\n",
        "\n",
        "# Display relevant columns (customer_id and customer_city)\n",
        "result = shipped_customers_df[['customer_id', 'customer_city']]\n",
        "\n",
        "# Show the result\n",
        "print(result)"
      ]
    },
    {
      "cell_type": "markdown",
      "metadata": {
        "id": "jSsGBEfNa0he"
      },
      "source": [
        "**Data Conclusion :**\n",
        "- This system Helps us to track shipped product that still not on Our customer hand, so we can see the delivery they will go"
      ]
    },
    {
      "cell_type": "markdown",
      "metadata": {
        "id": "GnSKA1C-a0he"
      },
      "source": [
        "**Final Insight:**\n",
        "- By Defining City Longitude and Langitude, i able to Calculate the City Size\n",
        "- By Examining Customer City and State, it will help me to Taking Conclusion for the Most Highest Customer by City or State\n",
        "- Upon Exploring Delay of Shipment, i found out that some delivery will be Delayed by Months or Delivered Earlier\n",
        "- Tracing the Shipped Product to where it goes also helping us to track the product destinations"
      ]
    },
    {
      "cell_type": "markdown",
      "metadata": {
        "id": "gc87N3c-a0hf"
      },
      "source": [
        "## Visualization & Explanatory Analysis"
      ]
    },
    {
      "cell_type": "markdown",
      "metadata": {
        "id": "cQ9KiJHRa0hf"
      },
      "source": [
        "### Pertanyaan 1 : Which is the Highest Frequency on Buying Customer by City in our E-Commerce?"
      ]
    },
    {
      "cell_type": "markdown",
      "metadata": {
        "id": "lKwf7eSSa0hf"
      },
      "source": [
        "**Step Method**\n",
        "- Counting the Buying Customer through their Order\n",
        "- Filtering Successfull Order marked as 'Delivered'\n",
        "- Merging the order with Customer Database (since there is a connection between Order Dataset and Customer Dataset through Customer_ID)\n",
        "- Creating a New Variables <top_cities> to grouping the order based on city and counting the number of Purchases\n",
        "- Visualize it"
      ]
    },
    {
      "cell_type": "code",
      "execution_count": null,
      "metadata": {
        "id": "83y7mHdSa0hf",
        "outputId": "65fdec27-082b-49bb-8e21-e17b97c446bb"
      },
      "outputs": [
        {
          "data": {
            "image/png": "[encoded data removed]",
            "text/plain": [
              "<Figure size 1200x600 with 1 Axes>"
            ]
          },
          "metadata": {},
          "output_type": "display_data"
        }
      ],
      "source": [
        "# Filter for successful orders\n",
        "successful_orders = orders_df[orders_df['order_status'] == 'delivered']\n",
        "\n",
        "# Merge with customer data to get city information\n",
        "order_city_data = pd.merge(successful_orders, customer_df, on='customer_id')\n",
        "\n",
        "# Group by city and count the number of purchases\n",
        "top_cities = order_city_data.groupby('customer_city').size().sort_values(ascending=False).head(10)\n",
        "\n",
        "# Plotting the top cities\n",
        "plt.figure(figsize=(12, 6))\n",
        "sns.barplot(x=top_cities.index, y=top_cities.values)\n",
        "plt.title('Top 10 Cities with Highest Purchase Activity')\n",
        "plt.xlabel('Cities')\n",
        "plt.ylabel('Number of Purchases')\n",
        "plt.xticks(rotation=45)\n",
        "plt.show()"
      ]
    },
    {
      "cell_type": "markdown",
      "metadata": {
        "id": "XWuLfdAya0hk"
      },
      "source": [
        "## Conclusion"
      ]
    },
    {
      "cell_type": "markdown",
      "metadata": {
        "id": "ewLnf86za0hk"
      },
      "source": [
        "**1st Question :** Which is the Highest Frequency on Buying Customer by City in our E-Commerce?"
      ]
    },
    {
      "cell_type": "code",
      "execution_count": null,
      "metadata": {
        "id": "DhTroalda0hk",
        "outputId": "4a704443-212a-40e3-d2b3-55e20a57119c"
      },
      "outputs": [
        {
          "name": "stdout",
          "output_type": "stream",
          "text": [
            "customer_city\n",
            "sao paulo                15045\n",
            "rio de janeiro            6601\n",
            "belo horizonte            2697\n",
            "brasilia                  2071\n",
            "curitiba                  1489\n",
            "campinas                  1406\n",
            "porto alegre              1342\n",
            "salvador                  1188\n",
            "guarulhos                 1144\n",
            "sao bernardo do campo      911\n",
            "dtype: int64\n"
          ]
        }
      ],
      "source": [
        "# Filter for successful orders\n",
        "successful_orders = orders_df[orders_df['order_status'] == 'delivered']\n",
        "\n",
        "# Merge with customer data to get city information\n",
        "order_city_data = pd.merge(successful_orders, customer_df, on='customer_id')\n",
        "\n",
        "# Group by city and count the number of purchases\n",
        "top_cities = order_city_data.groupby('customer_city').size().sort_values(ascending=False).head(10)\n",
        "print(top_cities)"
      ]
    },
    {
      "cell_type": "markdown",
      "metadata": {
        "id": "R0LTlf9Qa0hl"
      },
      "source": [
        "The Highest Buyer by City is our Customer from **Sao Paulo**"
      ]
    },
    {
      "cell_type": "markdown",
      "metadata": {
        "id": "V424r-Kka0hl"
      },
      "source": [
        "**2nd Question :** Which is the Top Product and Top Seller in our E -Commerce?"
      ]
    },
    {
      "cell_type": "code",
      "execution_count": null,
      "metadata": {
        "id": "py6WJvgXa0hl",
        "outputId": "40ba87b6-6802-433e-d105-8910b699f6e5"
      },
      "outputs": [
        {
          "name": "stdout",
          "output_type": "stream",
          "text": [
            "Top 10 Products:\n",
            "        product_category_name  total_sales\n",
            "24086            beleza_saude     63885.00\n",
            "14068            beleza_saude     54730.20\n",
            "27613                     pcs     48899.34\n",
            "27039  informatica_acessorios     47214.51\n",
            "19742         cama_mesa_banho     43025.56\n",
            "8051   informatica_acessorios     41082.60\n",
            "4996                    bebes     38907.32\n",
            "12351              cool_stuff     37733.90\n",
            "10867      relogios_presentes     37683.42\n",
            "22112        moveis_decoracao     37608.90\n"
          ]
        }
      ],
      "source": [
        "# Merge DataFrames\n",
        "merged_df = orderitems_df.merge(products_df, on='product_id', how='left') \\\n",
        "                           .merge(sellers_df, on='seller_id', how='left')\n",
        "\n",
        "# Calculate total sales per product\n",
        "top_products = merged_df.groupby('product_id').agg({'price': 'sum'}).reset_index()\n",
        "top_products.columns = ['product_id', 'total_sales']\n",
        "\n",
        "# Merge to get product names and categories\n",
        "top_products = top_products.merge(products_df[['product_id', 'product_category_name']], on='product_id', how='left')\n",
        "\n",
        "# Sort and select top 10 products\n",
        "top_10_products = top_products.sort_values(by='total_sales', ascending=False).head(10)\n",
        "\n",
        "# Calculate total sales per seller\n",
        "top_sellers = merged_df.groupby('seller_id').agg({'price': 'sum'}).reset_index()\n",
        "top_sellers.columns = ['seller_id', 'total_sales']\n",
        "\n",
        "# Merge to get seller cities and states\n",
        "top_sellers = top_sellers.merge(sellers_df[['seller_id', 'seller_city', 'seller_state']], on='seller_id', how='left')\n",
        "\n",
        "# Sort and select top 10 sellers\n",
        "top_10_sellers = top_sellers.sort_values(by='total_sales', ascending=False).head(10)\n",
        "\n",
        "# Display the results\n",
        "print(\"Top 10 Products:\")\n",
        "print(top_10_products[['product_category_name', 'total_sales']])"
      ]
    },
    {
      "cell_type": "code",
      "execution_count": null,
      "metadata": {
        "id": "Z0uO_ZsUa0hl",
        "outputId": "fc34e66c-a684-46a8-bf0a-8fd4f0469396"
      },
      "outputs": [
        {
          "name": "stdout",
          "output_type": "stream",
          "text": [
            "\n",
            "Top 10 Sellers:\n",
            "                             seller_id       seller_city seller_state  \\\n",
            "857   4869f7a5dfa277a7dca6462dcf3b52b2           guariba           SP   \n",
            "1013  53243585a1d6dc2643021fd1853d8905  lauro de freitas           BA   \n",
            "881   4a3ca9315b744ce9f8e9374361493884          ibitinga           SP   \n",
            "3024  fa1c13f2614d7b5c4749cbc52fecda94            sumare           SP   \n",
            "1535  7c67e1448b00f6e969d365cea6b010ab   itaquaquecetuba           SP   \n",
            "1560  7e93a43ef30c4f03f38b393420bc753a           barueri           SP   \n",
            "2643  da8622b14eb17ae2831f4ac5b9dab84a        piracicaba           SP   \n",
            "1505  7a67c85e85bb2ce8582c35f2203ad736         sao paulo           SP   \n",
            "192   1025f0e2d44d7041d6cf58b6550e0bfa         sao paulo           SP   \n",
            "1824  955fee9216a65b617aa5c0531780ce60         sao paulo           SP   \n",
            "\n",
            "      total_sales  \n",
            "857     229472.63  \n",
            "1013    222776.05  \n",
            "881     200472.92  \n",
            "3024    194042.03  \n",
            "1535    187923.89  \n",
            "1560    176431.87  \n",
            "2643    160236.57  \n",
            "1505    141745.53  \n",
            "192     138968.55  \n",
            "1824    135171.70  \n"
          ]
        }
      ],
      "source": [
        "print(\"\\nTop 10 Sellers:\")\n",
        "print(top_10_sellers[['seller_id','seller_city', 'seller_state', 'total_sales']])"
      ]
    },
    {
      "cell_type": "markdown",
      "metadata": {
        "id": "t2uAiTb1a0hm"
      },
      "source": [
        "The Top Product is **Beleza Saude** with the Number of *63885*"
      ]
    },
    {
      "cell_type": "markdown",
      "metadata": {
        "id": "aGFezfb0a0hm"
      },
      "source": [
        "The Top Seller is from **Guariba** City with the ID of **4869f7a5dfa277a7dca6462dcf3b52b2** reaching the total Sales of *229472* items"
      ]
    },
    {
      "cell_type": "markdown",
      "metadata": {
        "id": "JeTggCmva0hm"
      },
      "source": [
        "**3rd Question :** How Effective it is our Product Flow from Buyed to Sended in our E-Commerce?"
      ]
    },
    {
      "cell_type": "code",
      "execution_count": null,
      "metadata": {
        "id": "YOdrKNGva0hm",
        "outputId": "cf4e2eb5-27fd-4ab8-ed02-c720db52032a"
      },
      "outputs": [
        {
          "name": "stderr",
          "output_type": "stream",
          "text": [
            "C:\\Users\\adity\\AppData\\Local\\Temp\\ipykernel_20888\\1511412117.py:7: SettingWithCopyWarning: \n",
            "A value is trying to be set on a copy of a slice from a DataFrame.\n",
            "Try using .loc[row_indexer,col_indexer] = value instead\n",
            "\n",
            "See the caveats in the documentation: https://pandas.pydata.org/pandas-docs/stable/user_guide/indexing.html#returning-a-view-versus-a-copy\n",
            "  delivered_orders['delivery_duration'] = (delivered_orders['order_delivered_customer_date'] - delivered_orders['order_purchase_timestamp']).dt.days\n"
          ]
        }
      ],
      "source": [
        "# Convert to datetime if not already\n",
        "orders_df['order_purchase_timestamp'] = pd.to_datetime(orders_df['order_purchase_timestamp'])\n",
        "orders_df['order_delivered_customer_date'] = pd.to_datetime(orders_df['order_delivered_customer_date'])\n",
        "\n",
        "# Filter for delivered orders and calculate the time taken\n",
        "delivered_orders = orders_df[orders_df['order_status'] == 'delivered']\n",
        "delivered_orders['delivery_duration'] = (delivered_orders['order_delivered_customer_date'] - delivered_orders['order_purchase_timestamp']).dt.days\n",
        "\n",
        "# Summary statistics on delivery time\n",
        "delivery_summary = delivered_orders['delivery_duration'].describe()\n",
        "\n",
        "# Calculate min and max delivery durations\n",
        "min_delivery_time = delivered_orders['delivery_duration'].min()\n",
        "max_delivery_time = delivered_orders['delivery_duration'].max()\n",
        "\n",
        "# Define efficiency thresholds (close to minimum is considered efficient)\n",
        "threshold_min = min_delivery_time + (max_delivery_time - min_delivery_time) * 0.25  # Top 25% efficient\n",
        "threshold_max = max_delivery_time - (max_delivery_time - min_delivery_time) * 0.25  # Bottom 25% inefficient\n",
        "\n",
        "# Count the number of deliveries in each efficiency category\n",
        "efficient_deliveries = delivered_orders[delivered_orders['delivery_duration'] <= threshold_min].shape[0]\n",
        "inefficient_deliveries = delivered_orders[delivered_orders['delivery_duration'] >= threshold_max].shape[0]\n",
        "total_deliveries = delivered_orders.shape[0]\n",
        "\n",
        "# Calculate the efficiency percentages for efficient and inefficient deliveries\n",
        "efficient_percentage = (efficient_deliveries / total_deliveries) * 100\n",
        "inefficient_percentage = (inefficient_deliveries / total_deliveries) * 100\n",
        "\n",
        "# General efficiency rates based on average delivery time\n",
        "average_delivery_time = delivery_summary['mean']\n",
        "general_efficient_deliveries = delivered_orders[delivered_orders['delivery_duration'] <= average_delivery_time].shape[0]\n",
        "general_inefficient_deliveries = delivered_orders[delivered_orders['delivery_duration'] > average_delivery_time].shape[0]\n",
        "\n",
        "# Calculate the general efficiency percentages\n",
        "general_efficient_percentage = (general_efficient_deliveries / total_deliveries) * 100\n",
        "general_inefficient_percentage = (general_inefficient_deliveries / total_deliveries) * 100"
      ]
    },
    {
      "cell_type": "code",
      "execution_count": null,
      "metadata": {
        "id": "ejKUVMjJa0hm",
        "outputId": "78f5b9cc-3463-4269-96df-0606e30d37a8"
      },
      "outputs": [
        {
          "name": "stdout",
          "output_type": "stream",
          "text": [
            "Minimum Delivery Time: 0.0 days\n",
            "Maximum Delivery Time: 209.0 days\n",
            "Efficient Deliveries (Top 25%): 99.45%\n",
            "Inefficient Deliveries (Bottom 25%): 0.02%\n",
            "Average Delivery Time: 12.09 days\n",
            "General Efficient Deliveries (Faster than or equal to average): 64.14%\n",
            "General Inefficient Deliveries (Slower than average): 35.85%\n"
          ]
        }
      ],
      "source": [
        "print(f\"Minimum Delivery Time: {min_delivery_time} days\")\n",
        "print(f\"Maximum Delivery Time: {max_delivery_time} days\")\n",
        "print(f\"Efficient Deliveries (Top 25%): {efficient_percentage:.2f}%\")\n",
        "print(f\"Inefficient Deliveries (Bottom 25%): {inefficient_percentage:.2f}%\")\n",
        "\n",
        "print(f\"Average Delivery Time: {average_delivery_time:.2f} days\")\n",
        "print(f\"General Efficient Deliveries (Faster than or equal to average): {general_efficient_percentage:.2f}%\")\n",
        "print(f\"General Inefficient Deliveries (Slower than average): {general_inefficient_percentage:.2f}%\")"
      ]
    },
    {
      "cell_type": "markdown",
      "metadata": {
        "id": "H8fcIbyva0hn"
      },
      "source": [
        "Our Product Efficiency is **64.14%** with the average of **12 Days**"
      ]
    },
    {
      "cell_type": "markdown",
      "metadata": {
        "id": "C2Pr91oPa0hn"
      },
      "source": [
        "**4th Question :**  Which Payment Method used in Buying the Items in our E-Commerce?"
      ]
    },
    {
      "cell_type": "code",
      "execution_count": null,
      "metadata": {
        "id": "CA1Xuceza0hn",
        "outputId": "a2cca5d7-7178-423a-d643-57b785afde58"
      },
      "outputs": [
        {
          "name": "stdout",
          "output_type": "stream",
          "text": [
            "payment_type\n",
            "credit_card    76795\n",
            "boleto         19784\n",
            "voucher         5775\n",
            "debit_card      1529\n",
            "not_defined        3\n",
            "dtype: int64\n"
          ]
        }
      ],
      "source": [
        "# Group by payment type and count occurrences\n",
        "payment_methods = payment_df.groupby('payment_type').size().sort_values(ascending=False)\n",
        "\n",
        "print(payment_methods)"
      ]
    },
    {
      "cell_type": "markdown",
      "metadata": {
        "id": "1TKTkv_Ra0hn"
      },
      "source": [
        "Most used Payment is **Credit Card**"
      ]
    },
    {
      "cell_type": "markdown",
      "metadata": {
        "id": "3U22yddma0hn"
      },
      "source": [
        "**5th Question :**  When is the \"Prime Time\" and \"Dead Time\" of our Customer in Buying Stuff?"
      ]
    },
    {
      "cell_type": "code",
      "execution_count": null,
      "metadata": {
        "id": "nB-j73N1a0hn",
        "outputId": "a2f93f8c-bb2b-468b-aaab-b22ee4b6f96c"
      },
      "outputs": [
        {
          "name": "stdout",
          "output_type": "stream",
          "text": [
            "The Customer Prime Time: 16:00 with 6675 purchases.\n",
            "The Customer Dead Time: 5:00 with 188 purchases.\n"
          ]
        }
      ],
      "source": [
        "# Extract hour from purchase timestamp\n",
        "orders_df['purchase_hour'] = orders_df['order_purchase_timestamp'].dt.hour\n",
        "\n",
        "# Group by hour to see purchase activity\n",
        "purchase_activity = orders_df.groupby('purchase_hour').size()\n",
        "\n",
        "# Find the Prime Time (hour with the highest purchase activity)\n",
        "prime_time_hour = purchase_activity.idxmax()\n",
        "prime_time_count = purchase_activity.max()\n",
        "\n",
        "# Find the Dead Time (hour with the lowest purchase activity)\n",
        "dead_time_hour = purchase_activity.idxmin()\n",
        "dead_time_count = purchase_activity.min()\n",
        "\n",
        "\n",
        "# Display the Prime Time and Dead Time\n",
        "print(f\"The Customer Prime Time: {prime_time_hour}:00 with {prime_time_count} purchases.\")\n",
        "print(f\"The Customer Dead Time: {dead_time_hour}:00 with {dead_time_count} purchases.\")"
      ]
    },
    {
      "cell_type": "markdown",
      "metadata": {
        "id": "3XjYjuwTa0ho"
      },
      "source": [
        "**6th Question :** How big is the Purchase Growth on this E-Commerce?"
      ]
    },
    {
      "cell_type": "code",
      "execution_count": null,
      "metadata": {
        "id": "eXPS14j6a0ho",
        "outputId": "5691ea69-115e-434d-aed9-0e8c235966cc"
      },
      "outputs": [
        {
          "name": "stdout",
          "output_type": "stream",
          "text": [
            "Overall Purchase Growth from first to last month: 300.00%\n"
          ]
        }
      ],
      "source": [
        "# Extract year and month from purchase timestamp\n",
        "orders_df['purchase_month'] = orders_df['order_purchase_timestamp'].dt.to_period('M')\n",
        "\n",
        "# Group by month and count the number of orders\n",
        "purchase_growth = orders_df.groupby('purchase_month').size()\n",
        "\n",
        "# Calculate the percentage change from month to month\n",
        "monthly_percentage_change = purchase_growth.pct_change() * 100\n",
        "\n",
        "# Calculate the overall percentage growth or decline\n",
        "initial_orders = purchase_growth.iloc[0]  # Orders in the first month\n",
        "final_orders = purchase_growth.iloc[-2]   # Orders in the last of the second month\n",
        "\n",
        "overall_percentage_change = ((final_orders - initial_orders) / initial_orders) * 100\n",
        "\n",
        "print(f\"Overall Purchase Growth from first to last month: {overall_percentage_change:.2f}%\")"
      ]
    },
    {
      "cell_type": "markdown",
      "metadata": {
        "id": "xDUnH7MLa0hr"
      },
      "source": [
        "The Purchase Growth is Surging to **300%**"
      ]
    },
    {
      "cell_type": "markdown",
      "metadata": {
        "id": "Va0PzQMla0hs"
      },
      "source": [
        "##### Final Conclusion\n",
        "- Which is the Highest Frequency on Buying Customer by City in our E-Commerce?\n",
        "    - The Largest Buyer by City is **Sao Paulo**, this research concludes that we need to increasing our **Customer Service Quality** in some of the highest rating City, for other cities will be focusing on expanding our E - Commerce uses because the gap between The Highest and other city is pretty big , also we need more newer data to see our Selling Activities\n",
        "- Which is the Top Product and Top Seller in our E -Commerce?\n",
        "    - The Top Product for our E - Commerce is **Beleza Saude**, this conclusion will help us to giving some strategies to maintain and growing our product selling through several strategies (Voucher, Discount, Prime Time buying, etc.)\n",
        "    - The Top Seller for our E - Commerce is from **Guariba** City with the ID of **4869f7a5dfa277a7dca6462dcf3b52b2** reaching the total Sales of *229472* items, from this insight also will helping us to analyze potential Sellers that we can synergize in terms of Production and Delivery to increasing Budget Efficiency\n",
        "- How Effective it is our Product Flow from Buyed to Sended in our E-Commerce?\n",
        "    - Our Product Efficiency is **64.14%** with the average of **12 Days**, its showing that we still need to improve our Delivery by Maximizing Warehouse Location\n",
        "- Which Payment Method used in Buying the Items in our E-Commerce?\n",
        "    - Most used Payment is **Credit Card**, this research concludes that we need to increasing our Credit Card payment variety with several bank to Maintaining our Payment Flow, other important things is to maintain our System so it doesnt face any Error\n",
        "-  When is the \"Prime Time\" and \"Dead Time\" of our Customer in Buying Stuff?\n",
        "    - The Customer Prime Time is **16:00** with **6675** purchases.\n",
        "    - The Customer Dead Time is **5:00** with **188** purchases.\n",
        "    - This Data will be Helpfull on Creating Strategy for Maximizing our Sellings (ie. Live Selling, Discount Hours, etc.)\n",
        "- How big is the Purchase Growth on this E-Commerce?\n",
        "    - Overall Purchase Growth from first to last month is **300.00%**\n",
        "    - This is showing a Very Healthy growth from our E - Commerce\n",
        "    - THe problem occured is the data incompleteness on the last 2 Months, so we have to improve it"
      ]
    },
    {
      "cell_type": "code",
      "execution_count": null,
      "metadata": {
        "id": "gRRejPaha0hs"
      },
      "outputs": [],
      "source": []
    }
  ],
  "metadata": {
    "kernelspec": {
      "display_name": "Python 3",
      "language": "python",
      "name": "python3"
    },
    "language_info": {
      "codemirror_mode": {
        "name": "ipython",
        "version": 3
      },
      "file_extension": ".py",
      "mimetype": "text/x-python",
      "name": "python",
      "nbconvert_exporter": "python",
      "pygments_lexer": "ipython3",
      "version": "3.12.7"
    },
    "colab": {
      "provenance": []
    }
  },
  "nbformat": 4,
  "nbformat_minor": 0
}