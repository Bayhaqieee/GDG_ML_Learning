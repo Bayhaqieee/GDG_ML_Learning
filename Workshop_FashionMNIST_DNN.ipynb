{
  "nbformat": 4,
  "nbformat_minor": 0,
  "metadata": {
    "colab": {
      "provenance": [],
      "authorship_tag": "ABX9TyN+n3vRo+YNDEArf1GFOoU4"
    },
    "kernelspec": {
      "name": "python3",
      "display_name": "Python 3"
    },
    "language_info": {
      "name": "python"
    }
  },
  "cells": [
    {
      "cell_type": "markdown",
      "source": [
        "# Fashion MNIST Image Classifier with Regularization\n",
        "- Author: Muhammad Aditya Bayhaqie, Eva Theresia Pardede , Rihan Naufaldihanif\n",
        "- Session: Building Neural Network using MNIST"
      ],
      "metadata": {
        "id": "HbEqP8LiQtJq"
      }
    },
    {
      "cell_type": "markdown",
      "source": [
        "## Objective\n",
        "Build a Dense Neural Network (MLP) to classify clothing items in the Fashion MNIST dataset using:\n",
        "- Dropout\n",
        "- Batch Normalization\n",
        "- EarlyStopping\n",
        "- Learning rate tuning"
      ],
      "metadata": {
        "id": "nqoimRIMQ0Rp"
      }
    },
    {
      "cell_type": "markdown",
      "source": [
        "### Guidelines\n",
        "- Complete the notebook by filling in the missing code sections.\n",
        "- Do NOT use CNNs. Only Dense layers allowed.\n",
        "- Accuracy goal: **≥ 90% on test data**\n",
        "- Use best practices in model design and training."
      ],
      "metadata": {
        "id": "rzXyXYo4Q--B"
      }
    },
    {
      "cell_type": "markdown",
      "source": [
        "## Problem Definition\n",
        "\n",
        "In this session, we aim to build a simple image classifier using a dense neural network (MLP) to recognize Apparel from the MNIST dataset.\n",
        "\n",
        "Why choose this Dataset and Algorithm?\n",
        "- It’s a classic starter problem for deep learning.\n",
        "- Easy to visualize and evaluate.\n",
        "- Teaches foundational skills like preprocessing, model design, and evaluation."
      ],
      "metadata": {
        "id": "reZ6E0-d9e__"
      }
    },
    {
      "cell_type": "markdown",
      "source": [
        "## Data Collection"
      ],
      "metadata": {
        "id": "QZT1fmJx-Mn0"
      }
    },
    {
      "cell_type": "markdown",
      "source": [
        "### Data Collection\n",
        "\n",
        "We use the MNIST dataset, available directly from Keras."
      ],
      "metadata": {
        "id": "mhtR-HC7-XeM"
      }
    },
    {
      "cell_type": "code",
      "source": [
        "# Load dataset\n",
        "# TODO: Load the dataset using keras.datasets\n",
        "\n",
        "from tensorflow.keras.datasets import fashion_mnist\n",
        "\n",
        "# Your code here:\n",
        "(x_train, y_train), (x_test, y_test) = ...\n",
        "\n",
        "print(f\"Training shape: {x_train.shape}, Test shape: {x_test.shape}\")"
      ],
      "metadata": {
        "colab": {
          "base_uri": "https://localhost:8080/"
        },
        "id": "YGzrykWa-Zxm",
        "outputId": "174ea39d-5ab2-4496-e5d1-d4096d38d59d"
      },
      "execution_count": null,
      "outputs": [
        {
          "output_type": "stream",
          "name": "stdout",
          "text": [
            "Downloading data from https://storage.googleapis.com/tensorflow/tf-keras-datasets/mnist.npz\n",
            "\u001b[1m11490434/11490434\u001b[0m \u001b[32m━━━━━━━━━━━━━━━━━━━━\u001b[0m\u001b[37m\u001b[0m \u001b[1m0s\u001b[0m 0us/step\n",
            "Training shape: (60000, 28, 28), Test shape: (10000, 28, 28)\n"
          ]
        }
      ]
    },
    {
      "cell_type": "markdown",
      "source": [
        "## Data Preprocessing"
      ],
      "metadata": {
        "id": "C8GcON9A-mnE"
      }
    },
    {
      "cell_type": "markdown",
      "source": [
        "### Data Preprocessing\n",
        "\n",
        "Steps:\n",
        "- Normalize pixel values to [0, 1]\n",
        "- Flatten images from (28, 28) to (784,)\n",
        "- One-hot encode the labels"
      ],
      "metadata": {
        "id": "-PyGODju-vre"
      }
    },
    {
      "cell_type": "code",
      "source": [
        "from tensorflow.keras.utils import to_categorical\n",
        "import numpy as np\n",
        "\n",
        "# TODO: Normalize, flatten, and one-hot encode\n",
        "\n",
        "# Your code here:\n",
        "x_train = ...\n",
        "x_test = ...\n",
        "\n",
        "# One-hot encode labels\n",
        "from tensorflow.keras.utils import to_categorical\n",
        "y_train_cat = ...\n",
        "y_test_cat = ..."
      ],
      "metadata": {
        "id": "m9B5Y2Do-4CM"
      },
      "execution_count": null,
      "outputs": []
    },
    {
      "cell_type": "markdown",
      "source": [
        "## Model Building"
      ],
      "metadata": {
        "id": "mUWZ1hxo-5fe"
      }
    },
    {
      "cell_type": "markdown",
      "source": [
        "We use a simple MLP with:\n",
        "- Use `Sequential` model\n",
        "- 2+ hidden layers with `ReLU`\n",
        "- Use `BatchNormalization` and `Dropout`\n",
        "- Output layer with 10 units and `softmax"
      ],
      "metadata": {
        "id": "5yqKvZqT-_5C"
      }
    },
    {
      "cell_type": "code",
      "source": [
        "from tensorflow.keras.models import Sequential\n",
        "from tensorflow.keras.layers import Dense, Dropout, BatchNormalization\n",
        "\n",
        "# TODO: Build the model using Sequential API\n",
        "\n",
        "model = Sequential([\n",
        "    # Example:\n",
        "    # Dense(...),\n",
        "    # BatchNormalization(),\n",
        "    # Dropout(...),\n",
        "    # ...\n",
        "])\n",
        "\n",
        "model.summary()"
      ],
      "metadata": {
        "colab": {
          "base_uri": "https://localhost:8080/",
          "height": 259
        },
        "id": "zdPbIT7o_HsE",
        "outputId": "a6486701-a864-426b-8a2a-08fb9206c9e4"
      },
      "execution_count": null,
      "outputs": [
        {
          "output_type": "stream",
          "name": "stderr",
          "text": [
            "/usr/local/lib/python3.11/dist-packages/keras/src/layers/core/dense.py:87: UserWarning: Do not pass an `input_shape`/`input_dim` argument to a layer. When using Sequential models, prefer using an `Input(shape)` object as the first layer in the model instead.\n",
            "  super().__init__(activity_regularizer=activity_regularizer, **kwargs)\n"
          ]
        },
        {
          "output_type": "display_data",
          "data": {
            "text/plain": [
              "\u001b[1mModel: \"sequential\"\u001b[0m\n"
            ],
            "text/html": [
              "<pre style=\"white-space:pre;overflow-x:auto;line-height:normal;font-family:Menlo,'DejaVu Sans Mono',consolas,'Courier New',monospace\"><span style=\"font-weight: bold\">Model: \"sequential\"</span>\n",
              "</pre>\n"
            ]
          },
          "metadata": {}
        },
        {
          "output_type": "display_data",
          "data": {
            "text/plain": [
              "┏━━━━━━━━━━━━━━━━━━━━━━━━━━━━━━━━━┳━━━━━━━━━━━━━━━━━━━━━━━━┳━━━━━━━━━━━━━━━┓\n",
              "┃\u001b[1m \u001b[0m\u001b[1mLayer (type)                   \u001b[0m\u001b[1m \u001b[0m┃\u001b[1m \u001b[0m\u001b[1mOutput Shape          \u001b[0m\u001b[1m \u001b[0m┃\u001b[1m \u001b[0m\u001b[1m      Param #\u001b[0m\u001b[1m \u001b[0m┃\n",
              "┡━━━━━━━━━━━━━━━━━━━━━━━━━━━━━━━━━╇━━━━━━━━━━━━━━━━━━━━━━━━╇━━━━━━━━━━━━━━━┩\n",
              "│ dense (\u001b[38;5;33mDense\u001b[0m)                   │ (\u001b[38;5;45mNone\u001b[0m, \u001b[38;5;34m128\u001b[0m)            │       \u001b[38;5;34m100,480\u001b[0m │\n",
              "├─────────────────────────────────┼────────────────────────┼───────────────┤\n",
              "│ dense_1 (\u001b[38;5;33mDense\u001b[0m)                 │ (\u001b[38;5;45mNone\u001b[0m, \u001b[38;5;34m10\u001b[0m)             │         \u001b[38;5;34m1,290\u001b[0m │\n",
              "└─────────────────────────────────┴────────────────────────┴───────────────┘\n"
            ],
            "text/html": [
              "<pre style=\"white-space:pre;overflow-x:auto;line-height:normal;font-family:Menlo,'DejaVu Sans Mono',consolas,'Courier New',monospace\">┏━━━━━━━━━━━━━━━━━━━━━━━━━━━━━━━━━┳━━━━━━━━━━━━━━━━━━━━━━━━┳━━━━━━━━━━━━━━━┓\n",
              "┃<span style=\"font-weight: bold\"> Layer (type)                    </span>┃<span style=\"font-weight: bold\"> Output Shape           </span>┃<span style=\"font-weight: bold\">       Param # </span>┃\n",
              "┡━━━━━━━━━━━━━━━━━━━━━━━━━━━━━━━━━╇━━━━━━━━━━━━━━━━━━━━━━━━╇━━━━━━━━━━━━━━━┩\n",
              "│ dense (<span style=\"color: #0087ff; text-decoration-color: #0087ff\">Dense</span>)                   │ (<span style=\"color: #00d7ff; text-decoration-color: #00d7ff\">None</span>, <span style=\"color: #00af00; text-decoration-color: #00af00\">128</span>)            │       <span style=\"color: #00af00; text-decoration-color: #00af00\">100,480</span> │\n",
              "├─────────────────────────────────┼────────────────────────┼───────────────┤\n",
              "│ dense_1 (<span style=\"color: #0087ff; text-decoration-color: #0087ff\">Dense</span>)                 │ (<span style=\"color: #00d7ff; text-decoration-color: #00d7ff\">None</span>, <span style=\"color: #00af00; text-decoration-color: #00af00\">10</span>)             │         <span style=\"color: #00af00; text-decoration-color: #00af00\">1,290</span> │\n",
              "└─────────────────────────────────┴────────────────────────┴───────────────┘\n",
              "</pre>\n"
            ]
          },
          "metadata": {}
        },
        {
          "output_type": "display_data",
          "data": {
            "text/plain": [
              "\u001b[1m Total params: \u001b[0m\u001b[38;5;34m101,770\u001b[0m (397.54 KB)\n"
            ],
            "text/html": [
              "<pre style=\"white-space:pre;overflow-x:auto;line-height:normal;font-family:Menlo,'DejaVu Sans Mono',consolas,'Courier New',monospace\"><span style=\"font-weight: bold\"> Total params: </span><span style=\"color: #00af00; text-decoration-color: #00af00\">101,770</span> (397.54 KB)\n",
              "</pre>\n"
            ]
          },
          "metadata": {}
        },
        {
          "output_type": "display_data",
          "data": {
            "text/plain": [
              "\u001b[1m Trainable params: \u001b[0m\u001b[38;5;34m101,770\u001b[0m (397.54 KB)\n"
            ],
            "text/html": [
              "<pre style=\"white-space:pre;overflow-x:auto;line-height:normal;font-family:Menlo,'DejaVu Sans Mono',consolas,'Courier New',monospace\"><span style=\"font-weight: bold\"> Trainable params: </span><span style=\"color: #00af00; text-decoration-color: #00af00\">101,770</span> (397.54 KB)\n",
              "</pre>\n"
            ]
          },
          "metadata": {}
        },
        {
          "output_type": "display_data",
          "data": {
            "text/plain": [
              "\u001b[1m Non-trainable params: \u001b[0m\u001b[38;5;34m0\u001b[0m (0.00 B)\n"
            ],
            "text/html": [
              "<pre style=\"white-space:pre;overflow-x:auto;line-height:normal;font-family:Menlo,'DejaVu Sans Mono',consolas,'Courier New',monospace\"><span style=\"font-weight: bold\"> Non-trainable params: </span><span style=\"color: #00af00; text-decoration-color: #00af00\">0</span> (0.00 B)\n",
              "</pre>\n"
            ]
          },
          "metadata": {}
        }
      ]
    },
    {
      "cell_type": "markdown",
      "source": [
        "Compile the Model\n",
        "\n",
        "Instructions:\n",
        "- Use `Adam` optimizer\n",
        "- Try learning rate: `0.0005`\n",
        "- Use `categorical_crossentropy` loss"
      ],
      "metadata": {
        "id": "LxB8BMfcVULZ"
      }
    },
    {
      "cell_type": "code",
      "source": [
        "from tensorflow.keras.optimizers import Adam\n",
        "\n",
        "# TODO: Compile the model with appropriate settings\n",
        "\n",
        "model.compile(\n",
        "    optimizer=Adam(learning_rate=...),\n",
        "    loss=...,\n",
        "    metrics=[...]\n",
        ")"
      ],
      "metadata": {
        "id": "YA8EWgVoVaCE"
      },
      "execution_count": null,
      "outputs": []
    },
    {
      "cell_type": "markdown",
      "source": [
        "## Model Training & Evaluation"
      ],
      "metadata": {
        "id": "nxe5kGXd_KNY"
      }
    },
    {
      "cell_type": "markdown",
      "source": [
        "### Requirements:\n",
        "- Use `validation_split=0.2`\n",
        "- Add `EarlyStopping` with `patience=3`\n",
        "- Train for up to 30 epochs"
      ],
      "metadata": {
        "id": "Rt4k6JVm_O7e"
      }
    },
    {
      "cell_type": "code",
      "source": [
        "from tensorflow.keras.callbacks import EarlyStopping\n",
        "\n",
        "early_stop = EarlyStopping(patience=3, restore_best_weights=True)\n",
        "\n",
        "# TODO: Train the model\n",
        "\n",
        "history = model.fit(\n",
        "    ...  # x_train, y_train_cat\n",
        ")\n",
        "\n",
        "# Evaluate on test set\n",
        "test_loss, test_acc = model.evaluate(x_test, y_test_cat)\n",
        "print(f\"\\nTest Accuracy: {test_acc:.4f}\")"
      ],
      "metadata": {
        "colab": {
          "base_uri": "https://localhost:8080/"
        },
        "id": "8VDMdUKe_RAO",
        "outputId": "f70ee2b4-75ce-4a5d-920b-b2cfdd15ca50"
      },
      "execution_count": null,
      "outputs": [
        {
          "output_type": "stream",
          "name": "stdout",
          "text": [
            "Epoch 1/10\n",
            "\u001b[1m1500/1500\u001b[0m \u001b[32m━━━━━━━━━━━━━━━━━━━━\u001b[0m\u001b[37m\u001b[0m \u001b[1m8s\u001b[0m 5ms/step - accuracy: 0.8625 - loss: 0.4823 - val_accuracy: 0.9530 - val_loss: 0.1657\n",
            "Epoch 2/10\n",
            "\u001b[1m1500/1500\u001b[0m \u001b[32m━━━━━━━━━━━━━━━━━━━━\u001b[0m\u001b[37m\u001b[0m \u001b[1m10s\u001b[0m 5ms/step - accuracy: 0.9581 - loss: 0.1410 - val_accuracy: 0.9636 - val_loss: 0.1219\n",
            "Epoch 3/10\n",
            "\u001b[1m1500/1500\u001b[0m \u001b[32m━━━━━━━━━━━━━━━━━━━━\u001b[0m\u001b[37m\u001b[0m \u001b[1m9s\u001b[0m 4ms/step - accuracy: 0.9735 - loss: 0.0919 - val_accuracy: 0.9703 - val_loss: 0.1041\n",
            "Epoch 4/10\n",
            "\u001b[1m1500/1500\u001b[0m \u001b[32m━━━━━━━━━━━━━━━━━━━━\u001b[0m\u001b[37m\u001b[0m \u001b[1m10s\u001b[0m 3ms/step - accuracy: 0.9809 - loss: 0.0653 - val_accuracy: 0.9703 - val_loss: 0.0975\n",
            "Epoch 5/10\n",
            "\u001b[1m1500/1500\u001b[0m \u001b[32m━━━━━━━━━━━━━━━━━━━━\u001b[0m\u001b[37m\u001b[0m \u001b[1m6s\u001b[0m 4ms/step - accuracy: 0.9856 - loss: 0.0494 - val_accuracy: 0.9739 - val_loss: 0.0860\n",
            "Epoch 6/10\n",
            "\u001b[1m1500/1500\u001b[0m \u001b[32m━━━━━━━━━━━━━━━━━━━━\u001b[0m\u001b[37m\u001b[0m \u001b[1m5s\u001b[0m 3ms/step - accuracy: 0.9893 - loss: 0.0364 - val_accuracy: 0.9732 - val_loss: 0.0938\n",
            "Epoch 7/10\n",
            "\u001b[1m1500/1500\u001b[0m \u001b[32m━━━━━━━━━━━━━━━━━━━━\u001b[0m\u001b[37m\u001b[0m \u001b[1m6s\u001b[0m 4ms/step - accuracy: 0.9916 - loss: 0.0296 - val_accuracy: 0.9762 - val_loss: 0.0867\n",
            "Epoch 8/10\n",
            "\u001b[1m1500/1500\u001b[0m \u001b[32m━━━━━━━━━━━━━━━━━━━━\u001b[0m\u001b[37m\u001b[0m \u001b[1m9s\u001b[0m 3ms/step - accuracy: 0.9926 - loss: 0.0241 - val_accuracy: 0.9772 - val_loss: 0.0840\n",
            "Epoch 9/10\n",
            "\u001b[1m1500/1500\u001b[0m \u001b[32m━━━━━━━━━━━━━━━━━━━━\u001b[0m\u001b[37m\u001b[0m \u001b[1m6s\u001b[0m 4ms/step - accuracy: 0.9941 - loss: 0.0199 - val_accuracy: 0.9743 - val_loss: 0.0898\n",
            "Epoch 10/10\n",
            "\u001b[1m1500/1500\u001b[0m \u001b[32m━━━━━━━━━━━━━━━━━━━━\u001b[0m\u001b[37m\u001b[0m \u001b[1m5s\u001b[0m 3ms/step - accuracy: 0.9959 - loss: 0.0150 - val_accuracy: 0.9757 - val_loss: 0.0898\n",
            "\u001b[1m313/313\u001b[0m \u001b[32m━━━━━━━━━━━━━━━━━━━━\u001b[0m\u001b[37m\u001b[0m \u001b[1m1s\u001b[0m 2ms/step - accuracy: 0.9723 - loss: 0.0964\n",
            "\n",
            "Test Accuracy: 0.9766\n"
          ]
        }
      ]
    },
    {
      "cell_type": "markdown",
      "source": [
        "Evaluate the trained model on the test dataset."
      ],
      "metadata": {
        "id": "4PPWlfSWWPsF"
      }
    },
    {
      "cell_type": "code",
      "execution_count": null,
      "metadata": {
        "id": "GCN3w8BQN4dC"
      },
      "outputs": [],
      "source": [
        "# TODO: Evaluate model\n",
        "\n",
        "test_loss, test_acc = ...\n",
        "print(f\"Test Accuracy: {test_acc:.4f}\")"
      ]
    },
    {
      "cell_type": "markdown",
      "source": [
        "### Plot Accuracy\n",
        "\n",
        "Plot training and validation accuracy curves."
      ],
      "metadata": {
        "id": "gfvZu5y7WXQR"
      }
    },
    {
      "cell_type": "code",
      "source": [
        "import matplotlib.pyplot as plt\n",
        "\n",
        "# TODO: Plot accuracy\n",
        "\n",
        "plt.plot(...)\n",
        "plt.title(\"Accuracy over Epochs\")\n",
        "plt.xlabel(\"Epoch\")\n",
        "plt.ylabel(\"Accuracy\")\n",
        "plt.legend()\n",
        "plt.show()"
      ],
      "metadata": {
        "id": "kPjzGErFWZYY"
      },
      "execution_count": null,
      "outputs": []
    },
    {
      "cell_type": "markdown",
      "source": [
        "## Submission Instructions\n",
        "\n",
        "- Save your notebook with your name: `fashion_mnist_[YourName].ipynb`\n",
        "- Upload to your Github.\n",
        "- Ensure the following:\n",
        "  - Model achieves at least 85% test accuracy\n",
        "  - Model uses regularization: Dropout + BatchNorm + EarlyStopping\n",
        "  - Code is clean and commented\n",
        "\n",
        "📅 Deadline: 21 May 2025\n"
      ],
      "metadata": {
        "id": "Po_9sgKfWfDR"
      }
    },
    {
      "cell_type": "code",
      "source": [],
      "metadata": {
        "id": "XRrFMIbZW04h"
      },
      "execution_count": null,
      "outputs": []
    }
  ]
}