{
  "nbformat": 4,
  "nbformat_minor": 0,
  "metadata": {
    "colab": {
      "provenance": []
    },
    "kernelspec": {
      "name": "python3",
      "display_name": "Python 3"
    },
    "language_info": {
      "name": "python"
    }
  },
  "cells": [
    {
      "cell_type": "markdown",
      "source": [
        "# Ekstraksi Informasi - Named Entity Recognition (NER)\n",
        "Named Entity Recognition (NER) adalah tugas mendasar dalam NLP. Tujuannya adalah untuk menemukan entitas dunia nyata dalam teks dan mengkategorikannya.\n",
        "\n",
        "Contoh:\n",
        "\n",
        "\n",
        "*   Teks: Apple didirikan di Cupertino oleh Steve Jobs pada tahun 1976.\n",
        "*   Entitas:\n",
        "\n",
        "1.   Apple: ORG (Organisasi)\n",
        "2.   Cupertino: GPE (Lokasi Geopolitik)\n",
        "3.   Steve Jobs: PER (Orang)\n",
        "4.   1976: DATE (Tanggal)\n",
        "\n",
        "\n",
        "Kita akan menggunakan library NLP populer bernama spaCy, yang menyediakan model NER pra-terlatih yang sangat kuat dan mudah digunakan."
      ],
      "metadata": {
        "id": "bXPMEFa0YUbw"
      }
    },
    {
      "cell_type": "markdown",
      "source": [
        "## 1. Instalasi dan Pengaturan spaCy\n",
        "spaCy tidak hanya sebuah library, tetapi juga sebuah ekosistem. Setelah menginstal library, kita juga perlu mengunduh model bahasa yang berisi data terlatih."
      ],
      "metadata": {
        "id": "mqGCAqf6Z-Ql"
      }
    },
    {
      "cell_type": "code",
      "execution_count": 2,
      "metadata": {
        "id": "9OKfFVBRYJUY",
        "colab": {
          "base_uri": "https://localhost:8080/"
        },
        "outputId": "8b2909e0-d3e6-4580-85ce-9fa75bb9e998"
      },
      "outputs": [
        {
          "output_type": "stream",
          "name": "stdout",
          "text": [
            "spaCy dan model berhasil dimuat!\n"
          ]
        }
      ],
      "source": [
        "# Import library\n",
        "import spacy\n",
        "\n",
        "# Muat model bahasa Inggris yang telah dilatih\n",
        "# 'sm' berarti model kecil (small)\n",
        "nlp = spacy.load(\"en_core_web_sm\")\n",
        "\n",
        "print(\"spaCy dan model berhasil dimuat!\")"
      ]
    },
    {
      "cell_type": "markdown",
      "source": [
        "## 2. Dasar-dasar Pemrosesan Teks dengan spaCy\n",
        "Saat Anda memproses teks dengan spaCy, ia akan melakukan serangkaian proses, termasuk tokenisasi, Part-of-Speech tagging, dan NER. Hasilnya adalah objek Doc yang kaya akan informasi."
      ],
      "metadata": {
        "id": "eiAL8iiZaYk2"
      }
    },
    {
      "cell_type": "code",
      "source": [
        "# Contoh teks\n",
        "text = \"Apple Inc. is looking at buying a U.K. startup for $1 billion. Tim Cook is the CEO.\"\n",
        "\n",
        "# Proses teks dengan model nlp\n",
        "doc = nlp(text)\n",
        "\n",
        "# Iterasi melalui token yang terdeteksi\n",
        "print(\"--- Token dan Info ---\")\n",
        "for token in doc:\n",
        "    print(f\"Token: {token.text}, POS Tag: {token.pos_}, Dependency: {token.dep_}\")"
      ],
      "metadata": {
        "id": "RvPcBvZmZG6p",
        "colab": {
          "base_uri": "https://localhost:8080/"
        },
        "outputId": "1b4ea796-865d-48f9-aa34-30d12fb6b7c9"
      },
      "execution_count": 3,
      "outputs": [
        {
          "output_type": "stream",
          "name": "stdout",
          "text": [
            "--- Token dan Info ---\n",
            "Token: Apple, POS Tag: PROPN, Dependency: compound\n",
            "Token: Inc., POS Tag: PROPN, Dependency: nsubj\n",
            "Token: is, POS Tag: AUX, Dependency: aux\n",
            "Token: looking, POS Tag: VERB, Dependency: ROOT\n",
            "Token: at, POS Tag: ADP, Dependency: prep\n",
            "Token: buying, POS Tag: VERB, Dependency: pcomp\n",
            "Token: a, POS Tag: DET, Dependency: det\n",
            "Token: U.K., POS Tag: PROPN, Dependency: dobj\n",
            "Token: startup, POS Tag: NOUN, Dependency: advcl\n",
            "Token: for, POS Tag: ADP, Dependency: prep\n",
            "Token: $, POS Tag: SYM, Dependency: quantmod\n",
            "Token: 1, POS Tag: NUM, Dependency: compound\n",
            "Token: billion, POS Tag: NUM, Dependency: pobj\n",
            "Token: ., POS Tag: PUNCT, Dependency: punct\n",
            "Token: Tim, POS Tag: PROPN, Dependency: compound\n",
            "Token: Cook, POS Tag: PROPN, Dependency: nsubj\n",
            "Token: is, POS Tag: AUX, Dependency: ROOT\n",
            "Token: the, POS Tag: DET, Dependency: det\n",
            "Token: CEO, POS Tag: PROPN, Dependency: attr\n",
            "Token: ., POS Tag: PUNCT, Dependency: punct\n"
          ]
        }
      ]
    },
    {
      "cell_type": "markdown",
      "source": [
        "## 3. Melakukan Named Entity Recognition (NER)\n",
        "Objek Doc yang dihasilkan spaCy sudah berisi entitas yang terdeteksi. Kita bisa mengaksesnya melalui doc.ents."
      ],
      "metadata": {
        "id": "UQRDXjdqao-3"
      }
    },
    {
      "cell_type": "code",
      "source": [
        "# Proses teks yang sama lagi\n",
        "doc = nlp(text)\n",
        "\n",
        "# Iterasi melalui entitas yang ditemukan\n",
        "print(\"--- Entitas yang Ditemukan ---\")\n",
        "for ent in doc.ents:\n",
        "    print(f\"Entitas: {ent.text}, Label: {ent.label_}, Penjelasan: {spacy.explain(ent.label_)}\")"
      ],
      "metadata": {
        "id": "07p1roriZSqJ",
        "colab": {
          "base_uri": "https://localhost:8080/"
        },
        "outputId": "ee7dea0a-8e7b-42ab-c340-fe89604a683a"
      },
      "execution_count": 4,
      "outputs": [
        {
          "output_type": "stream",
          "name": "stdout",
          "text": [
            "--- Entitas yang Ditemukan ---\n",
            "Entitas: Apple Inc., Label: ORG, Penjelasan: Companies, agencies, institutions, etc.\n",
            "Entitas: U.K., Label: GPE, Penjelasan: Countries, cities, states\n",
            "Entitas: $1 billion, Label: MONEY, Penjelasan: Monetary values, including unit\n",
            "Entitas: Tim Cook, Label: PERSON, Penjelasan: People, including fictional\n"
          ]
        }
      ]
    },
    {
      "cell_type": "markdown",
      "source": [
        "## 4. Visualisasi Entitas\n",
        "spaCy memiliki visualizer bawaan yang sangat bagus bernama displaCy untuk menyorot entitas langsung di dalam teks. Ini sangat membantu untuk analisis dan presentasi."
      ],
      "metadata": {
        "id": "x3e4DmfqapPe"
      }
    },
    {
      "cell_type": "code",
      "source": [
        "from spacy import displacy\n",
        "\n",
        "# Gunakan displaCy untuk merender hasil NER\n",
        "# style='ent' berarti kita ingin visualisasi entitas\n",
        "displacy.render(doc, style=\"ent\", jupyter=True)"
      ],
      "metadata": {
        "id": "aldOf1pOZfA1",
        "colab": {
          "base_uri": "https://localhost:8080/",
          "height": 52
        },
        "outputId": "61dd15c6-738e-4ed1-8420-f97d0f2048c2"
      },
      "execution_count": 5,
      "outputs": [
        {
          "output_type": "display_data",
          "data": {
            "text/plain": [
              "<IPython.core.display.HTML object>"
            ],
            "text/html": [
              "<span class=\"tex2jax_ignore\"><div class=\"entities\" style=\"line-height: 2.5; direction: ltr\">\n",
              "<mark class=\"entity\" style=\"background: #7aecec; padding: 0.45em 0.6em; margin: 0 0.25em; line-height: 1; border-radius: 0.35em;\">\n",
              "    Apple Inc.\n",
              "    <span style=\"font-size: 0.8em; font-weight: bold; line-height: 1; border-radius: 0.35em; vertical-align: middle; margin-left: 0.5rem\">ORG</span>\n",
              "</mark>\n",
              " is looking at buying a \n",
              "<mark class=\"entity\" style=\"background: #feca74; padding: 0.45em 0.6em; margin: 0 0.25em; line-height: 1; border-radius: 0.35em;\">\n",
              "    U.K.\n",
              "    <span style=\"font-size: 0.8em; font-weight: bold; line-height: 1; border-radius: 0.35em; vertical-align: middle; margin-left: 0.5rem\">GPE</span>\n",
              "</mark>\n",
              " startup for \n",
              "<mark class=\"entity\" style=\"background: #e4e7d2; padding: 0.45em 0.6em; margin: 0 0.25em; line-height: 1; border-radius: 0.35em;\">\n",
              "    $1 billion\n",
              "    <span style=\"font-size: 0.8em; font-weight: bold; line-height: 1; border-radius: 0.35em; vertical-align: middle; margin-left: 0.5rem\">MONEY</span>\n",
              "</mark>\n",
              ". \n",
              "<mark class=\"entity\" style=\"background: #aa9cfc; padding: 0.45em 0.6em; margin: 0 0.25em; line-height: 1; border-radius: 0.35em;\">\n",
              "    Tim Cook\n",
              "    <span style=\"font-size: 0.8em; font-weight: bold; line-height: 1; border-radius: 0.35em; vertical-align: middle; margin-left: 0.5rem\">PERSON</span>\n",
              "</mark>\n",
              " is the CEO.</div></span>"
            ]
          },
          "metadata": {}
        }
      ]
    },
    {
      "cell_type": "markdown",
      "source": [
        "## 5. Menganalisis Artikel Berita\n",
        "Sekarang mari kita coba pada teks yang lebih panjang dan kompleks, seperti paragraf dari artikel berita."
      ],
      "metadata": {
        "id": "zlknE0JaapZo"
      }
    },
    {
      "cell_type": "code",
      "source": [
        "news_text = \"\"\"\n",
        "Sundar Pichai, the CEO of Google, announced the new Pixel 8 phone at an event in New York City.\n",
        "The company plans to invest heavily in its artificial intelligence division, headquartered in Mountain View,\n",
        "California. The new device will compete with Apple's iPhone 15, which was launched last month in Cupertino.\n",
        "Analysts from JPMorgan Chase predict a strong sales quarter for both tech giants.\n",
        "\"\"\"\n",
        "\n",
        "# Proses artikel berita\n",
        "news_doc = nlp(news_text)\n",
        "\n",
        "# Visualisasikan entitasnya\n",
        "displacy.render(news_doc, style=\"ent\", jupyter=True)"
      ],
      "metadata": {
        "id": "tBDdr0EvZk5h",
        "colab": {
          "base_uri": "https://localhost:8080/",
          "height": 192
        },
        "outputId": "5619f06c-c5f5-4986-b79d-7126bfeba487"
      },
      "execution_count": 6,
      "outputs": [
        {
          "output_type": "display_data",
          "data": {
            "text/plain": [
              "<IPython.core.display.HTML object>"
            ],
            "text/html": [
              "<span class=\"tex2jax_ignore\"><div class=\"entities\" style=\"line-height: 2.5; direction: ltr\"><br>\n",
              "<mark class=\"entity\" style=\"background: #aa9cfc; padding: 0.45em 0.6em; margin: 0 0.25em; line-height: 1; border-radius: 0.35em;\">\n",
              "    Sundar Pichai\n",
              "    <span style=\"font-size: 0.8em; font-weight: bold; line-height: 1; border-radius: 0.35em; vertical-align: middle; margin-left: 0.5rem\">PERSON</span>\n",
              "</mark>\n",
              ", the CEO of \n",
              "<mark class=\"entity\" style=\"background: #7aecec; padding: 0.45em 0.6em; margin: 0 0.25em; line-height: 1; border-radius: 0.35em;\">\n",
              "    Google\n",
              "    <span style=\"font-size: 0.8em; font-weight: bold; line-height: 1; border-radius: 0.35em; vertical-align: middle; margin-left: 0.5rem\">ORG</span>\n",
              "</mark>\n",
              ", announced the new \n",
              "<mark class=\"entity\" style=\"background: #aa9cfc; padding: 0.45em 0.6em; margin: 0 0.25em; line-height: 1; border-radius: 0.35em;\">\n",
              "    Pixel\n",
              "    <span style=\"font-size: 0.8em; font-weight: bold; line-height: 1; border-radius: 0.35em; vertical-align: middle; margin-left: 0.5rem\">PERSON</span>\n",
              "</mark>\n",
              " \n",
              "<mark class=\"entity\" style=\"background: #e4e7d2; padding: 0.45em 0.6em; margin: 0 0.25em; line-height: 1; border-radius: 0.35em;\">\n",
              "    8\n",
              "    <span style=\"font-size: 0.8em; font-weight: bold; line-height: 1; border-radius: 0.35em; vertical-align: middle; margin-left: 0.5rem\">CARDINAL</span>\n",
              "</mark>\n",
              " phone at an event in \n",
              "<mark class=\"entity\" style=\"background: #feca74; padding: 0.45em 0.6em; margin: 0 0.25em; line-height: 1; border-radius: 0.35em;\">\n",
              "    New York City\n",
              "    <span style=\"font-size: 0.8em; font-weight: bold; line-height: 1; border-radius: 0.35em; vertical-align: middle; margin-left: 0.5rem\">GPE</span>\n",
              "</mark>\n",
              ".<br>The company plans to invest heavily in its artificial intelligence division, headquartered in \n",
              "<mark class=\"entity\" style=\"background: #feca74; padding: 0.45em 0.6em; margin: 0 0.25em; line-height: 1; border-radius: 0.35em;\">\n",
              "    Mountain View\n",
              "    <span style=\"font-size: 0.8em; font-weight: bold; line-height: 1; border-radius: 0.35em; vertical-align: middle; margin-left: 0.5rem\">GPE</span>\n",
              "</mark>\n",
              ",<br>\n",
              "<mark class=\"entity\" style=\"background: #feca74; padding: 0.45em 0.6em; margin: 0 0.25em; line-height: 1; border-radius: 0.35em;\">\n",
              "    California\n",
              "    <span style=\"font-size: 0.8em; font-weight: bold; line-height: 1; border-radius: 0.35em; vertical-align: middle; margin-left: 0.5rem\">GPE</span>\n",
              "</mark>\n",
              ". The new device will compete with \n",
              "<mark class=\"entity\" style=\"background: #7aecec; padding: 0.45em 0.6em; margin: 0 0.25em; line-height: 1; border-radius: 0.35em;\">\n",
              "    Apple\n",
              "    <span style=\"font-size: 0.8em; font-weight: bold; line-height: 1; border-radius: 0.35em; vertical-align: middle; margin-left: 0.5rem\">ORG</span>\n",
              "</mark>\n",
              "'s iPhone \n",
              "<mark class=\"entity\" style=\"background: #e4e7d2; padding: 0.45em 0.6em; margin: 0 0.25em; line-height: 1; border-radius: 0.35em;\">\n",
              "    15\n",
              "    <span style=\"font-size: 0.8em; font-weight: bold; line-height: 1; border-radius: 0.35em; vertical-align: middle; margin-left: 0.5rem\">CARDINAL</span>\n",
              "</mark>\n",
              ", which was launched \n",
              "<mark class=\"entity\" style=\"background: #bfe1d9; padding: 0.45em 0.6em; margin: 0 0.25em; line-height: 1; border-radius: 0.35em;\">\n",
              "    last month\n",
              "    <span style=\"font-size: 0.8em; font-weight: bold; line-height: 1; border-radius: 0.35em; vertical-align: middle; margin-left: 0.5rem\">DATE</span>\n",
              "</mark>\n",
              " in \n",
              "<mark class=\"entity\" style=\"background: #feca74; padding: 0.45em 0.6em; margin: 0 0.25em; line-height: 1; border-radius: 0.35em;\">\n",
              "    Cupertino\n",
              "    <span style=\"font-size: 0.8em; font-weight: bold; line-height: 1; border-radius: 0.35em; vertical-align: middle; margin-left: 0.5rem\">GPE</span>\n",
              "</mark>\n",
              ".<br>Analysts from \n",
              "<mark class=\"entity\" style=\"background: #7aecec; padding: 0.45em 0.6em; margin: 0 0.25em; line-height: 1; border-radius: 0.35em;\">\n",
              "    JPMorgan Chase\n",
              "    <span style=\"font-size: 0.8em; font-weight: bold; line-height: 1; border-radius: 0.35em; vertical-align: middle; margin-left: 0.5rem\">ORG</span>\n",
              "</mark>\n",
              " predict a strong sales quarter for both tech giants.<br></div></span>"
            ]
          },
          "metadata": {}
        }
      ]
    },
    {
      "cell_type": "markdown",
      "source": [
        "## 6. Dasar-dasar Pemrosesan Teks dengan spaCy\n",
        "Terkadang, Anda hanya tertarik pada jenis entitas tertentu. Anda dapat dengan mudah memfilternya."
      ],
      "metadata": {
        "id": "hwtxZ_rFapho"
      }
    },
    {
      "cell_type": "code",
      "source": [
        "# Temukan semua nama orang (PERSON) dalam artikel\n",
        "people = [ent.text for ent in news_doc.ents if ent.label_ == \"PERSON\"]\n",
        "print(\"Nama Orang yang Disebutkan:\", people)\n",
        "\n",
        "# Temukan semua organisasi (ORG)\n",
        "organizations = [ent.text for ent in news_doc.ents if ent.label_ == \"ORG\"]\n",
        "print(\"Organisasi yang Disebutkan:\", organizations)"
      ],
      "metadata": {
        "id": "HdqPrLIWZqQq",
        "colab": {
          "base_uri": "https://localhost:8080/"
        },
        "outputId": "0c76d7bd-e42d-48ef-e8d3-bf7d94a7c94f"
      },
      "execution_count": 7,
      "outputs": [
        {
          "output_type": "stream",
          "name": "stdout",
          "text": [
            "Nama Orang yang Disebutkan: ['Sundar Pichai', 'Pixel']\n",
            "Organisasi yang Disebutkan: ['Google', 'Apple', 'JPMorgan Chase']\n"
          ]
        }
      ]
    }
  ]
}