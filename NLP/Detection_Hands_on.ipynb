{
  "nbformat": 4,
  "nbformat_minor": 0,
  "metadata": {
    "colab": {
      "provenance": []
    },
    "kernelspec": {
      "name": "python3",
      "display_name": "Python 3"
    },
    "language_info": {
      "name": "python"
    }
  },
  "cells": [
    {
      "cell_type": "markdown",
      "source": [
        "# Ekstraksi Informasi - Named Entity Recognition (NER)\n",
        "Named Entity Recognition (NER) adalah tugas mendasar dalam NLP. Tujuannya adalah untuk menemukan entitas dunia nyata dalam teks dan mengkategorikannya.\n",
        "\n",
        "Contoh:\n",
        "\n",
        "\n",
        "*   Teks: Apple didirikan di Cupertino oleh Steve Jobs pada tahun 1976.\n",
        "*   Entitas:\n",
        "\n",
        "1.   Apple: ORG (Organisasi)\n",
        "2.   Cupertino: GPE (Lokasi Geopolitik)\n",
        "3.   Steve Jobs: PER (Orang)\n",
        "4.   1976: DATE (Tanggal)\n",
        "\n",
        "\n",
        "Kita akan menggunakan library NLP populer bernama spaCy, yang menyediakan model NER pra-terlatih yang sangat kuat dan mudah digunakan."
      ],
      "metadata": {
        "id": "bXPMEFa0YUbw"
      }
    },
    {
      "cell_type": "markdown",
      "source": [
        "## 1. Instalasi dan Pengaturan spaCy\n",
        "spaCy tidak hanya sebuah library, tetapi juga sebuah ekosistem. Setelah menginstal library, kita juga perlu mengunduh model bahasa yang berisi data terlatih."
      ],
      "metadata": {
        "id": "mqGCAqf6Z-Ql"
      }
    },
    {
      "cell_type": "code",
      "execution_count": null,
      "metadata": {
        "id": "9OKfFVBRYJUY"
      },
      "outputs": [],
      "source": [
        "# Import library\n",
        "import spacy\n",
        "\n",
        "# Muat model bahasa Inggris yang telah dilatih\n",
        "# 'sm' berarti model kecil (small)\n",
        "nlp = spacy.load(\"en_core_web_sm\")\n",
        "\n",
        "print(\"spaCy dan model berhasil dimuat!\")"
      ]
    },
    {
      "cell_type": "markdown",
      "source": [
        "## 2. Dasar-dasar Pemrosesan Teks dengan spaCy\n",
        "Saat Anda memproses teks dengan spaCy, ia akan melakukan serangkaian proses, termasuk tokenisasi, Part-of-Speech tagging, dan NER. Hasilnya adalah objek Doc yang kaya akan informasi."
      ],
      "metadata": {
        "id": "eiAL8iiZaYk2"
      }
    },
    {
      "cell_type": "code",
      "source": [
        "# Contoh teks\n",
        "text = \"Apple Inc. is looking at buying a U.K. startup for $1 billion. Tim Cook is the CEO.\"\n",
        "\n",
        "# Proses teks dengan model nlp\n",
        "doc = nlp(text)\n",
        "\n",
        "# Iterasi melalui token yang terdeteksi\n",
        "print(\"--- Token dan Info ---\")\n",
        "for token in doc:\n",
        "    print(f\"Token: {token.text}, POS Tag: {token.pos_}, Dependency: {token.dep_}\")"
      ],
      "metadata": {
        "id": "RvPcBvZmZG6p"
      },
      "execution_count": null,
      "outputs": []
    },
    {
      "cell_type": "markdown",
      "source": [
        "## 3. Melakukan Named Entity Recognition (NER)\n",
        "Objek Doc yang dihasilkan spaCy sudah berisi entitas yang terdeteksi. Kita bisa mengaksesnya melalui doc.ents."
      ],
      "metadata": {
        "id": "UQRDXjdqao-3"
      }
    },
    {
      "cell_type": "code",
      "source": [
        "# Proses teks yang sama lagi\n",
        "doc = nlp(text)\n",
        "\n",
        "# Iterasi melalui entitas yang ditemukan\n",
        "print(\"--- Entitas yang Ditemukan ---\")\n",
        "for ent in doc.ents:\n",
        "    print(f\"Entitas: {ent.text}, Label: {ent.label_}, Penjelasan: {spacy.explain(ent.label_)}\")"
      ],
      "metadata": {
        "id": "07p1roriZSqJ"
      },
      "execution_count": null,
      "outputs": []
    },
    {
      "cell_type": "markdown",
      "source": [
        "## 4. Visualisasi Entitas\n",
        "spaCy memiliki visualizer bawaan yang sangat bagus bernama displaCy untuk menyorot entitas langsung di dalam teks. Ini sangat membantu untuk analisis dan presentasi."
      ],
      "metadata": {
        "id": "x3e4DmfqapPe"
      }
    },
    {
      "cell_type": "code",
      "source": [
        "from spacy import displacy\n",
        "\n",
        "# Gunakan displaCy untuk merender hasil NER\n",
        "# style='ent' berarti kita ingin visualisasi entitas\n",
        "displacy.render(doc, style=\"ent\", jupyter=True)"
      ],
      "metadata": {
        "id": "aldOf1pOZfA1"
      },
      "execution_count": null,
      "outputs": []
    },
    {
      "cell_type": "markdown",
      "source": [
        "## 5. Menganalisis Artikel Berita\n",
        "Sekarang mari kita coba pada teks yang lebih panjang dan kompleks, seperti paragraf dari artikel berita."
      ],
      "metadata": {
        "id": "zlknE0JaapZo"
      }
    },
    {
      "cell_type": "code",
      "source": [
        "news_text = \"\"\"\n",
        "Sundar Pichai, the CEO of Google, announced the new Pixel 8 phone at an event in New York City.\n",
        "The company plans to invest heavily in its artificial intelligence division, headquartered in Mountain View,\n",
        "California. The new device will compete with Apple's iPhone 15, which was launched last month in Cupertino.\n",
        "Analysts from JPMorgan Chase predict a strong sales quarter for both tech giants.\n",
        "\"\"\"\n",
        "\n",
        "# Proses artikel berita\n",
        "news_doc = nlp(news_text)\n",
        "\n",
        "# Visualisasikan entitasnya\n",
        "displacy.render(news_doc, style=\"ent\", jupyter=True)"
      ],
      "metadata": {
        "id": "tBDdr0EvZk5h"
      },
      "execution_count": null,
      "outputs": []
    },
    {
      "cell_type": "markdown",
      "source": [
        "## 6. Dasar-dasar Pemrosesan Teks dengan spaCy\n",
        "Terkadang, Anda hanya tertarik pada jenis entitas tertentu. Anda dapat dengan mudah memfilternya."
      ],
      "metadata": {
        "id": "hwtxZ_rFapho"
      }
    },
    {
      "cell_type": "code",
      "source": [
        "# Temukan semua nama orang (PERSON) dalam artikel\n",
        "people = [ent.text for ent in news_doc.ents if ent.label_ == \"PERSON\"]\n",
        "print(\"Nama Orang yang Disebutkan:\", people)\n",
        "\n",
        "# Temukan semua organisasi (ORG)\n",
        "organizations = [ent.text for ent in news_doc.ents if ent.label_ == \"ORG\"]\n",
        "print(\"Organisasi yang Disebutkan:\", organizations)"
      ],
      "metadata": {
        "id": "HdqPrLIWZqQq"
      },
      "execution_count": null,
      "outputs": []
    }
  ]
}