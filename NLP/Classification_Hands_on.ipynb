{
  "nbformat": 4,
  "nbformat_minor": 0,
  "metadata": {
    "colab": {
      "provenance": []
    },
    "kernelspec": {
      "name": "python3",
      "display_name": "Python 3"
    },
    "language_info": {
      "name": "python"
    }
  },
  "cells": [
    {
      "cell_type": "markdown",
      "source": [
        "# Klasifikasi Teks - Analisis Sentimen Ulasan Film\n",
        "Analisis sentimen adalah proses memahami opini atau emosi di balik sebuah teks. Ini adalah tugas klasifikasi teks yang paling umum, digunakan oleh perusahaan untuk melacak sentimen pelanggan di media sosial, ulasan produk, dan banyak lagi.\n",
        "\n",
        "Kita akan menggunakan dataset **IMDb Movie Reviews** yang terkenal, yang berisi 50.000 ulasan film yang sudah diberi label positif atau negatif.\n"
      ],
      "metadata": {
        "id": "0ZvjFLMU2TEW"
      }
    },
    {
      "cell_type": "markdown",
      "source": [
        "## 1. Instalasi dan Import Library\n",
        "Pertama, kita akan menginstal dan mengimpor semua library yang dibutuhkan. Kita akan menggunakan scikit-learn untuk pemrosesan teks dan pembuatan model."
      ],
      "metadata": {
        "id": "XA_aWwRo2uCU"
      }
    },
    {
      "cell_type": "code",
      "execution_count": 1,
      "metadata": {
        "id": "1we4gBvP2HBx"
      },
      "outputs": [],
      "source": [
        "import pandas as pd\n",
        "import numpy as np\n",
        "import re\n",
        "from sklearn.model_selection import train_test_split\n",
        "from sklearn.feature_extraction.text import TfidfVectorizer\n",
        "from sklearn.linear_model import LogisticRegression\n",
        "from sklearn.metrics import accuracy_score, confusion_matrix, classification_report\n",
        "import seaborn as sns\n",
        "import matplotlib.pyplot as plt"
      ]
    },
    {
      "cell_type": "markdown",
      "source": [
        "## 2. Memuat dan Eksplorasi Data\n",
        "Kita akan memuat dataset dari file CSV dan melihat isinya untuk memahami strukturnya."
      ],
      "metadata": {
        "id": "kYlJUwL03_y8"
      }
    },
    {
      "cell_type": "code",
      "source": [
        "import kagglehub\n",
        "\n",
        "\n",
        "path = kagglehub.dataset_download(\"lakshmi25npathi/imdb-dataset-of-50k-movie-reviews\")\n",
        "\n",
        "print(\"Path to dataset files:\", path)"
      ],
      "metadata": {
        "id": "CtCffu9r8WDW",
        "colab": {
          "base_uri": "https://localhost:8080/"
        },
        "outputId": "cb86bc28-8c4d-46cc-c49c-4292cf77bb07"
      },
      "execution_count": 2,
      "outputs": [
        {
          "output_type": "stream",
          "name": "stdout",
          "text": [
            "Using Colab cache for faster access to the 'imdb-dataset-of-50k-movie-reviews' dataset.\n",
            "Path to dataset files: /kaggle/input/imdb-dataset-of-50k-movie-reviews\n"
          ]
        }
      ]
    },
    {
      "cell_type": "code",
      "source": [
        "df = pd.read_csv('/kaggle/input/imdb-dataset-of-50k-movie-reviews/IMDB Dataset.csv')\n",
        "\n",
        "# Tampilkan 5 baris pertama\n",
        "print(\"Data Head:\")\n",
        "print(df.head())\n",
        "\n",
        "# Lihat distribusi sentimen\n",
        "print(\"\\nDistribusi Sentimen:\")\n",
        "print(df['sentiment'].value_counts())\n",
        "\n",
        "# Visualisasikan distribusi\n",
        "sns.countplot(x='sentiment', data=df)\n",
        "plt.title('Distribusi Sentimen Ulasan Film')\n",
        "plt.show()"
      ],
      "metadata": {
        "id": "LgqmXvdn6spJ",
        "colab": {
          "base_uri": "https://localhost:8080/",
          "height": 698
        },
        "outputId": "3755426e-7b78-4588-91bb-82a7aae77e86"
      },
      "execution_count": 3,
      "outputs": [
        {
          "output_type": "stream",
          "name": "stdout",
          "text": [
            "Data Head:\n",
            "                                              review sentiment\n",
            "0  One of the other reviewers has mentioned that ...  positive\n",
            "1  A wonderful little production. <br /><br />The...  positive\n",
            "2  I thought this was a wonderful way to spend ti...  positive\n",
            "3  Basically there's a family where a little boy ...  negative\n",
            "4  Petter Mattei's \"Love in the Time of Money\" is...  positive\n",
            "\n",
            "Distribusi Sentimen:\n",
            "sentiment\n",
            "positive    25000\n",
            "negative    25000\n",
            "Name: count, dtype: int64\n"
          ]
        },
        {
          "output_type": "display_data",
          "data": {
            "text/plain": [
              "<Figure size 640x480 with 1 Axes>"
            ],
            "image/png": "[encoded data removed]"
          },
          "metadata": {}
        }
      ]
    },
    {
      "cell_type": "markdown",
      "source": [
        "## 3. Preprocessing Teks\n",
        "Teks mentah tidak bisa langsung dimasukkan ke model. Kita perlu membersihkannya terlebih dahulu. Proses ini meliputi:\n",
        "*   Mengubah teks menjadi huruf kecil (lowercase).\n",
        "*   Menghapus tag HTML.\n",
        "*   Menghapus karakter non-alfabet (seperti tanda baca dan angka).\n",
        "*   Menghapus spasi berlebih."
      ],
      "metadata": {
        "id": "N4njCm8r6lFz"
      }
    },
    {
      "cell_type": "code",
      "source": [
        "def preprocess_text(text):\n",
        "    # Mengubah ke huruf kecil\n",
        "    text = text.lower()\n",
        "    # Menghapus tag HTML\n",
        "    text = re.sub(r'<.*?>', '', text)\n",
        "    # Menghapus karakter non-alfabet\n",
        "    text = re.sub(r'[^a-zA-Z\\s]', '', text)\n",
        "    # Menghapus spasi berlebih\n",
        "    text = re.sub(r'\\s+', ' ', text).strip()\n",
        "    return text\n",
        "\n",
        "# Terapkan fungsi preprocessing ke kolom 'review'\n",
        "df['cleaned_review'] = df['review'].apply(preprocess_text)\n",
        "\n",
        "print(\"Contoh Teks Asli:\")\n",
        "print(df['review'][0])\n",
        "print(\"\\nContoh Teks Setelah Dibersihkan:\")\n",
        "print(df['cleaned_review'][0])"
      ],
      "metadata": {
        "id": "MaU7YS34-L9X",
        "colab": {
          "base_uri": "https://localhost:8080/"
        },
        "outputId": "eaad6fb0-b986-46d4-be43-e5f549436881"
      },
      "execution_count": 4,
      "outputs": [
        {
          "output_type": "stream",
          "name": "stdout",
          "text": [
            "Contoh Teks Asli:\n",
            "One of the other reviewers has mentioned that after watching just 1 Oz episode you'll be hooked. They are right, as this is exactly what happened with me.<br /><br />The first thing that struck me about Oz was its brutality and unflinching scenes of violence, which set in right from the word GO. Trust me, this is not a show for the faint hearted or timid. This show pulls no punches with regards to drugs, sex or violence. Its is hardcore, in the classic use of the word.<br /><br />It is called OZ as that is the nickname given to the Oswald Maximum Security State Penitentary. It focuses mainly on Emerald City, an experimental section of the prison where all the cells have glass fronts and face inwards, so privacy is not high on the agenda. Em City is home to many..Aryans, Muslims, gangstas, Latinos, Christians, Italians, Irish and more....so scuffles, death stares, dodgy dealings and shady agreements are never far away.<br /><br />I would say the main appeal of the show is due to the fact that it goes where other shows wouldn't dare. Forget pretty pictures painted for mainstream audiences, forget charm, forget romance...OZ doesn't mess around. The first episode I ever saw struck me as so nasty it was surreal, I couldn't say I was ready for it, but as I watched more, I developed a taste for Oz, and got accustomed to the high levels of graphic violence. Not just violence, but injustice (crooked guards who'll be sold out for a nickel, inmates who'll kill on order and get away with it, well mannered, middle class inmates being turned into prison bitches due to their lack of street skills or prison experience) Watching Oz, you may become comfortable with what is uncomfortable viewing....thats if you can get in touch with your darker side.\n",
            "\n",
            "Contoh Teks Setelah Dibersihkan:\n",
            "one of the other reviewers has mentioned that after watching just oz episode youll be hooked they are right as this is exactly what happened with methe first thing that struck me about oz was its brutality and unflinching scenes of violence which set in right from the word go trust me this is not a show for the faint hearted or timid this show pulls no punches with regards to drugs sex or violence its is hardcore in the classic use of the wordit is called oz as that is the nickname given to the oswald maximum security state penitentary it focuses mainly on emerald city an experimental section of the prison where all the cells have glass fronts and face inwards so privacy is not high on the agenda em city is home to manyaryans muslims gangstas latinos christians italians irish and moreso scuffles death stares dodgy dealings and shady agreements are never far awayi would say the main appeal of the show is due to the fact that it goes where other shows wouldnt dare forget pretty pictures painted for mainstream audiences forget charm forget romanceoz doesnt mess around the first episode i ever saw struck me as so nasty it was surreal i couldnt say i was ready for it but as i watched more i developed a taste for oz and got accustomed to the high levels of graphic violence not just violence but injustice crooked guards wholl be sold out for a nickel inmates wholl kill on order and get away with it well mannered middle class inmates being turned into prison bitches due to their lack of street skills or prison experience watching oz you may become comfortable with what is uncomfortable viewingthats if you can get in touch with your darker side\n"
          ]
        }
      ]
    },
    {
      "cell_type": "markdown",
      "source": [
        "## 4. Vektorisasi: Mengubah Teks menjadi Angka\n",
        "Model Machine Learning hanya mengerti angka. **TF-IDF (Term Frequency-Inverse Document Frequency)** adalah teknik populer untuk mengubah teks menjadi vektor numerik. TF-IDF akan mengukur seberapa penting sebuah kata dalam sebuah dokumen relatif terhadap keseluruhan koleksi dokumen (corpus)."
      ],
      "metadata": {
        "id": "1DPBuJnW6rVO"
      }
    },
    {
      "cell_type": "code",
      "source": [
        "# Inisialisasi TF-IDF Vectorizer\n",
        "# max_features=5000 artinya kita hanya akan mengambil 5000 kata paling penting\n",
        "# stop_words='english' akan menghapus kata-kata umum dalam bahasa Inggris (seperti 'the', 'a', 'is')\n",
        "tfidf = TfidfVectorizer(max_features=5000, stop_words='english')\n",
        "\n",
        "# Ubah teks menjadi fitur TF-IDF\n",
        "X = tfidf.fit_transform(df['cleaned_review']).toarray()\n",
        "\n",
        "# Ubah label sentimen menjadi angka (positive=1, negative=0)\n",
        "y = df['sentiment'].apply(lambda x: 1 if x == 'positive' else 0)\n",
        "\n",
        "print(\"Dimensi matriks fitur (X):\", X.shape)\n",
        "print(\"Dimensi vektor target (y):\", y.shape)"
      ],
      "metadata": {
        "id": "t1hglIeb_tKI",
        "colab": {
          "base_uri": "https://localhost:8080/"
        },
        "outputId": "fa0c3454-5b98-4b42-b97f-d430c470d102"
      },
      "execution_count": 5,
      "outputs": [
        {
          "output_type": "stream",
          "name": "stdout",
          "text": [
            "Dimensi matriks fitur (X): (50000, 5000)\n",
            "Dimensi vektor target (y): (50000,)\n"
          ]
        }
      ]
    },
    {
      "cell_type": "markdown",
      "source": [
        "## 5. Membagi Data: Training dan Testing\n",
        "Kita perlu membagi data kita menjadi dua bagian:\n",
        "\n",
        "*   Data Training (80%): Untuk melatih model.\n",
        "*   Data Testing (20%): Untuk menguji seberapa baik performa model pada data yang belum pernah dilihat sebelumnya.\n",
        "\n"
      ],
      "metadata": {
        "id": "1kKBYUbP6rlU"
      }
    },
    {
      "cell_type": "code",
      "source": [
        "X_train, X_test, y_train, y_test = train_test_split(X, y, test_size=0.2, random_state=42, stratify=y)\n",
        "\n",
        "print(\"Ukuran data training:\", X_train.shape)\n",
        "print(\"Ukuran data testing:\", X_test.shape)"
      ],
      "metadata": {
        "id": "b9f1Dp-fAMCa",
        "colab": {
          "base_uri": "https://localhost:8080/"
        },
        "outputId": "9a4637a3-e24e-4c96-9c5c-1d2ec9d75409"
      },
      "execution_count": 6,
      "outputs": [
        {
          "output_type": "stream",
          "name": "stdout",
          "text": [
            "Ukuran data training: (40000, 5000)\n",
            "Ukuran data testing: (10000, 5000)\n"
          ]
        }
      ]
    },
    {
      "cell_type": "markdown",
      "source": [
        "## 6. Membangun dan Melatih Model\n",
        "Kita akan menggunakan model klasifikasi sederhana namun kuat, yaitu **Logistic Regression**."
      ],
      "metadata": {
        "id": "eMnvRb-F6rw7"
      }
    },
    {
      "cell_type": "code",
      "source": [
        "# Inisialisasi model\n",
        "model = LogisticRegression(max_iter=1000)\n",
        "\n",
        "# Latih model dengan data training\n",
        "print(\"Melatih model...\")\n",
        "model.fit(X_train, y_train)\n",
        "print(\"Model selesai dilatih!\")"
      ],
      "metadata": {
        "id": "lunU-DAgAcis",
        "colab": {
          "base_uri": "https://localhost:8080/"
        },
        "outputId": "08317021-1b43-4464-d520-39088e571b7f"
      },
      "execution_count": 7,
      "outputs": [
        {
          "output_type": "stream",
          "name": "stdout",
          "text": [
            "Melatih model...\n",
            "Model selesai dilatih!\n"
          ]
        }
      ]
    },
    {
      "cell_type": "markdown",
      "source": [
        "## 7. Evaluasi Model\n",
        "Sekarang, kita evaluasi performa model menggunakan data testing. Kita akan melihat **akurasi** dan **confusion matrix.**"
      ],
      "metadata": {
        "id": "mrYiTuRD6r7H"
      }
    },
    {
      "cell_type": "code",
      "source": [
        "# Lakukan prediksi pada data test\n",
        "y_pred = model.predict(X_test)\n",
        "\n",
        "# Hitung akurasi\n",
        "accuracy = accuracy_score(y_test, y_pred)\n",
        "print(f\"Akurasi Model: {accuracy * 100:.2f}%\")\n",
        "\n",
        "# Tampilkan classification report\n",
        "print(\"\\nClassification Report:\")\n",
        "print(classification_report(y_test, y_pred, target_names=['Negative', 'Positive']))\n",
        "\n",
        "# Tampilkan confusion matrix\n",
        "cm = confusion_matrix(y_test, y_pred)\n",
        "sns.heatmap(cm, annot=True, fmt='d', cmap='Blues', xticklabels=['Negative', 'Positive'], yticklabels=['Negative', 'Positive'])\n",
        "plt.xlabel('Predicted Label')\n",
        "plt.ylabel('True Label')\n",
        "plt.title('Confusion Matrix')\n",
        "plt.show()"
      ],
      "metadata": {
        "id": "pz8MelP3A3FV",
        "colab": {
          "base_uri": "https://localhost:8080/",
          "height": 680
        },
        "outputId": "3c1783de-0826-44d3-b5b7-bdb6c56d3c4a"
      },
      "execution_count": 8,
      "outputs": [
        {
          "output_type": "stream",
          "name": "stdout",
          "text": [
            "Akurasi Model: 88.65%\n",
            "\n",
            "Classification Report:\n",
            "              precision    recall  f1-score   support\n",
            "\n",
            "    Negative       0.90      0.88      0.89      5000\n",
            "    Positive       0.88      0.90      0.89      5000\n",
            "\n",
            "    accuracy                           0.89     10000\n",
            "   macro avg       0.89      0.89      0.89     10000\n",
            "weighted avg       0.89      0.89      0.89     10000\n",
            "\n"
          ]
        },
        {
          "output_type": "display_data",
          "data": {
            "text/plain": [
              "<Figure size 640x480 with 2 Axes>"
            ],
            "image/png": "[encoded data removed]"
          },
          "metadata": {}
        }
      ]
    },
    {
      "cell_type": "markdown",
      "source": [
        "## 8. Tes dengan Ulasan Baru"
      ],
      "metadata": {
        "id": "1C-uDpiN6sEi"
      }
    },
    {
      "cell_type": "code",
      "source": [
        "def predict_sentiment(review_text):\n",
        "    # 1. Bersihkan teks\n",
        "    cleaned_text = preprocess_text(review_text)\n",
        "    # 2. Ubah teks menjadi vektor TF-IDF\n",
        "    vectorized_text = tfidf.transform([cleaned_text]).toarray()\n",
        "    # 3. Lakukan prediksi\n",
        "    prediction = model.predict(vectorized_text)\n",
        "    # 4. Tampilkan hasil\n",
        "    if prediction[0] == 1:\n",
        "        print(\"Sentimen: Positif\")\n",
        "    else:\n",
        "        print(\"Sentimen: Negatif\")\n",
        "\n",
        "# Uji coba\n",
        "predict_sentiment(\"The acting was superb and the plot was thrilling.\")\n",
        "predict_sentiment(\"A complete waste of time.\")"
      ],
      "metadata": {
        "id": "VNE4Tw9H3uGL",
        "colab": {
          "base_uri": "https://localhost:8080/"
        },
        "outputId": "11309e00-1601-4f52-cbb7-c32d6ef209c3"
      },
      "execution_count": 9,
      "outputs": [
        {
          "output_type": "stream",
          "name": "stdout",
          "text": [
            "Sentimen: Positif\n",
            "Sentimen: Negatif\n"
          ]
        }
      ]
    },
    {
      "cell_type": "code",
      "source": [],
      "metadata": {
        "id": "jIKsN0dFUst8"
      },
      "execution_count": null,
      "outputs": []
    }
  ]
}