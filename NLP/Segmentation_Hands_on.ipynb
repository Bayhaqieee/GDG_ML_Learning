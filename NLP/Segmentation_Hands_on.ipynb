{
  "nbformat": 4,
  "nbformat_minor": 0,
  "metadata": {
    "colab": {
      "provenance": []
    },
    "kernelspec": {
      "name": "python3",
      "display_name": "Python 3"
    },
    "language_info": {
      "name": "python"
    }
  },
  "cells": [
    {
      "cell_type": "markdown",
      "source": [
        "# Segmentasi Teks - Part-of-Speech (POS) Tagging\n",
        "Part-of-Speech (POS) Tagging adalah proses menganotasi setiap kata dalam teks dengan kategori gramatikalnya. Mengapa ini penting? Karena arti sebuah kata bisa berubah tergantung pada perannya dalam kalimat. Misalnya, kata \"book\" bisa menjadi kata benda (\"I read a book\") atau kata kerja (\"Please book a flight\").\n",
        "\n",
        "Dengan memahami peran setiap kata, mesin dapat mulai memahami struktur gramatikal sebuah kalimat. Kita akan kembali menggunakan spaCy karena ia melakukan POS tagging secara otomatis saat memproses teks."
      ],
      "metadata": {
        "id": "Ajp2CKqJhk_i"
      }
    },
    {
      "cell_type": "markdown",
      "source": [
        "## 1. Setting spaCy"
      ],
      "metadata": {
        "id": "T-VA9UdqhrNY"
      }
    },
    {
      "cell_type": "code",
      "execution_count": null,
      "metadata": {
        "colab": {
          "base_uri": "https://localhost:8080/"
        },
        "id": "gUT-vWsUeNCL",
        "outputId": "952f17a4-47e2-4f3b-a594-8994ff0b221c"
      },
      "outputs": [
        {
          "output_type": "stream",
          "name": "stdout",
          "text": [
            "spaCy dan model berhasil dimuat!\n"
          ]
        }
      ],
      "source": [
        "# Import library\n",
        "import spacy\n",
        "from collections import Counter\n",
        "import pandas as pd\n",
        "import matplotlib.pyplot as plt\n",
        "\n",
        "# Muat model bahasa Inggris yang telah dilatih\n",
        "nlp = spacy.load(\"en_core_web_sm\")\n",
        "\n",
        "print(\"spaCy dan model berhasil dimuat!\")"
      ]
    },
    {
      "cell_type": "markdown",
      "source": [
        "## 2. Melakukan POS Tagging pada Kalimat\n",
        "Saat kita membuat objek Doc di spaCy, setiap Token di dalamnya sudah memiliki informasi POS tag. Mari kita lihat atribut-atribut utamanya.\n",
        "\n",
        "\n",
        "*   token.text: Teks asli dari token/kata.\n",
        "*   token.pos_: Tag POS yang sederhana dan universal (misalnya, NOUN, VERB, ADJ).\n",
        "*   token.tag_: Tag POS yang lebih detail dan spesifik untuk bahasa tertentu (misalnya, NNP untuk kata benda tunggal yang merupakan nama diri).\n",
        "*   spacy.explain(): Fungsi untuk mendapatkan penjelasan dari sebuah tag.\n",
        "\n"
      ],
      "metadata": {
        "id": "FqkHJN8ch1cb"
      }
    },
    {
      "cell_type": "code",
      "source": [
        "# Contoh kalimat\n",
        "text = \"She is running quickly to the big green park.\"\n",
        "\n",
        "# Proses teks dengan model nlp\n",
        "doc = nlp(text)\n",
        "\n",
        "# Iterasi melalui setiap token dan cetak informasi POS-nya\n",
        "print(f\"{'Text':<15} {'POS (Coarse)':<15} {'POS (Fine)':<15} {'Explanation'}\")\n",
        "print(\"-\" * 60)\n",
        "\n",
        "for token in doc:\n",
        "    print(f\"{token.text:<15} {token.pos_:<15} {token.tag_:<15} {spacy.explain(token.pos_)}\")"
      ],
      "metadata": {
        "colab": {
          "base_uri": "https://localhost:8080/"
        },
        "id": "IW9BZmR4grfT",
        "outputId": "52d906a1-2438-4348-deaf-f812ee5e1f5f"
      },
      "execution_count": null,
      "outputs": [
        {
          "output_type": "stream",
          "name": "stdout",
          "text": [
            "Text            POS (Coarse)    POS (Fine)      Explanation\n",
            "------------------------------------------------------------\n",
            "She             PRON            PRP             pronoun\n",
            "is              AUX             VBZ             auxiliary\n",
            "running         VERB            VBG             verb\n",
            "quickly         ADV             RB              adverb\n",
            "to              ADP             IN              adposition\n",
            "the             DET             DT              determiner\n",
            "big             ADJ             JJ              adjective\n",
            "green           PROPN           NNP             proper noun\n",
            "park            NOUN            NN              noun\n",
            ".               PUNCT           .               punctuation\n"
          ]
        }
      ]
    },
    {
      "cell_type": "markdown",
      "source": [
        "## 3. Visualisasi Struktur Kalimat (Dependency Parsing)\n",
        "POS Tagging adalah fondasi untuk memahami bagaimana kata-kata saling berhubungan dalam sebuah kalimat. Hubungan ini disebut dependency. spaCy dapat memvisualisasikan pohon dependensi ini dengan displaCy, yang secara implisit menunjukkan peran setiap kata (POS tag) dalam struktur kalimat."
      ],
      "metadata": {
        "id": "hzoMlKhliPEm"
      }
    },
    {
      "cell_type": "code",
      "source": [
        "from spacy import displacy\n",
        "\n",
        "# Gunakan displaCy untuk merender hasil parsing\n",
        "# style='dep' berarti kita ingin visualisasi dependensi\n",
        "displacy.render(doc, style=\"dep\", jupyter=True, options={'distance': 90})"
      ],
      "metadata": {
        "colab": {
          "base_uri": "https://localhost:8080/",
          "height": 339
        },
        "id": "gWqMD-mPgti6",
        "outputId": "1d32a5ac-471e-4fa6-995b-f64120032d53"
      },
      "execution_count": null,
      "outputs": [
        {
          "output_type": "display_data",
          "data": {
            "text/plain": [
              "<IPython.core.display.HTML object>"
            ],
            "text/html": [
              "<span class=\"tex2jax_ignore\"><svg xmlns=\"http://www.w3.org/2000/svg\" xmlns:xlink=\"http://www.w3.org/1999/xlink\" xml:lang=\"en\" id=\"1739202f0db24e06b9ace16d9c4601ff-0\" class=\"displacy\" width=\"860\" height=\"317.0\" direction=\"ltr\" style=\"max-width: none; height: 317.0px; color: #000000; background: #ffffff; font-family: Arial; direction: ltr\">\n",
              "<text class=\"displacy-token\" fill=\"currentColor\" text-anchor=\"middle\" y=\"227.0\">\n",
              "    <tspan class=\"displacy-word\" fill=\"currentColor\" x=\"50\">She</tspan>\n",
              "    <tspan class=\"displacy-tag\" dy=\"2em\" fill=\"currentColor\" x=\"50\">PRON</tspan>\n",
              "</text>\n",
              "\n",
              "<text class=\"displacy-token\" fill=\"currentColor\" text-anchor=\"middle\" y=\"227.0\">\n",
              "    <tspan class=\"displacy-word\" fill=\"currentColor\" x=\"140\">is</tspan>\n",
              "    <tspan class=\"displacy-tag\" dy=\"2em\" fill=\"currentColor\" x=\"140\">AUX</tspan>\n",
              "</text>\n",
              "\n",
              "<text class=\"displacy-token\" fill=\"currentColor\" text-anchor=\"middle\" y=\"227.0\">\n",
              "    <tspan class=\"displacy-word\" fill=\"currentColor\" x=\"230\">running</tspan>\n",
              "    <tspan class=\"displacy-tag\" dy=\"2em\" fill=\"currentColor\" x=\"230\">VERB</tspan>\n",
              "</text>\n",
              "\n",
              "<text class=\"displacy-token\" fill=\"currentColor\" text-anchor=\"middle\" y=\"227.0\">\n",
              "    <tspan class=\"displacy-word\" fill=\"currentColor\" x=\"320\">quickly</tspan>\n",
              "    <tspan class=\"displacy-tag\" dy=\"2em\" fill=\"currentColor\" x=\"320\">ADV</tspan>\n",
              "</text>\n",
              "\n",
              "<text class=\"displacy-token\" fill=\"currentColor\" text-anchor=\"middle\" y=\"227.0\">\n",
              "    <tspan class=\"displacy-word\" fill=\"currentColor\" x=\"410\">to</tspan>\n",
              "    <tspan class=\"displacy-tag\" dy=\"2em\" fill=\"currentColor\" x=\"410\">ADP</tspan>\n",
              "</text>\n",
              "\n",
              "<text class=\"displacy-token\" fill=\"currentColor\" text-anchor=\"middle\" y=\"227.0\">\n",
              "    <tspan class=\"displacy-word\" fill=\"currentColor\" x=\"500\">the</tspan>\n",
              "    <tspan class=\"displacy-tag\" dy=\"2em\" fill=\"currentColor\" x=\"500\">DET</tspan>\n",
              "</text>\n",
              "\n",
              "<text class=\"displacy-token\" fill=\"currentColor\" text-anchor=\"middle\" y=\"227.0\">\n",
              "    <tspan class=\"displacy-word\" fill=\"currentColor\" x=\"590\">big</tspan>\n",
              "    <tspan class=\"displacy-tag\" dy=\"2em\" fill=\"currentColor\" x=\"590\">ADJ</tspan>\n",
              "</text>\n",
              "\n",
              "<text class=\"displacy-token\" fill=\"currentColor\" text-anchor=\"middle\" y=\"227.0\">\n",
              "    <tspan class=\"displacy-word\" fill=\"currentColor\" x=\"680\">green</tspan>\n",
              "    <tspan class=\"displacy-tag\" dy=\"2em\" fill=\"currentColor\" x=\"680\">PROPN</tspan>\n",
              "</text>\n",
              "\n",
              "<text class=\"displacy-token\" fill=\"currentColor\" text-anchor=\"middle\" y=\"227.0\">\n",
              "    <tspan class=\"displacy-word\" fill=\"currentColor\" x=\"770\">park.</tspan>\n",
              "    <tspan class=\"displacy-tag\" dy=\"2em\" fill=\"currentColor\" x=\"770\">NOUN</tspan>\n",
              "</text>\n",
              "\n",
              "<g class=\"displacy-arrow\">\n",
              "    <path class=\"displacy-arc\" id=\"arrow-1739202f0db24e06b9ace16d9c4601ff-0-0\" stroke-width=\"2px\" d=\"M70,182.0 C70,92.0 220.0,92.0 220.0,182.0\" fill=\"none\" stroke=\"currentColor\"/>\n",
              "    <text dy=\"1.25em\" style=\"font-size: 0.8em; letter-spacing: 1px\">\n",
              "        <textPath xlink:href=\"#arrow-1739202f0db24e06b9ace16d9c4601ff-0-0\" class=\"displacy-label\" startOffset=\"50%\" side=\"left\" fill=\"currentColor\" text-anchor=\"middle\">nsubj</textPath>\n",
              "    </text>\n",
              "    <path class=\"displacy-arrowhead\" d=\"M70,184.0 L62,172.0 78,172.0\" fill=\"currentColor\"/>\n",
              "</g>\n",
              "\n",
              "<g class=\"displacy-arrow\">\n",
              "    <path class=\"displacy-arc\" id=\"arrow-1739202f0db24e06b9ace16d9c4601ff-0-1\" stroke-width=\"2px\" d=\"M160,182.0 C160,137.0 215.0,137.0 215.0,182.0\" fill=\"none\" stroke=\"currentColor\"/>\n",
              "    <text dy=\"1.25em\" style=\"font-size: 0.8em; letter-spacing: 1px\">\n",
              "        <textPath xlink:href=\"#arrow-1739202f0db24e06b9ace16d9c4601ff-0-1\" class=\"displacy-label\" startOffset=\"50%\" side=\"left\" fill=\"currentColor\" text-anchor=\"middle\">aux</textPath>\n",
              "    </text>\n",
              "    <path class=\"displacy-arrowhead\" d=\"M160,184.0 L152,172.0 168,172.0\" fill=\"currentColor\"/>\n",
              "</g>\n",
              "\n",
              "<g class=\"displacy-arrow\">\n",
              "    <path class=\"displacy-arc\" id=\"arrow-1739202f0db24e06b9ace16d9c4601ff-0-2\" stroke-width=\"2px\" d=\"M250,182.0 C250,137.0 305.0,137.0 305.0,182.0\" fill=\"none\" stroke=\"currentColor\"/>\n",
              "    <text dy=\"1.25em\" style=\"font-size: 0.8em; letter-spacing: 1px\">\n",
              "        <textPath xlink:href=\"#arrow-1739202f0db24e06b9ace16d9c4601ff-0-2\" class=\"displacy-label\" startOffset=\"50%\" side=\"left\" fill=\"currentColor\" text-anchor=\"middle\">advmod</textPath>\n",
              "    </text>\n",
              "    <path class=\"displacy-arrowhead\" d=\"M305.0,184.0 L313.0,172.0 297.0,172.0\" fill=\"currentColor\"/>\n",
              "</g>\n",
              "\n",
              "<g class=\"displacy-arrow\">\n",
              "    <path class=\"displacy-arc\" id=\"arrow-1739202f0db24e06b9ace16d9c4601ff-0-3\" stroke-width=\"2px\" d=\"M250,182.0 C250,92.0 400.0,92.0 400.0,182.0\" fill=\"none\" stroke=\"currentColor\"/>\n",
              "    <text dy=\"1.25em\" style=\"font-size: 0.8em; letter-spacing: 1px\">\n",
              "        <textPath xlink:href=\"#arrow-1739202f0db24e06b9ace16d9c4601ff-0-3\" class=\"displacy-label\" startOffset=\"50%\" side=\"left\" fill=\"currentColor\" text-anchor=\"middle\">prep</textPath>\n",
              "    </text>\n",
              "    <path class=\"displacy-arrowhead\" d=\"M400.0,184.0 L408.0,172.0 392.0,172.0\" fill=\"currentColor\"/>\n",
              "</g>\n",
              "\n",
              "<g class=\"displacy-arrow\">\n",
              "    <path class=\"displacy-arc\" id=\"arrow-1739202f0db24e06b9ace16d9c4601ff-0-4\" stroke-width=\"2px\" d=\"M520,182.0 C520,47.0 765.0,47.0 765.0,182.0\" fill=\"none\" stroke=\"currentColor\"/>\n",
              "    <text dy=\"1.25em\" style=\"font-size: 0.8em; letter-spacing: 1px\">\n",
              "        <textPath xlink:href=\"#arrow-1739202f0db24e06b9ace16d9c4601ff-0-4\" class=\"displacy-label\" startOffset=\"50%\" side=\"left\" fill=\"currentColor\" text-anchor=\"middle\">det</textPath>\n",
              "    </text>\n",
              "    <path class=\"displacy-arrowhead\" d=\"M520,184.0 L512,172.0 528,172.0\" fill=\"currentColor\"/>\n",
              "</g>\n",
              "\n",
              "<g class=\"displacy-arrow\">\n",
              "    <path class=\"displacy-arc\" id=\"arrow-1739202f0db24e06b9ace16d9c4601ff-0-5\" stroke-width=\"2px\" d=\"M610,182.0 C610,92.0 760.0,92.0 760.0,182.0\" fill=\"none\" stroke=\"currentColor\"/>\n",
              "    <text dy=\"1.25em\" style=\"font-size: 0.8em; letter-spacing: 1px\">\n",
              "        <textPath xlink:href=\"#arrow-1739202f0db24e06b9ace16d9c4601ff-0-5\" class=\"displacy-label\" startOffset=\"50%\" side=\"left\" fill=\"currentColor\" text-anchor=\"middle\">amod</textPath>\n",
              "    </text>\n",
              "    <path class=\"displacy-arrowhead\" d=\"M610,184.0 L602,172.0 618,172.0\" fill=\"currentColor\"/>\n",
              "</g>\n",
              "\n",
              "<g class=\"displacy-arrow\">\n",
              "    <path class=\"displacy-arc\" id=\"arrow-1739202f0db24e06b9ace16d9c4601ff-0-6\" stroke-width=\"2px\" d=\"M700,182.0 C700,137.0 755.0,137.0 755.0,182.0\" fill=\"none\" stroke=\"currentColor\"/>\n",
              "    <text dy=\"1.25em\" style=\"font-size: 0.8em; letter-spacing: 1px\">\n",
              "        <textPath xlink:href=\"#arrow-1739202f0db24e06b9ace16d9c4601ff-0-6\" class=\"displacy-label\" startOffset=\"50%\" side=\"left\" fill=\"currentColor\" text-anchor=\"middle\">compound</textPath>\n",
              "    </text>\n",
              "    <path class=\"displacy-arrowhead\" d=\"M700,184.0 L692,172.0 708,172.0\" fill=\"currentColor\"/>\n",
              "</g>\n",
              "\n",
              "<g class=\"displacy-arrow\">\n",
              "    <path class=\"displacy-arc\" id=\"arrow-1739202f0db24e06b9ace16d9c4601ff-0-7\" stroke-width=\"2px\" d=\"M430,182.0 C430,2.0 770.0,2.0 770.0,182.0\" fill=\"none\" stroke=\"currentColor\"/>\n",
              "    <text dy=\"1.25em\" style=\"font-size: 0.8em; letter-spacing: 1px\">\n",
              "        <textPath xlink:href=\"#arrow-1739202f0db24e06b9ace16d9c4601ff-0-7\" class=\"displacy-label\" startOffset=\"50%\" side=\"left\" fill=\"currentColor\" text-anchor=\"middle\">pobj</textPath>\n",
              "    </text>\n",
              "    <path class=\"displacy-arrowhead\" d=\"M770.0,184.0 L778.0,172.0 762.0,172.0\" fill=\"currentColor\"/>\n",
              "</g>\n",
              "</svg></span>"
            ]
          },
          "metadata": {}
        }
      ]
    },
    {
      "cell_type": "markdown",
      "source": [
        "## 4. Menganalisis Frekuensi POS Tag\n",
        "Kita bisa menganalisis komposisi sebuah teks dengan menghitung frekuensi setiap jenis POS tag. Ini bisa memberi kita gambaran tentang gaya penulisan. Teks deskriptif mungkin memiliki banyak kata sifat (ADJ), sementara teks instruksional mungkin memiliki banyak kata kerja (VERB)."
      ],
      "metadata": {
        "id": "U4gI_bHXifom"
      }
    },
    {
      "cell_type": "code",
      "source": [
        "long_text = \"\"\"\n",
        "Natural language processing (NLP) is a subfield of linguistics, computer science, and artificial intelligence\n",
        "concerned with the interactions between computers and human language, in particular how to program computers\n",
        "to process and analyze large amounts of natural language data. The goal is a computer capable of\n",
        "understanding the contents of documents, including the contextual nuances of the language within them.\n",
        "\"\"\"\n",
        "\n",
        "# Proses teks\n",
        "long_doc = nlp(long_text)\n",
        "\n",
        "# Hitung frekuensi setiap POS tag\n",
        "pos_counts = Counter(token.pos_ for token in long_doc)\n",
        "\n",
        "# Ubah ke DataFrame untuk visualisasi yang lebih mudah\n",
        "pos_df = pd.DataFrame(pos_counts.items(), columns=['POS_Tag', 'Frequency'])\n",
        "pos_df = pos_df.sort_values(by='Frequency', ascending=False)\n",
        "\n",
        "# Tampilkan dalam bentuk bar chart\n",
        "pos_df.plot.bar(x='POS_Tag', y='Frequency', legend=False, figsize=(10, 5))\n",
        "plt.title('Frekuensi Part-of-Speech dalam Teks')\n",
        "plt.ylabel('Jumlah Kemunculan')\n",
        "plt.xlabel('Tipe POS Tag')\n",
        "plt.xticks(rotation=45)\n",
        "plt.show()"
      ],
      "metadata": {
        "colab": {
          "base_uri": "https://localhost:8080/",
          "height": 517
        },
        "id": "Jfps08-Ggxyc",
        "outputId": "0ae2bd8b-847a-4ae1-e604-0bceab582d6e"
      },
      "execution_count": null,
      "outputs": [
        {
          "output_type": "display_data",
          "data": {
            "text/plain": [
              "<Figure size 1000x500 with 1 Axes>"
            ],
            "image/png": "[encoded data removed]"
          },
          "metadata": {}
        }
      ]
    },
    {
      "cell_type": "markdown",
      "source": [
        "## 7. Aplikasi Praktis: Ekstraksi Informasi Sederhana\n",
        "Dengan POS tagging, kita bisa dengan mudah mengekstrak tipe kata tertentu. Misalnya, mari kita ekstrak semua kata benda (nouns) dan kata sifat (adjectives) dari sebuah ulasan produk untuk menemukan fitur utama dan opini tentangnya."
      ],
      "metadata": {
        "id": "DCu2xbO9ioRV"
      }
    },
    {
      "cell_type": "code",
      "source": [
        "review_text = \"The new Pixel 8 has a brilliant camera and a very fast processor, but the battery life is poor.\"\n",
        "\n",
        "review_doc = nlp(review_text)\n",
        "\n",
        "# Ekstrak semua kata benda (fitur produk)\n",
        "nouns = [token.text for token in review_doc if token.pos_ == 'NOUN']\n",
        "# Ekstrak semua kata sifat (opini)\n",
        "adjectives = [token.text for token in review_doc if token.pos_ == 'ADJ']\n",
        "\n",
        "print(\"Fitur Produk yang Disebutkan (Nouns):\", nouns)\n",
        "print(\"Kata-kata Opini (Adjectives):\", adjectives)"
      ],
      "metadata": {
        "colab": {
          "base_uri": "https://localhost:8080/"
        },
        "id": "D7gV9tjEg9T-",
        "outputId": "72f4f4b6-8084-40c5-f382-38c6ac6492e7"
      },
      "execution_count": null,
      "outputs": [
        {
          "output_type": "stream",
          "name": "stdout",
          "text": [
            "Fitur Produk yang Disebutkan (Nouns): ['camera', 'processor', 'battery', 'life']\n",
            "Kata-kata Opini (Adjectives): ['new', 'brilliant', 'fast', 'poor']\n"
          ]
        }
      ]
    }
  ]
}